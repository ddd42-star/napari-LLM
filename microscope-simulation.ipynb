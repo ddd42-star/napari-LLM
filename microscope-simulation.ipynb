{
 "cells": [
  {
   "cell_type": "code",
   "execution_count": 1,
   "metadata": {},
   "outputs": [],
   "source": [
    "import pymmcore_plus"
   ]
  },
  {
   "cell_type": "code",
   "execution_count": 2,
   "metadata": {},
   "outputs": [
    {
     "name": "stdout",
     "output_type": "stream",
     "text": [
      "('DHub', 'Camera', 'Dichroic', 'Emission', 'Excitation', 'Objective', 'Z', 'Path', 'XY', 'White Light Shutter', 'Autofocus', 'LED', 'LED Shutter', 'Core')\n"
     ]
    }
   ],
   "source": [
    "# Initialize microscope\n",
    "core = pymmcore_plus.CMMCorePlus.instance()\n",
    "\n",
    "# load the configuration of the microscope\n",
    "# Give the .gft file with the specific configuration\n",
    "core.loadSystemConfiguration()\n",
    "\n",
    "# print loaded devices\n",
    "print(core.getLoadedDevices())"
   ]
  },
  {
   "cell_type": "code",
   "execution_count": null,
   "metadata": {},
   "outputs": [],
   "source": [
    "core.describe()"
   ]
  },
  {
   "cell_type": "markdown",
   "metadata": {},
   "source": [
    "The adapter is ?"
   ]
  },
  {
   "cell_type": "code",
   "execution_count": null,
   "metadata": {},
   "outputs": [],
   "source": [
    "core.getDeviceName(\"Camera\")"
   ]
  },
  {
   "cell_type": "code",
   "execution_count": null,
   "metadata": {},
   "outputs": [],
   "source": [
    "core.getYPosition()"
   ]
  },
  {
   "cell_type": "code",
   "execution_count": null,
   "metadata": {},
   "outputs": [],
   "source": [
    "core.getAutoShutter()"
   ]
  },
  {
   "cell_type": "code",
   "execution_count": null,
   "metadata": {},
   "outputs": [],
   "source": [
    "class AutoShutterHandler:\n",
    "    def __init__(self, core):\n",
    "        self.core = core\n",
    "        self.auto_shutter_state = None\n",
    "        self.core.events.autoShutterSet.connect(self.set_auto_shutter)\n",
    "        print(\"Callback connected.\")\n",
    "\n",
    "    def set_auto_shutter(self, set_auto: bool):\n",
    "        self.auto_shutter_state = set_auto\n",
    "        print(f\"[Callback] Auto shutter set to: {set_auto}\")\n",
    "\n",
    "    def disconnect(self):\n",
    "        self.core.events.autoShutterSet.disconnect(self.set_auto_shutter)\n",
    "        print(\"Callback disconnected.\")"
   ]
  },
  {
   "cell_type": "code",
   "execution_count": null,
   "metadata": {},
   "outputs": [],
   "source": [
    "# connect the event\n",
    "handler = AutoShutterHandler(core)\n",
    "# change value of event shutter\n",
    "core.setAutoShutter(False)\n",
    "# check the new value\n",
    "print(handler.auto_shutter_state)\n",
    "# new event\n",
    "core.setAutoShutter(True)\n",
    "# check new value\n",
    "print(handler.auto_shutter_state)\n",
    "# new event\n",
    "core.setAutoShutter(False)\n",
    "# disconnect handler\n",
    "handler.disconnect()\n",
    "# try to triggger callback\n",
    "core.setAutoShutter(False)\n",
    "# value remains as last event value\n",
    "print(handler.auto_shutter_state)"
   ]
  },
  {
   "cell_type": "code",
   "execution_count": null,
   "metadata": {},
   "outputs": [],
   "source": [
    "core.getChannelGroup()"
   ]
  },
  {
   "cell_type": "code",
   "execution_count": null,
   "metadata": {},
   "outputs": [],
   "source": [
    "core.getAvailableConfigGroups()"
   ]
  },
  {
   "cell_type": "code",
   "execution_count": null,
   "metadata": {},
   "outputs": [],
   "source": [
    "class ChannelGroupHandler:\n",
    "    def __init__(self, core):\n",
    "        self.core = core\n",
    "        self.channel_group_state = None\n",
    "        self.core.events.channelGroupChanged.connect(self.set_channel_group)\n",
    "        print(\"Callback connected.\")\n",
    "\n",
    "    def set_channel_group(self,newChannelGroupName: str):\n",
    "        self.channel_group_state = newChannelGroupName\n",
    "        print(f\"[Callback] Group Channel set to: {newChannelGroupName}\")\n",
    "\n",
    "    def disconnect(self):\n",
    "        self.core.events.channelGroupChanged.disconnect(self.set_channel_group)\n",
    "        print(\"Callback disconnected.\")"
   ]
  },
  {
   "cell_type": "code",
   "execution_count": null,
   "metadata": {},
   "outputs": [],
   "source": [
    "# get current Group Channel\n",
    "print(core.getChannelGroup())\n",
    "# connect new handler\n",
    "handler_channel = ChannelGroupHandler(core)\n",
    "# set new channel group\n",
    "core.setChannelGroup('Channel')\n",
    "# check the state\n",
    "handler_channel.channel_group_state\n",
    "# set new channel\n",
    "core.setChannelGroup('Camera')\n",
    "# check the state\n",
    "handler_channel.channel_group_state\n",
    "# disconnect the channel handler\n",
    "handler_channel.disconnect()"
   ]
  },
  {
   "cell_type": "code",
   "execution_count": null,
   "metadata": {},
   "outputs": [],
   "source": [
    "core.setChannelGroup('LightPath')"
   ]
  },
  {
   "cell_type": "code",
   "execution_count": null,
   "metadata": {},
   "outputs": [],
   "source": [
    "handler_channel.channel_group_state"
   ]
  },
  {
   "cell_type": "code",
   "execution_count": null,
   "metadata": {},
   "outputs": [],
   "source": [
    "core.getAvailableConfigs('Camera')"
   ]
  },
  {
   "cell_type": "code",
   "execution_count": null,
   "metadata": {},
   "outputs": [],
   "source": [
    "core.getConfigData('Camera', 'HighRes').dict()"
   ]
  },
  {
   "cell_type": "code",
   "execution_count": null,
   "metadata": {},
   "outputs": [],
   "source": [
    "core.getAvailableConfigs('Channel')"
   ]
  },
  {
   "cell_type": "code",
   "execution_count": null,
   "metadata": {},
   "outputs": [],
   "source": [
    "core.getConfigData('Channel', 'Cy5').dict()"
   ]
  },
  {
   "cell_type": "code",
   "execution_count": null,
   "metadata": {},
   "outputs": [],
   "source": [
    "core.getConfigGroupState('Channel').dict()"
   ]
  },
  {
   "cell_type": "code",
   "execution_count": null,
   "metadata": {},
   "outputs": [],
   "source": [
    "core.getCurrentConfig('Channel')"
   ]
  },
  {
   "cell_type": "code",
   "execution_count": null,
   "metadata": {},
   "outputs": [],
   "source": [
    "core.getAvailableConfigs('Channel')"
   ]
  },
  {
   "cell_type": "code",
   "execution_count": null,
   "metadata": {},
   "outputs": [],
   "source": [
    "class ConfigurationHandler:\n",
    "\n",
    "    def __init__(self, core):\n",
    "        self.core = core\n",
    "        self.config_set_state = None\n",
    "        self.config_delete_state = None\n",
    "        self.config_define_state = None\n",
    "        #self.config_group_change_state = None\n",
    "        self.config_group_delete_state = None\n",
    "        self.core.events.configSet.connect(self.config_set)\n",
    "        self.core.events.configDeleted.connect(self.config_delete)\n",
    "        self.core.events.configDefined.connect(self.config_define)\n",
    "        self.core.events.configGroupDeleted.connect(self.config_group_deleted)\n",
    "        print(\"Callback connected\")\n",
    "\n",
    "    def config_set(self, groupName: str, configName: str):\n",
    "        self.config_set_state = (groupName,configName) # f'The config group {groupName} has the new configuration {configName}'\n",
    "        print(f'[Callback] The config group {groupName} has the new configuration {configName}')\n",
    "\n",
    "    def config_delete(self, groupName: str, configName: str):\n",
    "        # one can delete the complete config or just a specific property\n",
    "        # check every time with core.getAvailableConfigs(groupName)\n",
    "        self.config_delete_state = (groupName,configName)\n",
    "        print(f'[Callback] The config group {groupName} with the configuration {configName} was deleted.')\n",
    "\n",
    "    def config_define(self, groupName: str, configName: str, deviceLabel: str, propertyName: str, value: str):\n",
    "        self.config_define_state = (groupName, configName, deviceLabel, propertyName, value)\n",
    "        print(f'[Callback] The new configuration ({groupName}, {configName}, {deviceLabel}, {propertyName}, {value}) was defined.')\n",
    "\n",
    "    def config_group_deleted(self, groupName: str):\n",
    "        self.config_group_delete_state = groupName\n",
    "        print(f'The config group {groupName} was deleted')\n",
    "\n",
    "    def disconnect(self):\n",
    "        self.core.events.configSet.disconnect(self.config_set)\n",
    "        self.core.events.configDeleted.disconnect(self.config_delete)\n",
    "        self.core.events.configDefined.disconnect(self.config_define)\n",
    "        self.core.events.configGroupDeleted.disconnect(self.config_group_deleted)"
   ]
  },
  {
   "cell_type": "code",
   "execution_count": null,
   "metadata": {},
   "outputs": [],
   "source": [
    "# get available configuration Group\n",
    "print(core.getAvailableConfigGroups())\n",
    "\n",
    "# get available configs for channel\n",
    "print(core.getAvailableConfigs('Channel'))\n",
    "\n",
    "# initialize callback\n",
    "handler_config = ConfigurationHandler(core)\n",
    "\n",
    "# get current config for Channel\n",
    "print(core.getCurrentConfig('Channel'))\n",
    "\n",
    "# set new config for channel\n",
    "core.setConfig('Channel', 'FITC')\n",
    "\n",
    "# check new value for config\n",
    "print(core.getCurrentConfig('Channel'))\n",
    "\n",
    "# access value in the handler\n",
    "print(handler_config.config_set_state)\n",
    "\n",
    "# set new value config for channel\n",
    "core.setConfig('Channel', 'Cy5')\n",
    "\n",
    "# check new value for config\n",
    "print(core.getCurrentConfig('Channel'))\n",
    "\n",
    "# disconnect callback\n",
    "handler_config.disconnect()\n",
    "\n",
    "# set new config\n",
    "core.setConfig('Channel', 'DAPI')\n",
    "\n",
    "# check that the callback value didn't change\n",
    "print(handler_config.config_set_state)"
   ]
  },
  {
   "cell_type": "code",
   "execution_count": null,
   "metadata": {},
   "outputs": [],
   "source": [
    "core.getConfigGroupObject('Channel')"
   ]
  },
  {
   "cell_type": "code",
   "execution_count": null,
   "metadata": {},
   "outputs": [],
   "source": [
    "# delete a configuration group\n",
    "def config_group_deleted(var: str):\n",
    "    print(f'The config group {var} was deleted')"
   ]
  },
  {
   "cell_type": "code",
   "execution_count": null,
   "metadata": {},
   "outputs": [],
   "source": [
    "core.events.configGroupDeleted.disconnect(config_group_deleted)"
   ]
  },
  {
   "cell_type": "code",
   "execution_count": null,
   "metadata": {},
   "outputs": [],
   "source": [
    "core.defineConfigGroup('Test')"
   ]
  },
  {
   "cell_type": "code",
   "execution_count": null,
   "metadata": {},
   "outputs": [],
   "source": [
    "core.getAvailableConfigGroups()"
   ]
  },
  {
   "cell_type": "code",
   "execution_count": null,
   "metadata": {},
   "outputs": [],
   "source": [
    "try: \n",
    "    core.deleteConfigGroup('Test')\n",
    "except:\n",
    "    pass"
   ]
  },
  {
   "cell_type": "code",
   "execution_count": null,
   "metadata": {},
   "outputs": [],
   "source": [
    "core.getAvailableConfigGroups()"
   ]
  },
  {
   "cell_type": "code",
   "execution_count": null,
   "metadata": {},
   "outputs": [],
   "source": [
    "core.getAvailableConfigGroups()"
   ]
  },
  {
   "cell_type": "code",
   "execution_count": null,
   "metadata": {},
   "outputs": [],
   "source": [
    "handler_delete_config = ConfigurationHandler(core)"
   ]
  },
  {
   "cell_type": "code",
   "execution_count": null,
   "metadata": {},
   "outputs": [],
   "source": [
    "core.getCurrentConfig('Channel')"
   ]
  },
  {
   "cell_type": "code",
   "execution_count": null,
   "metadata": {},
   "outputs": [],
   "source": [
    "core.setConfig('Channel', 'DAPI')"
   ]
  },
  {
   "cell_type": "code",
   "execution_count": null,
   "metadata": {},
   "outputs": [],
   "source": [
    "core.getConfigData('Channel', 'DAPI').dict()"
   ]
  },
  {
   "cell_type": "code",
   "execution_count": null,
   "metadata": {},
   "outputs": [],
   "source": [
    "core.getConfigData('Channel', 'FITC').dict()"
   ]
  },
  {
   "cell_type": "code",
   "execution_count": null,
   "metadata": {},
   "outputs": [],
   "source": [
    "core.getConfigData('Channel', 'DAPI').dict()"
   ]
  },
  {
   "cell_type": "code",
   "execution_count": null,
   "metadata": {},
   "outputs": [],
   "source": [
    "core.deleteConfig('Channel', 'DAPI')"
   ]
  },
  {
   "cell_type": "code",
   "execution_count": null,
   "metadata": {},
   "outputs": [],
   "source": [
    "core.getAvailableConfigs('Channel')"
   ]
  },
  {
   "cell_type": "code",
   "execution_count": null,
   "metadata": {},
   "outputs": [],
   "source": [
    "core.deleteConfig()"
   ]
  },
  {
   "cell_type": "code",
   "execution_count": null,
   "metadata": {},
   "outputs": [],
   "source": [
    "handler_delete_config.disconnect()"
   ]
  },
  {
   "cell_type": "code",
   "execution_count": null,
   "metadata": {},
   "outputs": [],
   "source": [
    "core.getConfigData('Channel', 'DAPI').dict()"
   ]
  },
  {
   "cell_type": "code",
   "execution_count": null,
   "metadata": {},
   "outputs": [],
   "source": [
    "core.getConfigData('Channel', 'DAPI').append"
   ]
  },
  {
   "cell_type": "code",
   "execution_count": null,
   "metadata": {},
   "outputs": [],
   "source": [
    "core.getDevicePropertyNames('Dichroic')"
   ]
  },
  {
   "cell_type": "code",
   "execution_count": null,
   "metadata": {},
   "outputs": [],
   "source": [
    "core.getProperty('Dichroic','ClosedPosition')"
   ]
  },
  {
   "cell_type": "code",
   "execution_count": null,
   "metadata": {},
   "outputs": [],
   "source": [
    "core.getPropertyObject('Dichroic', 'Label').dict()"
   ]
  },
  {
   "cell_type": "code",
   "execution_count": null,
   "metadata": {},
   "outputs": [],
   "source": [
    "core.getPropertyObject('Dichroic', 'State').dict()"
   ]
  },
  {
   "cell_type": "code",
   "execution_count": null,
   "metadata": {},
   "outputs": [],
   "source": [
    "core.getProperty('Dichroic', 'Description')"
   ]
  },
  {
   "cell_type": "code",
   "execution_count": null,
   "metadata": {},
   "outputs": [],
   "source": [
    "core.getProperty('Dichroic', 'HubID')"
   ]
  },
  {
   "cell_type": "code",
   "execution_count": null,
   "metadata": {},
   "outputs": [],
   "source": [
    "core.getProperty('Dichroic', 'State')"
   ]
  },
  {
   "cell_type": "code",
   "execution_count": null,
   "metadata": {},
   "outputs": [],
   "source": [
    "import useq\n",
    "\n",
    "# create a sequence\n",
    "mda_sequence = useq.MDASequence(\n",
    "    time_plan={\"interval\": 2, \"loops\": 10},\n",
    "    z_plan={\"range\": 4, \"step\": 0.5},\n",
    "    channels=[\n",
    "        {\"config\": \"DAPI\", \"exposure\": 50},\n",
    "        {\"config\": \"FITC\", \"exposure\": 20},\n",
    "    ]\n",
    ")\n",
    "\n",
    "# Run it!\n",
    "core.run_mda(mda_sequence)"
   ]
  },
  {
   "cell_type": "code",
   "execution_count": null,
   "metadata": {},
   "outputs": [],
   "source": []
  },
  {
   "cell_type": "code",
   "execution_count": null,
   "metadata": {},
   "outputs": [],
   "source": [
    "core.getCameraChannelNames()"
   ]
  },
  {
   "cell_type": "code",
   "execution_count": null,
   "metadata": {},
   "outputs": [],
   "source": [
    "core.snapImage()"
   ]
  },
  {
   "cell_type": "code",
   "execution_count": null,
   "metadata": {},
   "outputs": [],
   "source": [
    "core.getImage()"
   ]
  },
  {
   "cell_type": "code",
   "execution_count": null,
   "metadata": {},
   "outputs": [],
   "source": [
    "import matplotlib.pylab as plt\n",
    "\n",
    "\n",
    "plt.imshow(core.getImage(), cmap='gray')"
   ]
  },
  {
   "cell_type": "code",
   "execution_count": null,
   "metadata": {},
   "outputs": [],
   "source": [
    "import napari"
   ]
  },
  {
   "cell_type": "code",
   "execution_count": null,
   "metadata": {},
   "outputs": [],
   "source": [
    "import napari.viewer\n",
    "\n",
    "\n",
    "Viewer = napari.Viewer()"
   ]
  },
  {
   "cell_type": "code",
   "execution_count": null,
   "metadata": {},
   "outputs": [],
   "source": [
    "core.getCurrentConfig('Channel')"
   ]
  },
  {
   "cell_type": "code",
   "execution_count": null,
   "metadata": {},
   "outputs": [],
   "source": [
    "core.deleteConfig('Channel', 'DAPI','Dichroic', 'Label')"
   ]
  },
  {
   "cell_type": "code",
   "execution_count": null,
   "metadata": {},
   "outputs": [],
   "source": [
    "core.getConfigData('Channel', 'DAPI').dict()"
   ]
  },
  {
   "cell_type": "code",
   "execution_count": null,
   "metadata": {},
   "outputs": [],
   "source": [
    "try:\n",
    "    core.defineConfig('Channel', 'DAPI', 'Dichroic', 'Label', '400DCLP')\n",
    "except:\n",
    "    pass"
   ]
  },
  {
   "cell_type": "code",
   "execution_count": null,
   "metadata": {},
   "outputs": [],
   "source": [
    "core.getConfigData('Channel', 'DAPI').dict()"
   ]
  },
  {
   "cell_type": "code",
   "execution_count": null,
   "metadata": {},
   "outputs": [],
   "source": [
    "core.getPropertyObject('Dichroic', 'Label').dict()"
   ]
  },
  {
   "cell_type": "code",
   "execution_count": null,
   "metadata": {},
   "outputs": [],
   "source": [
    "core.getLoadedDevices()"
   ]
  },
  {
   "cell_type": "code",
   "execution_count": null,
   "metadata": {},
   "outputs": [],
   "source": [
    "core.getDeviceName('DHub')"
   ]
  },
  {
   "cell_type": "code",
   "execution_count": null,
   "metadata": {},
   "outputs": [],
   "source": [
    "core.getDeviceAdapterNames()"
   ]
  },
  {
   "cell_type": "code",
   "execution_count": null,
   "metadata": {},
   "outputs": [],
   "source": [
    "# Start of a continuos sequence acquisition (after)\n",
    "def continuos_sequence_acquisistion_started():\n",
    "    print('A continuos sequence acquisition has started.')"
   ]
  },
  {
   "cell_type": "code",
   "execution_count": null,
   "metadata": {},
   "outputs": [],
   "source": [
    "core.events.continuousSequenceAcquisitionStarting.connect(continuos_sequence_acquisistion_started)"
   ]
  },
  {
   "cell_type": "code",
   "execution_count": null,
   "metadata": {},
   "outputs": [],
   "source": [
    "core.startContinuousSequenceAcquisition(1000)"
   ]
  },
  {
   "cell_type": "code",
   "execution_count": null,
   "metadata": {},
   "outputs": [],
   "source": [
    "core.events.continuousSequenceAcquisitionStarting.disconnect(continuos_sequence_acquisistion_started)"
   ]
  },
  {
   "cell_type": "code",
   "execution_count": null,
   "metadata": {},
   "outputs": [],
   "source": [
    "core.startContinuousSequenceAcquisition(1000)"
   ]
  },
  {
   "cell_type": "code",
   "execution_count": null,
   "metadata": {},
   "outputs": [],
   "source": [
    "import napari.viewer\n",
    "\n",
    "\n",
    "Viewer = napari.Viewer()"
   ]
  },
  {
   "cell_type": "code",
   "execution_count": null,
   "metadata": {},
   "outputs": [],
   "source": [
    "class AcquisitionHandler:\n",
    "\n",
    "    def __init__(self, core):\n",
    "        self.core = core\n",
    "        self.continuos_acquisition_starting_state = None\n",
    "        self.continuos_acquisition_started_state = None\n",
    "\n",
    "    def activate_continuos_acquisition_starting(self):\n",
    "        self.core.events.continuousSequenceAcquisitionStarting.connect(self.continuos_sequence_acquisition_starting)\n",
    "        print('Callback connected')\n",
    "\n",
    "    def activate_continuous_acquisition_started(self):\n",
    "        self.core.events.continuousSequenceAcquisitionStarted.connect(self.continuos_sequence_acquisistion_started)\n",
    "        print('Callback connected')\n",
    "\n",
    "    def deactivate_continuos_acquisition_starting(self):\n",
    "        self.core.events.continuousSequenceAcquisitionStarting.disconnect(self.continuos_sequence_acquisition_starting)\n",
    "        print('Callback disconnected')\n",
    "\n",
    "    def deactivate_continuous_acquisition_started(self):\n",
    "        self.core.events.continuousSequenceAcquisitionStarted.disconnect(self.continuos_sequence_acquisistion_started)\n",
    "        print('Callback disconnected')\n",
    "\n",
    "    # Before the start of a sequence acquisition\n",
    "    def continuos_sequence_acquisition_starting(self):\n",
    "        self.continuos_acquisition_starting_state = 'acquisition is starting'\n",
    "        print('A sequence acquisition is starting.')\n",
    "\n",
    "    # Start of a continuos sequence acquisition (after)\n",
    "    def continuos_sequence_acquisistion_started(self):\n",
    "        self.continuos_acquisition_started_state = 'acquisition is started'\n",
    "        print('A continuos sequence acquisition has started.')"
   ]
  },
  {
   "cell_type": "code",
   "execution_count": null,
   "metadata": {},
   "outputs": [],
   "source": [
    "handler_acquisition = AcquisitionHandler(core)"
   ]
  },
  {
   "cell_type": "code",
   "execution_count": null,
   "metadata": {},
   "outputs": [],
   "source": [
    "handler_acquisition.activate_continuos_acquisition_starting()"
   ]
  },
  {
   "cell_type": "code",
   "execution_count": null,
   "metadata": {},
   "outputs": [],
   "source": [
    "core.startContinuousSequenceAcquisition(100)"
   ]
  },
  {
   "cell_type": "code",
   "execution_count": null,
   "metadata": {},
   "outputs": [],
   "source": [
    "handler_acquisition.continuos_acquisition_starting_state"
   ]
  },
  {
   "cell_type": "code",
   "execution_count": null,
   "metadata": {},
   "outputs": [],
   "source": [
    "handler_acquisition.deactivate_continuos_acquisition_starting()"
   ]
  },
  {
   "cell_type": "code",
   "execution_count": null,
   "metadata": {},
   "outputs": [],
   "source": [
    "class ExposureHandler:\n",
    "\n",
    "    def __init__(self, core):\n",
    "        self.core = core\n",
    "        self.exposure_state = None\n",
    "        self.core.events.exposureChanged.connect(self.exposure_change)\n",
    "        print('Callback connected')\n",
    "\n",
    "    def exposure_change(self, name: str, newExposure: float):\n",
    "        self.exposure_state = (name, newExposure)\n",
    "        print(f'The exposure {name} has changed in a value of {newExposure}')\n",
    "\n",
    "    def disconnect(self):\n",
    "        self.core.events.exposureChanged.disconnect(self.exposure_change)\n",
    "        print('Callback disconnected')"
   ]
  },
  {
   "cell_type": "code",
   "execution_count": null,
   "metadata": {},
   "outputs": [],
   "source": [
    "handler_exposure = ExposureHandler(core)"
   ]
  },
  {
   "cell_type": "code",
   "execution_count": null,
   "metadata": {},
   "outputs": [],
   "source": [
    "handler_exposure.disconnect()"
   ]
  },
  {
   "cell_type": "code",
   "execution_count": null,
   "metadata": {},
   "outputs": [],
   "source": [
    "class ImageSnapHandler:\n",
    "\n",
    "    def __init__(self, core):\n",
    "        self.core = core\n",
    "        self.image_snapped_state = None\n",
    "        self.core.events.imageSnapped.connect(self.image_snapped)\n",
    "        print('Callback connected')\n",
    "\n",
    "    def image_snapped(self):\n",
    "        self.image_snapped_state = 'an image was snapped'\n",
    "        print('A new image was snapped.')\n",
    "\n",
    "    def disconnect(self):\n",
    "        self.core.events.imageSnapped.disconnect(self.image_snapped)\n",
    "        print('Callback disconnected')"
   ]
  },
  {
   "cell_type": "code",
   "execution_count": null,
   "metadata": {},
   "outputs": [],
   "source": [
    "handler_image_snapped = ImageSnapHandler(core)"
   ]
  },
  {
   "cell_type": "code",
   "execution_count": null,
   "metadata": {},
   "outputs": [],
   "source": [
    "handler_image_snapped.disconnect()"
   ]
  },
  {
   "cell_type": "code",
   "execution_count": null,
   "metadata": {},
   "outputs": [],
   "source": [
    "handler_image_snapped.image_snapped_state"
   ]
  },
  {
   "cell_type": "code",
   "execution_count": null,
   "metadata": {},
   "outputs": [],
   "source": [
    "core.getPixelSizeAffine()"
   ]
  },
  {
   "cell_type": "code",
   "execution_count": null,
   "metadata": {},
   "outputs": [],
   "source": [
    "class PixelAffineHandler:\n",
    "\n",
    "    def __init__(self, core):\n",
    "        self.core = core\n",
    "        self.pixel_size_affine_state = None\n",
    "        self.core.events.pixelSizeAffineChanged.connect(self.pixel_affine_change)\n",
    "        print('Callback connected')\n",
    "\n",
    "    def pixel_affine_change(self, var_1: float, var_2: float, var_3: float, var_4: float, var_5: float, var_6: float):\n",
    "        self.pixel_size_affine_state = (var_1, var_2, var_3, var_4, var_5, var_6)\n",
    "        print(f'Pixel size affine has changed in ({var_1},{var_2},{var_3},{var_4},{var_5},{var_5})')\n",
    "\n",
    "    def disconnect(self):\n",
    "        self.core.events.pixelSizeAffineChanged.disconnect(self.pixel_affine_change)\n",
    "        print('Callback disconnected.')"
   ]
  },
  {
   "cell_type": "code",
   "execution_count": null,
   "metadata": {},
   "outputs": [],
   "source": [
    "handler_pixel_affine = PixelAffineHandler(core)"
   ]
  },
  {
   "cell_type": "code",
   "execution_count": null,
   "metadata": {},
   "outputs": [],
   "source": [
    "core.getAvailableConfigGroups()"
   ]
  },
  {
   "cell_type": "code",
   "execution_count": null,
   "metadata": {},
   "outputs": [],
   "source": [
    "core.getAvailableConfigs('Camera')"
   ]
  },
  {
   "cell_type": "code",
   "execution_count": null,
   "metadata": {},
   "outputs": [],
   "source": [
    "core.getCurrentPixelSizeConfig()"
   ]
  },
  {
   "cell_type": "code",
   "execution_count": null,
   "metadata": {},
   "outputs": [],
   "source": [
    "core.getAvailablePixelSizeConfigs()"
   ]
  },
  {
   "cell_type": "code",
   "execution_count": null,
   "metadata": {},
   "outputs": [],
   "source": [
    "core.getPixelSizeAffineByID('Res10x')"
   ]
  },
  {
   "cell_type": "code",
   "execution_count": null,
   "metadata": {},
   "outputs": [],
   "source": [
    "core.setPixelSizeAffine('Res10x', (0.0,1.0,1.0,0.0,1.0,0.0))"
   ]
  },
  {
   "cell_type": "code",
   "execution_count": null,
   "metadata": {},
   "outputs": [],
   "source": [
    "core.getCurrentPixelSizeConfig()"
   ]
  },
  {
   "cell_type": "code",
   "execution_count": null,
   "metadata": {},
   "outputs": [],
   "source": [
    "core.setPixelSizeConfig('Res10x')"
   ]
  },
  {
   "cell_type": "code",
   "execution_count": null,
   "metadata": {},
   "outputs": [],
   "source": [
    "core.setPixelSizeConfig('Res40x')"
   ]
  },
  {
   "cell_type": "code",
   "execution_count": null,
   "metadata": {},
   "outputs": [],
   "source": [
    "handler_pixel_affine.pixel_size_affine_state"
   ]
  },
  {
   "cell_type": "code",
   "execution_count": null,
   "metadata": {},
   "outputs": [],
   "source": [
    "handler_pixel_affine.disconnect()"
   ]
  },
  {
   "cell_type": "code",
   "execution_count": null,
   "metadata": {},
   "outputs": [],
   "source": [
    "class PixelSizeHandler:\n",
    "\n",
    "    def __init__(self, core):\n",
    "        self.core = core\n",
    "        self.pixel_sie_state = None\n",
    "        self.core.events.pixelSizeChanged.connect(self.pixel_size)\n",
    "        print('Callback connected')\n",
    "\n",
    "    def pixel_size(self, newPixelSizeUm: float):\n",
    "        self.pixel_sie_state = newPixelSizeUm\n",
    "        print(f'The new pixel size is {newPixelSizeUm} Um.')\n",
    "\n",
    "    def disconnect(self):\n",
    "        self.core.events.pixelSizeChanged.disconnect(self.pixel_size)\n",
    "        print('Callback disconnect')"
   ]
  },
  {
   "cell_type": "code",
   "execution_count": null,
   "metadata": {},
   "outputs": [],
   "source": [
    "handler_pixel_size = PixelSizeHandler(core)"
   ]
  },
  {
   "cell_type": "code",
   "execution_count": null,
   "metadata": {},
   "outputs": [],
   "source": [
    "core.getPixelSizeUm()"
   ]
  },
  {
   "cell_type": "code",
   "execution_count": null,
   "metadata": {},
   "outputs": [],
   "source": [
    "core.getBytesPerPixel()"
   ]
  },
  {
   "cell_type": "code",
   "execution_count": null,
   "metadata": {},
   "outputs": [],
   "source": [
    "core.getPixelSizeUmByID('Res40x')"
   ]
  },
  {
   "cell_type": "code",
   "execution_count": null,
   "metadata": {},
   "outputs": [],
   "source": [
    "# event emitted also\n",
    "# definePixelSizeConfig --> write all configuration\n",
    "# deletePixelSizeConfi\n",
    "core.setPixelSizeUm('Res40x', 0.45)"
   ]
  },
  {
   "cell_type": "code",
   "execution_count": null,
   "metadata": {},
   "outputs": [],
   "source": [
    "core.getPixelSizeUm()"
   ]
  },
  {
   "cell_type": "code",
   "execution_count": null,
   "metadata": {},
   "outputs": [],
   "source": [
    "handler_pixel_size.disconnect()"
   ]
  },
  {
   "cell_type": "code",
   "execution_count": null,
   "metadata": {},
   "outputs": [],
   "source": [
    "class PropertiesHandler:\n",
    "\n",
    "    def __init__(self, core):\n",
    "        self.core = core\n",
    "        self.properties = None\n",
    "        self.core.events.propertiesChanged.connect(self.properties_changed)\n",
    "        print('Callback connected')\n",
    "\n",
    "    def properties_changed(self):\n",
    "        self.properties = 'Properties were changed'\n",
    "        print('The properties were changed.')\n",
    "\n",
    "    def disconnect(self):\n",
    "        self.core.events.propertiesChanged.disconnect(self.properties_changed)\n",
    "        print('Callback disconnected')"
   ]
  },
  {
   "cell_type": "code",
   "execution_count": null,
   "metadata": {},
   "outputs": [],
   "source": [
    "handler_properties = PropertiesHandler(core)"
   ]
  },
  {
   "cell_type": "code",
   "execution_count": null,
   "metadata": {},
   "outputs": [],
   "source": [
    "core.getProperty('Dichroic', 'Label')"
   ]
  },
  {
   "cell_type": "code",
   "execution_count": null,
   "metadata": {},
   "outputs": [],
   "source": [
    "class PropertyHandler:\n",
    "\n",
    "    def __init__(self, core):\n",
    "        self.core = core\n",
    "        self.property_state = None\n",
    "        self.core.events.propertyChanged.connect(self.property_changed)\n",
    "        print('Callback connected')\n",
    "\n",
    "    def property_changed(self, name: str, propName: str, propValue: str):\n",
    "        self.property_state = (name,propName, propValue)\n",
    "        print(f'The device {name} has changed the property {propName} in {propValue}')\n",
    "\n",
    "    def disconnect(self):\n",
    "        self.core.events.propertyChanged.disconnect(self.property_changed)\n",
    "        print('Callback disconnected')"
   ]
  },
  {
   "cell_type": "code",
   "execution_count": null,
   "metadata": {},
   "outputs": [],
   "source": [
    "handler_property = PropertyHandler(core)"
   ]
  },
  {
   "cell_type": "code",
   "execution_count": null,
   "metadata": {},
   "outputs": [],
   "source": [
    "handler_property.disconnect()"
   ]
  },
  {
   "cell_type": "code",
   "execution_count": null,
   "metadata": {},
   "outputs": [],
   "source": [
    "handler_property.property_state"
   ]
  },
  {
   "cell_type": "code",
   "execution_count": null,
   "metadata": {},
   "outputs": [],
   "source": [
    "class RoiHandler:\n",
    "\n",
    "    def __init__(self, core):\n",
    "        self.core = core\n",
    "        self.roi_state = None\n",
    "        self.core.events.roiSet.connect(self.set_roi)\n",
    "        print('Callback connected')\n",
    "\n",
    "    def set_roi(self, camera: str, startX: int, startY: int, width: int, height: int):\n",
    "        self.roi_state = (camera,startX,startY,width, height)\n",
    "        print(f'The new ROI has ({camera},{startX},{startY},{width},{height})')\n",
    "\n",
    "    def disconnect(self):\n",
    "        self.core.events.roiSet.disconnect(self.set_roi)\n",
    "        print('Callback disconnected')"
   ]
  },
  {
   "cell_type": "code",
   "execution_count": null,
   "metadata": {},
   "outputs": [],
   "source": [
    "handler_roi = RoiHandler(core)"
   ]
  },
  {
   "cell_type": "code",
   "execution_count": null,
   "metadata": {},
   "outputs": [],
   "source": [
    "handler_roi.disconnect()"
   ]
  },
  {
   "cell_type": "code",
   "execution_count": null,
   "metadata": {},
   "outputs": [],
   "source": [
    "handler_roi.roi_state"
   ]
  },
  {
   "cell_type": "code",
   "execution_count": null,
   "metadata": {},
   "outputs": [],
   "source": [
    "class SequenceAcquisitionHandler:\n",
    "\n",
    "    def __init__(self, core):\n",
    "        self.core = core\n",
    "        self.sequence_acquisition_starting_state = None\n",
    "        self.sequence_acquisition_started_state = None\n",
    "        self.sequence_acquisition_stop = None\n",
    "        self.core.events.sequenceAcquisitionStarting.connect(self.seqAcqui_starting)\n",
    "        self.core.events.sequenceAcquisitionStarted.connect(self.seqAcqui_started)\n",
    "        self.core.events.sequenceAcquisitionStopped.connect(self.seqAcqui_stopped)\n",
    "        print('Callback connected')\n",
    "\n",
    "    def seqAcqui_starting(self,cameraLabel:str, numImages:int, intervalMs:float, stopOnOverflow:bool):\n",
    "        self.sequence_acquisition_starting_state = (cameraLabel, numImages, intervalMs, stopOnOverflow)\n",
    "        print(f'The {cameraLabel} has started a sequence acquisition of {numImages} images in a time inteval of {intervalMs} Ms with a overflow parameter of value {stopOnOverflow}.')\n",
    "\n",
    "    def seqAcqui_started(self,cameraLabel:str, numImages:int, intervalMs:float, stopOnOverflow:bool):\n",
    "        self.sequence_acquisition_started_state = (cameraLabel, numImages, intervalMs, stopOnOverflow)\n",
    "        print(f'The {cameraLabel} has started a sequence acquisition of {numImages} images in a time inteval of {intervalMs} Ms with a overflow parameter of value {stopOnOverflow}.')\n",
    "\n",
    "    def seqAcqui_stopped(self, cameraLabel: str):\n",
    "        self.sequence_acquisition_stop = cameraLabel\n",
    "        print(f'The {cameraLabel} has stopped the sequence aacquisition.')\n",
    "\n",
    "    def disconnect(self):\n",
    "        self.core.events.sequenceAcquisitionStarting.connect(self.seqAcqui_starting)\n",
    "        self.core.events.sequenceAcquisitionStarted.connect(self.seqAcqui_started)\n",
    "        self.core.events.sequenceAcquisitionStopped.connect(self.seqAcqui_stopped)\n",
    "        print('Callback disconnected.')\n",
    "\n",
    "        "
   ]
  },
  {
   "cell_type": "code",
   "execution_count": null,
   "metadata": {},
   "outputs": [],
   "source": [
    "handler_seq_acquisition = SequenceAcquisitionHandler(core)"
   ]
  },
  {
   "cell_type": "code",
   "execution_count": null,
   "metadata": {},
   "outputs": [],
   "source": [
    "core.startSequenceAcquisition('Camera', 10, 100, False)"
   ]
  },
  {
   "cell_type": "code",
   "execution_count": null,
   "metadata": {},
   "outputs": [],
   "source": [
    "core.stopSequenceAcquisition('Camera')"
   ]
  },
  {
   "cell_type": "code",
   "execution_count": null,
   "metadata": {},
   "outputs": [],
   "source": [
    "handler_seq_acquisition.sequence_acquisition_stop"
   ]
  },
  {
   "cell_type": "code",
   "execution_count": null,
   "metadata": {},
   "outputs": [],
   "source": [
    "handler_seq_acquisition.sequence_acquisition_starting_state"
   ]
  },
  {
   "cell_type": "code",
   "execution_count": null,
   "metadata": {},
   "outputs": [],
   "source": [
    "handler_seq_acquisition.sequence_acquisition_started_state"
   ]
  },
  {
   "cell_type": "code",
   "execution_count": null,
   "metadata": {},
   "outputs": [],
   "source": [
    "handler_seq_acquisition.disconnect()"
   ]
  },
  {
   "cell_type": "code",
   "execution_count": null,
   "metadata": {},
   "outputs": [],
   "source": [
    "class StagePositionHandler:\n",
    "\n",
    "    def __init__(self, core):\n",
    "        self.core = core\n",
    "        self.stage_position_changed = None\n",
    "        self.core.events.stagePositionChanged.connect(self.stage_changed)\n",
    "        print('Callback connected')\n",
    "    \n",
    "    def stage_changed(self, name: str, pos: float):\n",
    "        self.stage_position_changed = (name, pos)\n",
    "        print(f'{name} has a new position {pos}')\n",
    "\n",
    "    def disconnect(self):\n",
    "        self.core.events.stagePositionChanged.disconnect(self.stage_changed)\n",
    "        print('Callback disconnected')"
   ]
  },
  {
   "cell_type": "code",
   "execution_count": null,
   "metadata": {},
   "outputs": [],
   "source": [
    "handler_stage_position = StagePositionHandler(core)"
   ]
  },
  {
   "cell_type": "code",
   "execution_count": null,
   "metadata": {},
   "outputs": [],
   "source": [
    "handler_stage_position.disconnect()"
   ]
  },
  {
   "cell_type": "code",
   "execution_count": null,
   "metadata": {},
   "outputs": [],
   "source": [
    "class LoadConfigHandler:\n",
    "\n",
    "    def __init__(self, core):\n",
    "        self.core = core\n",
    "        self.loaded = None\n",
    "        self.core.events.systemConfigurationLoaded.connect(self.system_loaded)\n",
    "        print('Callback')\n",
    "\n",
    "    def system_loaded(self):\n",
    "        self.loaded = 'System is loaded'\n",
    "        print('System configuiration has been loaded')\n",
    "\n",
    "    def disconnect(self):\n",
    "        self.core.events.systemConfigurationLoaded.disconnect(self.system_loaded)\n",
    "        print('Callback disconnected')\n"
   ]
  },
  {
   "cell_type": "code",
   "execution_count": null,
   "metadata": {},
   "outputs": [],
   "source": [
    "handler_syst_configuration = LoadConfigHandler(core)"
   ]
  },
  {
   "cell_type": "code",
   "execution_count": null,
   "metadata": {},
   "outputs": [],
   "source": [
    "core.loadSystemConfiguration()"
   ]
  },
  {
   "cell_type": "code",
   "execution_count": null,
   "metadata": {},
   "outputs": [],
   "source": [
    "handler_syst_configuration.disconnect()"
   ]
  },
  {
   "cell_type": "code",
   "execution_count": null,
   "metadata": {},
   "outputs": [],
   "source": [
    "class DevicePropertyChange:\n",
    "\n",
    "    def __init__(self, core, device):\n",
    "        self.core = core\n",
    "        self.device = device\n",
    "        self.device_state = None\n",
    "        self.core.events.devicePropertyChanged(self.device).connect(self.device_property_changed)\n",
    "        print('Callback connected')\n",
    "\n",
    "    def device_property_changed(self):\n",
    "        print('I am been returned')\n",
    "\n",
    "    def disconnect(self):\n",
    "        self.core.events.devicePropertyChanged(self.device).disconnect(self.device_property_changed)\n",
    "        print('Callback disconnected')"
   ]
  },
  {
   "cell_type": "code",
   "execution_count": null,
   "metadata": {},
   "outputs": [],
   "source": [
    "handler_device_prop = DevicePropertyChange(core, 'Camera')"
   ]
  },
  {
   "cell_type": "code",
   "execution_count": null,
   "metadata": {},
   "outputs": [],
   "source": [
    "handler_device_prop.disconnect()"
   ]
  },
  {
   "cell_type": "code",
   "execution_count": null,
   "metadata": {},
   "outputs": [],
   "source": [
    "core.getDevicePropertyNames('Camera')"
   ]
  },
  {
   "cell_type": "code",
   "execution_count": 5,
   "metadata": {},
   "outputs": [
    {
     "data": {
      "text/plain": [
       "'callback'"
      ]
     },
     "execution_count": 5,
     "metadata": {},
     "output_type": "execute_result"
    }
   ],
   "source": [
    "core.events.devicePropertyChanged('Camera').connect('callback')"
   ]
  },
  {
   "cell_type": "code",
   "execution_count": 6,
   "metadata": {},
   "outputs": [
    {
     "name": "stderr",
     "output_type": "stream",
     "text": [
      "WARNING: WARNING: QApplication was not created in the main() thread.\n"
     ]
    }
   ],
   "source": [
    "import napari.viewer\n",
    "\n",
    "\n",
    "v = napari.Viewer()"
   ]
  },
  {
   "cell_type": "code",
   "execution_count": 11,
   "metadata": {},
   "outputs": [],
   "source": [
    "import useq\n",
    "def mda_started(event: useq.MDAEvent):\n",
    "    print(\"This is my event\")\n",
    "    print(event)"
   ]
  },
  {
   "cell_type": "code",
   "execution_count": null,
   "metadata": {},
   "outputs": [
    {
     "data": {
      "text/plain": [
       "<function __main__.mda_started(event: useq._mda_event.MDAEvent)>"
      ]
     },
     "execution_count": 12,
     "metadata": {},
     "output_type": "execute_result"
    },
    {
     "name": "stderr",
     "output_type": "stream",
     "text": [
      "WARNING: QObject::setParent: Cannot set parent, new parent is in a different thread\n",
      "WARNING: QObject::setParent: Cannot set parent, new parent is in a different thread\n",
      "WARNING: QObject::setParent: Cannot set parent, new parent is in a different thread\n",
      "WARNING: QObject::setParent: Cannot set parent, new parent is in a different thread\n",
      "WARNING: QObject::setParent: Cannot set parent, new parent is in a different thread\n",
      "WARNING: QObject::setParent: Cannot set parent, new parent is in a different thread\n"
     ]
    },
    {
     "data": {
      "text/html": [
       "<pre style=\"white-space:pre;overflow-x:auto;line-height:normal;font-family:Menlo,'DejaVu Sans Mono',consolas,'Courier New',monospace\"><span style=\"color: #7fbfbf; text-decoration-color: #7fbfbf\">[02/26/25 17:03:28] </span><span style=\"color: #000080; text-decoration-color: #000080\">INFO    </span> MDA Started: <span style=\"color: #808000; text-decoration-color: #808000\">metadata</span>=<span style=\"font-weight: bold\">{</span><span style=\"color: #008000; text-decoration-color: #008000\">'pymmcore_widgets'</span>: <span style=\"font-weight: bold\">{</span><span style=\"color: #008000; text-decoration-color: #008000\">'version'</span>: <span style=\"color: #008000; text-decoration-color: #008000\">'0.9.0'</span><span style=\"font-weight: bold\">}</span>,        <a href=\"file://c:\\Users\\dario\\anaconda3\\envs\\masterThesis\\lib\\site-packages\\pymmcore_plus\\mda\\_runner.py\" target=\"_blank\"><span style=\"color: #7f7f7f; text-decoration-color: #7f7f7f\">_runner.py</span></a><span style=\"color: #7f7f7f; text-decoration-color: #7f7f7f\">:</span><a href=\"file://c:\\Users\\dario\\anaconda3\\envs\\masterThesis\\lib\\site-packages\\pymmcore_plus\\mda\\_runner.py#376\" target=\"_blank\"><span style=\"color: #7f7f7f; text-decoration-color: #7f7f7f\">376</span></a>\n",
       "<span style=\"color: #7fbfbf; text-decoration-color: #7fbfbf\">                    </span>         <span style=\"color: #008000; text-decoration-color: #008000\">'napari_micromanager'</span>: <span style=\"font-weight: bold\">{</span><span style=\"color: #008000; text-decoration-color: #008000\">'split_channels'</span>: <span style=\"color: #ff0000; text-decoration-color: #ff0000; font-style: italic\">False</span><span style=\"font-weight: bold\">}}</span> <span style=\"color: #808000; text-decoration-color: #808000\">axis_order</span>=<span style=\"font-weight: bold\">(</span><span style=\"color: #008000; text-decoration-color: #008000\">'p'</span>, <span style=\"color: #008000; text-decoration-color: #008000\">'c'</span><span style=\"font-weight: bold\">)</span> <span style=\"color: #7f7f7f; text-decoration-color: #7f7f7f\">              </span>\n",
       "<span style=\"color: #7fbfbf; text-decoration-color: #7fbfbf\">                    </span>         <span style=\"color: #808000; text-decoration-color: #808000\">stage_positions</span>=<span style=\"font-weight: bold\">(</span><span style=\"color: #800080; text-decoration-color: #800080; font-weight: bold\">AbsolutePosition</span><span style=\"font-weight: bold\">(</span><span style=\"color: #808000; text-decoration-color: #808000\">x</span>=<span style=\"color: #008080; text-decoration-color: #008080; font-weight: bold\">-0.0</span>, <span style=\"color: #808000; text-decoration-color: #808000\">y</span>=<span style=\"color: #008080; text-decoration-color: #008080; font-weight: bold\">-0.0</span>, <span style=\"color: #808000; text-decoration-color: #808000\">z</span>=<span style=\"color: #008080; text-decoration-color: #008080; font-weight: bold\">0.0</span><span style=\"font-weight: bold\">)</span>,<span style=\"font-weight: bold\">)</span>              <span style=\"color: #7f7f7f; text-decoration-color: #7f7f7f\">              </span>\n",
       "<span style=\"color: #7fbfbf; text-decoration-color: #7fbfbf\">                    </span>         <span style=\"color: #808000; text-decoration-color: #808000\">channels</span>=<span style=\"font-weight: bold\">(</span><span style=\"color: #800080; text-decoration-color: #800080; font-weight: bold\">Channel</span><span style=\"font-weight: bold\">(</span><span style=\"color: #808000; text-decoration-color: #808000\">config</span>=<span style=\"color: #008000; text-decoration-color: #008000\">'FITC'</span>, <span style=\"color: #808000; text-decoration-color: #808000\">exposure</span>=<span style=\"color: #008080; text-decoration-color: #008080; font-weight: bold\">100.0</span><span style=\"font-weight: bold\">)</span>,<span style=\"font-weight: bold\">)</span>                      <span style=\"color: #7f7f7f; text-decoration-color: #7f7f7f\">              </span>\n",
       "</pre>\n"
      ],
      "text/plain": [
       "\u001b[2;36m[02/26/25 17:03:28]\u001b[0m\u001b[2;36m \u001b[0m\u001b[34mINFO    \u001b[0m MDA Started: \u001b[33mmetadata\u001b[0m=\u001b[1m{\u001b[0m\u001b[32m'pymmcore_widgets'\u001b[0m: \u001b[1m{\u001b[0m\u001b[32m'version'\u001b[0m: \u001b[32m'0.9.0'\u001b[0m\u001b[1m}\u001b[0m,        \u001b]8;id=208183;file://c:\\Users\\dario\\anaconda3\\envs\\masterThesis\\lib\\site-packages\\pymmcore_plus\\mda\\_runner.py\u001b\\\u001b[2m_runner.py\u001b[0m\u001b]8;;\u001b\\\u001b[2m:\u001b[0m\u001b]8;id=764062;file://c:\\Users\\dario\\anaconda3\\envs\\masterThesis\\lib\\site-packages\\pymmcore_plus\\mda\\_runner.py#376\u001b\\\u001b[2m376\u001b[0m\u001b]8;;\u001b\\\n",
       "\u001b[2;36m                    \u001b[0m         \u001b[32m'napari_micromanager'\u001b[0m: \u001b[1m{\u001b[0m\u001b[32m'split_channels'\u001b[0m: \u001b[3;91mFalse\u001b[0m\u001b[1m}\u001b[0m\u001b[1m}\u001b[0m \u001b[33maxis_order\u001b[0m=\u001b[1m(\u001b[0m\u001b[32m'p'\u001b[0m, \u001b[32m'c'\u001b[0m\u001b[1m)\u001b[0m \u001b[2m              \u001b[0m\n",
       "\u001b[2;36m                    \u001b[0m         \u001b[33mstage_positions\u001b[0m=\u001b[1m(\u001b[0m\u001b[1;35mAbsolutePosition\u001b[0m\u001b[1m(\u001b[0m\u001b[33mx\u001b[0m=\u001b[1;36m-0.0\u001b[0m, \u001b[33my\u001b[0m=\u001b[1;36m-0.0\u001b[0m, \u001b[33mz\u001b[0m=\u001b[1;36m0\u001b[0m\u001b[1;36m.0\u001b[0m\u001b[1m)\u001b[0m,\u001b[1m)\u001b[0m              \u001b[2m              \u001b[0m\n",
       "\u001b[2;36m                    \u001b[0m         \u001b[33mchannels\u001b[0m=\u001b[1m(\u001b[0m\u001b[1;35mChannel\u001b[0m\u001b[1m(\u001b[0m\u001b[33mconfig\u001b[0m=\u001b[32m'FITC'\u001b[0m, \u001b[33mexposure\u001b[0m=\u001b[1;36m100\u001b[0m\u001b[1;36m.0\u001b[0m\u001b[1m)\u001b[0m,\u001b[1m)\u001b[0m                      \u001b[2m              \u001b[0m\n"
      ]
     },
     "metadata": {},
     "output_type": "display_data"
    },
    {
     "name": "stdout",
     "output_type": "stream",
     "text": [
      "index=mappingproxy({<Axis.POSITION: 'p'>: 0, <Axis.CHANNEL: 'c'>: 0}) channel=Channel(config='FITC') exposure=100.0 x_pos=-0.0 y_pos=-0.0 z_pos=0.0\n",
      "index=mappingproxy({<Axis.POSITION: 'p'>: 0, <Axis.CHANNEL: 'c'>: 0}) channel=Channel(config='FITC') exposure=100.0 x_pos=-0.0 y_pos=-0.0 z_pos=0.0\n",
      "This is my event\n",
      "index=mappingproxy({<Axis.POSITION: 'p'>: 0, <Axis.CHANNEL: 'c'>: 0}) channel=Channel(config='FITC') exposure=100.0 x_pos=-0.0 y_pos=-0.0 z_pos=0.0\n"
     ]
    },
    {
     "data": {
      "text/html": [
       "<pre style=\"white-space:pre;overflow-x:auto;line-height:normal;font-family:Menlo,'DejaVu Sans Mono',consolas,'Courier New',monospace\"><span style=\"color: #7fbfbf; text-decoration-color: #7fbfbf\">[02/26/25 17:03:29] </span><span style=\"color: #000080; text-decoration-color: #000080\">INFO    </span> <span style=\"color: #808000; text-decoration-color: #808000\">index</span>=<span style=\"color: #800080; text-decoration-color: #800080; font-weight: bold\">mappingproxy</span><span style=\"font-weight: bold\">({&lt;</span><span style=\"color: #ff00ff; text-decoration-color: #ff00ff; font-weight: bold\">Axis.POSITION:</span><span style=\"color: #000000; text-decoration-color: #000000\"> </span><span style=\"color: #008000; text-decoration-color: #008000\">'p'</span><span style=\"color: #000000; text-decoration-color: #000000\">&gt;: </span><span style=\"color: #008080; text-decoration-color: #008080; font-weight: bold\">0</span><span style=\"color: #000000; text-decoration-color: #000000\">, &lt;Axis.CHANNEL: </span><span style=\"color: #008000; text-decoration-color: #008000\">'c'</span><span style=\"font-weight: bold\">&gt;</span>: <span style=\"color: #008080; text-decoration-color: #008080; font-weight: bold\">0</span><span style=\"font-weight: bold\">})</span>   <a href=\"file://c:\\Users\\dario\\anaconda3\\envs\\masterThesis\\lib\\site-packages\\pymmcore_plus\\mda\\_runner.py\" target=\"_blank\"><span style=\"color: #7f7f7f; text-decoration-color: #7f7f7f\">_runner.py</span></a><span style=\"color: #7f7f7f; text-decoration-color: #7f7f7f\">:</span><a href=\"file://c:\\Users\\dario\\anaconda3\\envs\\masterThesis\\lib\\site-packages\\pymmcore_plus\\mda\\_runner.py#337\" target=\"_blank\"><span style=\"color: #7f7f7f; text-decoration-color: #7f7f7f\">337</span></a>\n",
       "<span style=\"color: #7fbfbf; text-decoration-color: #7fbfbf\">                    </span>         <span style=\"color: #808000; text-decoration-color: #808000\">channel</span>=<span style=\"color: #800080; text-decoration-color: #800080; font-weight: bold\">Channel</span><span style=\"font-weight: bold\">(</span><span style=\"color: #808000; text-decoration-color: #808000\">config</span>=<span style=\"color: #008000; text-decoration-color: #008000\">'FITC'</span><span style=\"font-weight: bold\">)</span> <span style=\"color: #808000; text-decoration-color: #808000\">exposure</span>=<span style=\"color: #008080; text-decoration-color: #008080; font-weight: bold\">100.0</span> <span style=\"color: #808000; text-decoration-color: #808000\">x_pos</span>=<span style=\"color: #008080; text-decoration-color: #008080; font-weight: bold\">-0.0</span> <span style=\"color: #808000; text-decoration-color: #808000\">y_pos</span>=<span style=\"color: #008080; text-decoration-color: #008080; font-weight: bold\">-0.0</span>     <span style=\"color: #7f7f7f; text-decoration-color: #7f7f7f\">              </span>\n",
       "<span style=\"color: #7fbfbf; text-decoration-color: #7fbfbf\">                    </span>         <span style=\"color: #808000; text-decoration-color: #808000\">z_pos</span>=<span style=\"color: #008080; text-decoration-color: #008080; font-weight: bold\">0.0</span>                                                               <span style=\"color: #7f7f7f; text-decoration-color: #7f7f7f\">              </span>\n",
       "</pre>\n"
      ],
      "text/plain": [
       "\u001b[2;36m[02/26/25 17:03:29]\u001b[0m\u001b[2;36m \u001b[0m\u001b[34mINFO    \u001b[0m \u001b[33mindex\u001b[0m=\u001b[1;35mmappingproxy\u001b[0m\u001b[1m(\u001b[0m\u001b[1m{\u001b[0m\u001b[1m<\u001b[0m\u001b[1;95mAxis.POSITION:\u001b[0m\u001b[39m \u001b[0m\u001b[32m'p'\u001b[0m\u001b[39m>: \u001b[0m\u001b[1;36m0\u001b[0m\u001b[39m, <Axis.CHANNEL: \u001b[0m\u001b[32m'c'\u001b[0m\u001b[1m>\u001b[0m: \u001b[1;36m0\u001b[0m\u001b[1m}\u001b[0m\u001b[1m)\u001b[0m   \u001b]8;id=649517;file://c:\\Users\\dario\\anaconda3\\envs\\masterThesis\\lib\\site-packages\\pymmcore_plus\\mda\\_runner.py\u001b\\\u001b[2m_runner.py\u001b[0m\u001b]8;;\u001b\\\u001b[2m:\u001b[0m\u001b]8;id=149128;file://c:\\Users\\dario\\anaconda3\\envs\\masterThesis\\lib\\site-packages\\pymmcore_plus\\mda\\_runner.py#337\u001b\\\u001b[2m337\u001b[0m\u001b]8;;\u001b\\\n",
       "\u001b[2;36m                    \u001b[0m         \u001b[33mchannel\u001b[0m=\u001b[1;35mChannel\u001b[0m\u001b[1m(\u001b[0m\u001b[33mconfig\u001b[0m=\u001b[32m'FITC'\u001b[0m\u001b[1m)\u001b[0m \u001b[33mexposure\u001b[0m=\u001b[1;36m100\u001b[0m\u001b[1;36m.0\u001b[0m \u001b[33mx_pos\u001b[0m=\u001b[1;36m-0.0\u001b[0m \u001b[33my_pos\u001b[0m=\u001b[1;36m-0.0\u001b[0m     \u001b[2m              \u001b[0m\n",
       "\u001b[2;36m                    \u001b[0m         \u001b[33mz_pos\u001b[0m=\u001b[1;36m0\u001b[0m\u001b[1;36m.0\u001b[0m                                                               \u001b[2m              \u001b[0m\n"
      ]
     },
     "metadata": {},
     "output_type": "display_data"
    },
    {
     "name": "stderr",
     "output_type": "stream",
     "text": [
      "WARNING: QBasicTimer::start: QBasicTimer can only be used with threads started with QThread\n",
      "WARNING: QBasicTimer::start: QBasicTimer can only be used with threads started with QThread\n",
      "WARNING: QBasicTimer::start: QBasicTimer can only be used with threads started with QThread\n",
      "WARNING: QBasicTimer::start: QBasicTimer can only be used with threads started with QThread\n",
      "WARNING: QBasicTimer::start: QBasicTimer can only be used with threads started with QThread\n",
      "WARNING: QBasicTimer::start: QBasicTimer can only be used with threads started with QThread\n",
      "WARNING: QBasicTimer::start: QBasicTimer can only be used with threads started with QThread\n",
      "WARNING: QBasicTimer::start: QBasicTimer can only be used with threads started with QThread\n"
     ]
    },
    {
     "data": {
      "text/html": [
       "<pre style=\"white-space:pre;overflow-x:auto;line-height:normal;font-family:Menlo,'DejaVu Sans Mono',consolas,'Courier New',monospace\"><span style=\"color: #7fbfbf; text-decoration-color: #7fbfbf\">                    </span><span style=\"color: #000080; text-decoration-color: #000080\">INFO    </span> MDA Finished: <span style=\"color: #808000; text-decoration-color: #808000\">metadata</span>=<span style=\"font-weight: bold\">{</span><span style=\"color: #008000; text-decoration-color: #008000\">'pymmcore_widgets'</span>: <span style=\"font-weight: bold\">{</span><span style=\"color: #008000; text-decoration-color: #008000\">'version'</span>: <span style=\"color: #008000; text-decoration-color: #008000\">'0.9.0'</span><span style=\"font-weight: bold\">}</span>,       <a href=\"file://c:\\Users\\dario\\anaconda3\\envs\\masterThesis\\lib\\site-packages\\pymmcore_plus\\mda\\_runner.py\" target=\"_blank\"><span style=\"color: #7f7f7f; text-decoration-color: #7f7f7f\">_runner.py</span></a><span style=\"color: #7f7f7f; text-decoration-color: #7f7f7f\">:</span><a href=\"file://c:\\Users\\dario\\anaconda3\\envs\\masterThesis\\lib\\site-packages\\pymmcore_plus\\mda\\_runner.py#463\" target=\"_blank\"><span style=\"color: #7f7f7f; text-decoration-color: #7f7f7f\">463</span></a>\n",
       "<span style=\"color: #7fbfbf; text-decoration-color: #7fbfbf\">                    </span>         <span style=\"color: #008000; text-decoration-color: #008000\">'napari_micromanager'</span>: <span style=\"font-weight: bold\">{</span><span style=\"color: #008000; text-decoration-color: #008000\">'split_channels'</span>: <span style=\"color: #ff0000; text-decoration-color: #ff0000; font-style: italic\">False</span><span style=\"font-weight: bold\">}}</span> <span style=\"color: #808000; text-decoration-color: #808000\">axis_order</span>=<span style=\"font-weight: bold\">(</span><span style=\"color: #008000; text-decoration-color: #008000\">'p'</span>, <span style=\"color: #008000; text-decoration-color: #008000\">'c'</span><span style=\"font-weight: bold\">)</span> <span style=\"color: #7f7f7f; text-decoration-color: #7f7f7f\">              </span>\n",
       "<span style=\"color: #7fbfbf; text-decoration-color: #7fbfbf\">                    </span>         <span style=\"color: #808000; text-decoration-color: #808000\">stage_positions</span>=<span style=\"font-weight: bold\">(</span><span style=\"color: #800080; text-decoration-color: #800080; font-weight: bold\">AbsolutePosition</span><span style=\"font-weight: bold\">(</span><span style=\"color: #808000; text-decoration-color: #808000\">x</span>=<span style=\"color: #008080; text-decoration-color: #008080; font-weight: bold\">-0.0</span>, <span style=\"color: #808000; text-decoration-color: #808000\">y</span>=<span style=\"color: #008080; text-decoration-color: #008080; font-weight: bold\">-0.0</span>, <span style=\"color: #808000; text-decoration-color: #808000\">z</span>=<span style=\"color: #008080; text-decoration-color: #008080; font-weight: bold\">0.0</span><span style=\"font-weight: bold\">)</span>,<span style=\"font-weight: bold\">)</span>              <span style=\"color: #7f7f7f; text-decoration-color: #7f7f7f\">              </span>\n",
       "<span style=\"color: #7fbfbf; text-decoration-color: #7fbfbf\">                    </span>         <span style=\"color: #808000; text-decoration-color: #808000\">channels</span>=<span style=\"font-weight: bold\">(</span><span style=\"color: #800080; text-decoration-color: #800080; font-weight: bold\">Channel</span><span style=\"font-weight: bold\">(</span><span style=\"color: #808000; text-decoration-color: #808000\">config</span>=<span style=\"color: #008000; text-decoration-color: #008000\">'FITC'</span>, <span style=\"color: #808000; text-decoration-color: #808000\">exposure</span>=<span style=\"color: #008080; text-decoration-color: #008080; font-weight: bold\">100.0</span><span style=\"font-weight: bold\">)</span>,<span style=\"font-weight: bold\">)</span>                      <span style=\"color: #7f7f7f; text-decoration-color: #7f7f7f\">              </span>\n",
       "</pre>\n"
      ],
      "text/plain": [
       "\u001b[2;36m                   \u001b[0m\u001b[2;36m \u001b[0m\u001b[34mINFO    \u001b[0m MDA Finished: \u001b[33mmetadata\u001b[0m=\u001b[1m{\u001b[0m\u001b[32m'pymmcore_widgets'\u001b[0m: \u001b[1m{\u001b[0m\u001b[32m'version'\u001b[0m: \u001b[32m'0.9.0'\u001b[0m\u001b[1m}\u001b[0m,       \u001b]8;id=209882;file://c:\\Users\\dario\\anaconda3\\envs\\masterThesis\\lib\\site-packages\\pymmcore_plus\\mda\\_runner.py\u001b\\\u001b[2m_runner.py\u001b[0m\u001b]8;;\u001b\\\u001b[2m:\u001b[0m\u001b]8;id=175539;file://c:\\Users\\dario\\anaconda3\\envs\\masterThesis\\lib\\site-packages\\pymmcore_plus\\mda\\_runner.py#463\u001b\\\u001b[2m463\u001b[0m\u001b]8;;\u001b\\\n",
       "\u001b[2;36m                    \u001b[0m         \u001b[32m'napari_micromanager'\u001b[0m: \u001b[1m{\u001b[0m\u001b[32m'split_channels'\u001b[0m: \u001b[3;91mFalse\u001b[0m\u001b[1m}\u001b[0m\u001b[1m}\u001b[0m \u001b[33maxis_order\u001b[0m=\u001b[1m(\u001b[0m\u001b[32m'p'\u001b[0m, \u001b[32m'c'\u001b[0m\u001b[1m)\u001b[0m \u001b[2m              \u001b[0m\n",
       "\u001b[2;36m                    \u001b[0m         \u001b[33mstage_positions\u001b[0m=\u001b[1m(\u001b[0m\u001b[1;35mAbsolutePosition\u001b[0m\u001b[1m(\u001b[0m\u001b[33mx\u001b[0m=\u001b[1;36m-0.0\u001b[0m, \u001b[33my\u001b[0m=\u001b[1;36m-0.0\u001b[0m, \u001b[33mz\u001b[0m=\u001b[1;36m0\u001b[0m\u001b[1;36m.0\u001b[0m\u001b[1m)\u001b[0m,\u001b[1m)\u001b[0m              \u001b[2m              \u001b[0m\n",
       "\u001b[2;36m                    \u001b[0m         \u001b[33mchannels\u001b[0m=\u001b[1m(\u001b[0m\u001b[1;35mChannel\u001b[0m\u001b[1m(\u001b[0m\u001b[33mconfig\u001b[0m=\u001b[32m'FITC'\u001b[0m, \u001b[33mexposure\u001b[0m=\u001b[1;36m100\u001b[0m\u001b[1;36m.0\u001b[0m\u001b[1m)\u001b[0m,\u001b[1m)\u001b[0m                      \u001b[2m              \u001b[0m\n"
      ]
     },
     "metadata": {},
     "output_type": "display_data"
    },
    {
     "name": "stderr",
     "output_type": "stream",
     "text": [
      "WARNING: QObject::setParent: Cannot set parent, new parent is in a different thread\n",
      "WARNING: QObject::setParent: Cannot set parent, new parent is in a different thread\n",
      "WARNING: QObject::setParent: Cannot set parent, new parent is in a different thread\n",
      "WARNING: QObject::setParent: Cannot set parent, new parent is in a different thread\n",
      "WARNING: QObject::setParent: Cannot set parent, new parent is in a different thread\n",
      "WARNING: QObject::setParent: Cannot set parent, new parent is in a different thread\n"
     ]
    },
    {
     "data": {
      "text/html": [
       "<pre style=\"white-space:pre;overflow-x:auto;line-height:normal;font-family:Menlo,'DejaVu Sans Mono',consolas,'Courier New',monospace\"><span style=\"color: #7fbfbf; text-decoration-color: #7fbfbf\">[02/26/25 17:03:48] </span><span style=\"color: #000080; text-decoration-color: #000080\">INFO    </span> MDA Started: <span style=\"color: #808000; text-decoration-color: #808000\">metadata</span>=<span style=\"font-weight: bold\">{</span><span style=\"color: #008000; text-decoration-color: #008000\">'pymmcore_widgets'</span>: <span style=\"font-weight: bold\">{</span><span style=\"color: #008000; text-decoration-color: #008000\">'version'</span>: <span style=\"color: #008000; text-decoration-color: #008000\">'0.9.0'</span><span style=\"font-weight: bold\">}</span>,        <a href=\"file://c:\\Users\\dario\\anaconda3\\envs\\masterThesis\\lib\\site-packages\\pymmcore_plus\\mda\\_runner.py\" target=\"_blank\"><span style=\"color: #7f7f7f; text-decoration-color: #7f7f7f\">_runner.py</span></a><span style=\"color: #7f7f7f; text-decoration-color: #7f7f7f\">:</span><a href=\"file://c:\\Users\\dario\\anaconda3\\envs\\masterThesis\\lib\\site-packages\\pymmcore_plus\\mda\\_runner.py#376\" target=\"_blank\"><span style=\"color: #7f7f7f; text-decoration-color: #7f7f7f\">376</span></a>\n",
       "<span style=\"color: #7fbfbf; text-decoration-color: #7fbfbf\">                    </span>         <span style=\"color: #008000; text-decoration-color: #008000\">'napari_micromanager'</span>: <span style=\"font-weight: bold\">{</span><span style=\"color: #008000; text-decoration-color: #008000\">'split_channels'</span>: <span style=\"color: #ff0000; text-decoration-color: #ff0000; font-style: italic\">False</span><span style=\"font-weight: bold\">}}</span> <span style=\"color: #808000; text-decoration-color: #808000\">axis_order</span>=<span style=\"font-weight: bold\">(</span><span style=\"color: #008000; text-decoration-color: #008000\">'p'</span>, <span style=\"color: #008000; text-decoration-color: #008000\">'c'</span><span style=\"font-weight: bold\">)</span> <span style=\"color: #7f7f7f; text-decoration-color: #7f7f7f\">              </span>\n",
       "<span style=\"color: #7fbfbf; text-decoration-color: #7fbfbf\">                    </span>         <span style=\"color: #808000; text-decoration-color: #808000\">stage_positions</span>=<span style=\"font-weight: bold\">(</span><span style=\"color: #800080; text-decoration-color: #800080; font-weight: bold\">AbsolutePosition</span><span style=\"font-weight: bold\">(</span><span style=\"color: #808000; text-decoration-color: #808000\">x</span>=<span style=\"color: #008080; text-decoration-color: #008080; font-weight: bold\">-0.0</span>, <span style=\"color: #808000; text-decoration-color: #808000\">y</span>=<span style=\"color: #008080; text-decoration-color: #008080; font-weight: bold\">-0.0</span>, <span style=\"color: #808000; text-decoration-color: #808000\">z</span>=<span style=\"color: #008080; text-decoration-color: #008080; font-weight: bold\">0.0</span><span style=\"font-weight: bold\">)</span>,<span style=\"font-weight: bold\">)</span>              <span style=\"color: #7f7f7f; text-decoration-color: #7f7f7f\">              </span>\n",
       "<span style=\"color: #7fbfbf; text-decoration-color: #7fbfbf\">                    </span>         <span style=\"color: #808000; text-decoration-color: #808000\">channels</span>=<span style=\"font-weight: bold\">(</span><span style=\"color: #800080; text-decoration-color: #800080; font-weight: bold\">Channel</span><span style=\"font-weight: bold\">(</span><span style=\"color: #808000; text-decoration-color: #808000\">config</span>=<span style=\"color: #008000; text-decoration-color: #008000\">'FITC'</span>, <span style=\"color: #808000; text-decoration-color: #808000\">exposure</span>=<span style=\"color: #008080; text-decoration-color: #008080; font-weight: bold\">100.0</span><span style=\"font-weight: bold\">)</span>,<span style=\"font-weight: bold\">)</span>                      <span style=\"color: #7f7f7f; text-decoration-color: #7f7f7f\">              </span>\n",
       "</pre>\n"
      ],
      "text/plain": [
       "\u001b[2;36m[02/26/25 17:03:48]\u001b[0m\u001b[2;36m \u001b[0m\u001b[34mINFO    \u001b[0m MDA Started: \u001b[33mmetadata\u001b[0m=\u001b[1m{\u001b[0m\u001b[32m'pymmcore_widgets'\u001b[0m: \u001b[1m{\u001b[0m\u001b[32m'version'\u001b[0m: \u001b[32m'0.9.0'\u001b[0m\u001b[1m}\u001b[0m,        \u001b]8;id=793576;file://c:\\Users\\dario\\anaconda3\\envs\\masterThesis\\lib\\site-packages\\pymmcore_plus\\mda\\_runner.py\u001b\\\u001b[2m_runner.py\u001b[0m\u001b]8;;\u001b\\\u001b[2m:\u001b[0m\u001b]8;id=738692;file://c:\\Users\\dario\\anaconda3\\envs\\masterThesis\\lib\\site-packages\\pymmcore_plus\\mda\\_runner.py#376\u001b\\\u001b[2m376\u001b[0m\u001b]8;;\u001b\\\n",
       "\u001b[2;36m                    \u001b[0m         \u001b[32m'napari_micromanager'\u001b[0m: \u001b[1m{\u001b[0m\u001b[32m'split_channels'\u001b[0m: \u001b[3;91mFalse\u001b[0m\u001b[1m}\u001b[0m\u001b[1m}\u001b[0m \u001b[33maxis_order\u001b[0m=\u001b[1m(\u001b[0m\u001b[32m'p'\u001b[0m, \u001b[32m'c'\u001b[0m\u001b[1m)\u001b[0m \u001b[2m              \u001b[0m\n",
       "\u001b[2;36m                    \u001b[0m         \u001b[33mstage_positions\u001b[0m=\u001b[1m(\u001b[0m\u001b[1;35mAbsolutePosition\u001b[0m\u001b[1m(\u001b[0m\u001b[33mx\u001b[0m=\u001b[1;36m-0.0\u001b[0m, \u001b[33my\u001b[0m=\u001b[1;36m-0.0\u001b[0m, \u001b[33mz\u001b[0m=\u001b[1;36m0\u001b[0m\u001b[1;36m.0\u001b[0m\u001b[1m)\u001b[0m,\u001b[1m)\u001b[0m              \u001b[2m              \u001b[0m\n",
       "\u001b[2;36m                    \u001b[0m         \u001b[33mchannels\u001b[0m=\u001b[1m(\u001b[0m\u001b[1;35mChannel\u001b[0m\u001b[1m(\u001b[0m\u001b[33mconfig\u001b[0m=\u001b[32m'FITC'\u001b[0m, \u001b[33mexposure\u001b[0m=\u001b[1;36m100\u001b[0m\u001b[1;36m.0\u001b[0m\u001b[1m)\u001b[0m,\u001b[1m)\u001b[0m                      \u001b[2m              \u001b[0m\n"
      ]
     },
     "metadata": {},
     "output_type": "display_data"
    },
    {
     "name": "stdout",
     "output_type": "stream",
     "text": [
      "index=mappingproxy({<Axis.POSITION: 'p'>: 0, <Axis.CHANNEL: 'c'>: 0}) channel=Channel(config='FITC') exposure=100.0 x_pos=-0.0 y_pos=-0.0 z_pos=0.0\n",
      "index=mappingproxy({<Axis.POSITION: 'p'>: 0, <Axis.CHANNEL: 'c'>: 0}) channel=Channel(config='FITC') exposure=100.0 x_pos=-0.0 y_pos=-0.0 z_pos=0.0\n",
      "This is my event\n",
      "index=mappingproxy({<Axis.POSITION: 'p'>: 0, <Axis.CHANNEL: 'c'>: 0}) channel=Channel(config='FITC') exposure=100.0 x_pos=-0.0 y_pos=-0.0 z_pos=0.0\n"
     ]
    },
    {
     "data": {
      "text/html": [
       "<pre style=\"white-space:pre;overflow-x:auto;line-height:normal;font-family:Menlo,'DejaVu Sans Mono',consolas,'Courier New',monospace\"><span style=\"color: #7fbfbf; text-decoration-color: #7fbfbf\">                    </span><span style=\"color: #000080; text-decoration-color: #000080\">INFO    </span> <span style=\"color: #808000; text-decoration-color: #808000\">index</span>=<span style=\"color: #800080; text-decoration-color: #800080; font-weight: bold\">mappingproxy</span><span style=\"font-weight: bold\">({&lt;</span><span style=\"color: #ff00ff; text-decoration-color: #ff00ff; font-weight: bold\">Axis.POSITION:</span><span style=\"color: #000000; text-decoration-color: #000000\"> </span><span style=\"color: #008000; text-decoration-color: #008000\">'p'</span><span style=\"color: #000000; text-decoration-color: #000000\">&gt;: </span><span style=\"color: #008080; text-decoration-color: #008080; font-weight: bold\">0</span><span style=\"color: #000000; text-decoration-color: #000000\">, &lt;Axis.CHANNEL: </span><span style=\"color: #008000; text-decoration-color: #008000\">'c'</span><span style=\"font-weight: bold\">&gt;</span>: <span style=\"color: #008080; text-decoration-color: #008080; font-weight: bold\">0</span><span style=\"font-weight: bold\">})</span>   <a href=\"file://c:\\Users\\dario\\anaconda3\\envs\\masterThesis\\lib\\site-packages\\pymmcore_plus\\mda\\_runner.py\" target=\"_blank\"><span style=\"color: #7f7f7f; text-decoration-color: #7f7f7f\">_runner.py</span></a><span style=\"color: #7f7f7f; text-decoration-color: #7f7f7f\">:</span><a href=\"file://c:\\Users\\dario\\anaconda3\\envs\\masterThesis\\lib\\site-packages\\pymmcore_plus\\mda\\_runner.py#337\" target=\"_blank\"><span style=\"color: #7f7f7f; text-decoration-color: #7f7f7f\">337</span></a>\n",
       "<span style=\"color: #7fbfbf; text-decoration-color: #7fbfbf\">                    </span>         <span style=\"color: #808000; text-decoration-color: #808000\">channel</span>=<span style=\"color: #800080; text-decoration-color: #800080; font-weight: bold\">Channel</span><span style=\"font-weight: bold\">(</span><span style=\"color: #808000; text-decoration-color: #808000\">config</span>=<span style=\"color: #008000; text-decoration-color: #008000\">'FITC'</span><span style=\"font-weight: bold\">)</span> <span style=\"color: #808000; text-decoration-color: #808000\">exposure</span>=<span style=\"color: #008080; text-decoration-color: #008080; font-weight: bold\">100.0</span> <span style=\"color: #808000; text-decoration-color: #808000\">x_pos</span>=<span style=\"color: #008080; text-decoration-color: #008080; font-weight: bold\">-0.0</span> <span style=\"color: #808000; text-decoration-color: #808000\">y_pos</span>=<span style=\"color: #008080; text-decoration-color: #008080; font-weight: bold\">-0.0</span>     <span style=\"color: #7f7f7f; text-decoration-color: #7f7f7f\">              </span>\n",
       "<span style=\"color: #7fbfbf; text-decoration-color: #7fbfbf\">                    </span>         <span style=\"color: #808000; text-decoration-color: #808000\">z_pos</span>=<span style=\"color: #008080; text-decoration-color: #008080; font-weight: bold\">0.0</span>                                                               <span style=\"color: #7f7f7f; text-decoration-color: #7f7f7f\">              </span>\n",
       "</pre>\n"
      ],
      "text/plain": [
       "\u001b[2;36m                   \u001b[0m\u001b[2;36m \u001b[0m\u001b[34mINFO    \u001b[0m \u001b[33mindex\u001b[0m=\u001b[1;35mmappingproxy\u001b[0m\u001b[1m(\u001b[0m\u001b[1m{\u001b[0m\u001b[1m<\u001b[0m\u001b[1;95mAxis.POSITION:\u001b[0m\u001b[39m \u001b[0m\u001b[32m'p'\u001b[0m\u001b[39m>: \u001b[0m\u001b[1;36m0\u001b[0m\u001b[39m, <Axis.CHANNEL: \u001b[0m\u001b[32m'c'\u001b[0m\u001b[1m>\u001b[0m: \u001b[1;36m0\u001b[0m\u001b[1m}\u001b[0m\u001b[1m)\u001b[0m   \u001b]8;id=618862;file://c:\\Users\\dario\\anaconda3\\envs\\masterThesis\\lib\\site-packages\\pymmcore_plus\\mda\\_runner.py\u001b\\\u001b[2m_runner.py\u001b[0m\u001b]8;;\u001b\\\u001b[2m:\u001b[0m\u001b]8;id=132508;file://c:\\Users\\dario\\anaconda3\\envs\\masterThesis\\lib\\site-packages\\pymmcore_plus\\mda\\_runner.py#337\u001b\\\u001b[2m337\u001b[0m\u001b]8;;\u001b\\\n",
       "\u001b[2;36m                    \u001b[0m         \u001b[33mchannel\u001b[0m=\u001b[1;35mChannel\u001b[0m\u001b[1m(\u001b[0m\u001b[33mconfig\u001b[0m=\u001b[32m'FITC'\u001b[0m\u001b[1m)\u001b[0m \u001b[33mexposure\u001b[0m=\u001b[1;36m100\u001b[0m\u001b[1;36m.0\u001b[0m \u001b[33mx_pos\u001b[0m=\u001b[1;36m-0.0\u001b[0m \u001b[33my_pos\u001b[0m=\u001b[1;36m-0.0\u001b[0m     \u001b[2m              \u001b[0m\n",
       "\u001b[2;36m                    \u001b[0m         \u001b[33mz_pos\u001b[0m=\u001b[1;36m0\u001b[0m\u001b[1;36m.0\u001b[0m                                                               \u001b[2m              \u001b[0m\n"
      ]
     },
     "metadata": {},
     "output_type": "display_data"
    },
    {
     "name": "stderr",
     "output_type": "stream",
     "text": [
      "WARNING: QBasicTimer::start: QBasicTimer can only be used with threads started with QThread\n",
      "WARNING: QBasicTimer::start: QBasicTimer can only be used with threads started with QThread\n",
      "WARNING: QBasicTimer::start: QBasicTimer can only be used with threads started with QThread\n",
      "WARNING: QBasicTimer::start: QBasicTimer can only be used with threads started with QThread\n",
      "WARNING: QBasicTimer::start: QBasicTimer can only be used with threads started with QThread\n",
      "WARNING: QBasicTimer::start: QBasicTimer can only be used with threads started with QThread\n",
      "WARNING: QBasicTimer::start: QBasicTimer can only be used with threads started with QThread\n",
      "WARNING: QBasicTimer::start: QBasicTimer can only be used with threads started with QThread\n"
     ]
    },
    {
     "data": {
      "text/html": [
       "<pre style=\"white-space:pre;overflow-x:auto;line-height:normal;font-family:Menlo,'DejaVu Sans Mono',consolas,'Courier New',monospace\"><span style=\"color: #7fbfbf; text-decoration-color: #7fbfbf\">                    </span><span style=\"color: #000080; text-decoration-color: #000080\">INFO    </span> MDA Finished: <span style=\"color: #808000; text-decoration-color: #808000\">metadata</span>=<span style=\"font-weight: bold\">{</span><span style=\"color: #008000; text-decoration-color: #008000\">'pymmcore_widgets'</span>: <span style=\"font-weight: bold\">{</span><span style=\"color: #008000; text-decoration-color: #008000\">'version'</span>: <span style=\"color: #008000; text-decoration-color: #008000\">'0.9.0'</span><span style=\"font-weight: bold\">}</span>,       <a href=\"file://c:\\Users\\dario\\anaconda3\\envs\\masterThesis\\lib\\site-packages\\pymmcore_plus\\mda\\_runner.py\" target=\"_blank\"><span style=\"color: #7f7f7f; text-decoration-color: #7f7f7f\">_runner.py</span></a><span style=\"color: #7f7f7f; text-decoration-color: #7f7f7f\">:</span><a href=\"file://c:\\Users\\dario\\anaconda3\\envs\\masterThesis\\lib\\site-packages\\pymmcore_plus\\mda\\_runner.py#463\" target=\"_blank\"><span style=\"color: #7f7f7f; text-decoration-color: #7f7f7f\">463</span></a>\n",
       "<span style=\"color: #7fbfbf; text-decoration-color: #7fbfbf\">                    </span>         <span style=\"color: #008000; text-decoration-color: #008000\">'napari_micromanager'</span>: <span style=\"font-weight: bold\">{</span><span style=\"color: #008000; text-decoration-color: #008000\">'split_channels'</span>: <span style=\"color: #ff0000; text-decoration-color: #ff0000; font-style: italic\">False</span><span style=\"font-weight: bold\">}}</span> <span style=\"color: #808000; text-decoration-color: #808000\">axis_order</span>=<span style=\"font-weight: bold\">(</span><span style=\"color: #008000; text-decoration-color: #008000\">'p'</span>, <span style=\"color: #008000; text-decoration-color: #008000\">'c'</span><span style=\"font-weight: bold\">)</span> <span style=\"color: #7f7f7f; text-decoration-color: #7f7f7f\">              </span>\n",
       "<span style=\"color: #7fbfbf; text-decoration-color: #7fbfbf\">                    </span>         <span style=\"color: #808000; text-decoration-color: #808000\">stage_positions</span>=<span style=\"font-weight: bold\">(</span><span style=\"color: #800080; text-decoration-color: #800080; font-weight: bold\">AbsolutePosition</span><span style=\"font-weight: bold\">(</span><span style=\"color: #808000; text-decoration-color: #808000\">x</span>=<span style=\"color: #008080; text-decoration-color: #008080; font-weight: bold\">-0.0</span>, <span style=\"color: #808000; text-decoration-color: #808000\">y</span>=<span style=\"color: #008080; text-decoration-color: #008080; font-weight: bold\">-0.0</span>, <span style=\"color: #808000; text-decoration-color: #808000\">z</span>=<span style=\"color: #008080; text-decoration-color: #008080; font-weight: bold\">0.0</span><span style=\"font-weight: bold\">)</span>,<span style=\"font-weight: bold\">)</span>              <span style=\"color: #7f7f7f; text-decoration-color: #7f7f7f\">              </span>\n",
       "<span style=\"color: #7fbfbf; text-decoration-color: #7fbfbf\">                    </span>         <span style=\"color: #808000; text-decoration-color: #808000\">channels</span>=<span style=\"font-weight: bold\">(</span><span style=\"color: #800080; text-decoration-color: #800080; font-weight: bold\">Channel</span><span style=\"font-weight: bold\">(</span><span style=\"color: #808000; text-decoration-color: #808000\">config</span>=<span style=\"color: #008000; text-decoration-color: #008000\">'FITC'</span>, <span style=\"color: #808000; text-decoration-color: #808000\">exposure</span>=<span style=\"color: #008080; text-decoration-color: #008080; font-weight: bold\">100.0</span><span style=\"font-weight: bold\">)</span>,<span style=\"font-weight: bold\">)</span>                      <span style=\"color: #7f7f7f; text-decoration-color: #7f7f7f\">              </span>\n",
       "</pre>\n"
      ],
      "text/plain": [
       "\u001b[2;36m                   \u001b[0m\u001b[2;36m \u001b[0m\u001b[34mINFO    \u001b[0m MDA Finished: \u001b[33mmetadata\u001b[0m=\u001b[1m{\u001b[0m\u001b[32m'pymmcore_widgets'\u001b[0m: \u001b[1m{\u001b[0m\u001b[32m'version'\u001b[0m: \u001b[32m'0.9.0'\u001b[0m\u001b[1m}\u001b[0m,       \u001b]8;id=69609;file://c:\\Users\\dario\\anaconda3\\envs\\masterThesis\\lib\\site-packages\\pymmcore_plus\\mda\\_runner.py\u001b\\\u001b[2m_runner.py\u001b[0m\u001b]8;;\u001b\\\u001b[2m:\u001b[0m\u001b]8;id=811177;file://c:\\Users\\dario\\anaconda3\\envs\\masterThesis\\lib\\site-packages\\pymmcore_plus\\mda\\_runner.py#463\u001b\\\u001b[2m463\u001b[0m\u001b]8;;\u001b\\\n",
       "\u001b[2;36m                    \u001b[0m         \u001b[32m'napari_micromanager'\u001b[0m: \u001b[1m{\u001b[0m\u001b[32m'split_channels'\u001b[0m: \u001b[3;91mFalse\u001b[0m\u001b[1m}\u001b[0m\u001b[1m}\u001b[0m \u001b[33maxis_order\u001b[0m=\u001b[1m(\u001b[0m\u001b[32m'p'\u001b[0m, \u001b[32m'c'\u001b[0m\u001b[1m)\u001b[0m \u001b[2m              \u001b[0m\n",
       "\u001b[2;36m                    \u001b[0m         \u001b[33mstage_positions\u001b[0m=\u001b[1m(\u001b[0m\u001b[1;35mAbsolutePosition\u001b[0m\u001b[1m(\u001b[0m\u001b[33mx\u001b[0m=\u001b[1;36m-0.0\u001b[0m, \u001b[33my\u001b[0m=\u001b[1;36m-0.0\u001b[0m, \u001b[33mz\u001b[0m=\u001b[1;36m0\u001b[0m\u001b[1;36m.0\u001b[0m\u001b[1m)\u001b[0m,\u001b[1m)\u001b[0m              \u001b[2m              \u001b[0m\n",
       "\u001b[2;36m                    \u001b[0m         \u001b[33mchannels\u001b[0m=\u001b[1m(\u001b[0m\u001b[1;35mChannel\u001b[0m\u001b[1m(\u001b[0m\u001b[33mconfig\u001b[0m=\u001b[32m'FITC'\u001b[0m, \u001b[33mexposure\u001b[0m=\u001b[1;36m100\u001b[0m\u001b[1;36m.0\u001b[0m\u001b[1m)\u001b[0m,\u001b[1m)\u001b[0m                      \u001b[2m              \u001b[0m\n"
      ]
     },
     "metadata": {},
     "output_type": "display_data"
    },
    {
     "name": "stderr",
     "output_type": "stream",
     "text": [
      "WARNING: QObject::setParent: Cannot set parent, new parent is in a different thread\n",
      "WARNING: QObject::setParent: Cannot set parent, new parent is in a different thread\n",
      "WARNING: QObject::setParent: Cannot set parent, new parent is in a different thread\n",
      "WARNING: QObject::setParent: Cannot set parent, new parent is in a different thread\n",
      "WARNING: QObject::setParent: Cannot set parent, new parent is in a different thread\n",
      "WARNING: QObject::setParent: Cannot set parent, new parent is in a different thread\n"
     ]
    },
    {
     "data": {
      "text/html": [
       "<pre style=\"white-space:pre;overflow-x:auto;line-height:normal;font-family:Menlo,'DejaVu Sans Mono',consolas,'Courier New',monospace\"><span style=\"color: #7fbfbf; text-decoration-color: #7fbfbf\">[02/26/25 17:03:50] </span><span style=\"color: #000080; text-decoration-color: #000080\">INFO    </span> MDA Started: <span style=\"color: #808000; text-decoration-color: #808000\">metadata</span>=<span style=\"font-weight: bold\">{</span><span style=\"color: #008000; text-decoration-color: #008000\">'pymmcore_widgets'</span>: <span style=\"font-weight: bold\">{</span><span style=\"color: #008000; text-decoration-color: #008000\">'version'</span>: <span style=\"color: #008000; text-decoration-color: #008000\">'0.9.0'</span><span style=\"font-weight: bold\">}</span>,        <a href=\"file://c:\\Users\\dario\\anaconda3\\envs\\masterThesis\\lib\\site-packages\\pymmcore_plus\\mda\\_runner.py\" target=\"_blank\"><span style=\"color: #7f7f7f; text-decoration-color: #7f7f7f\">_runner.py</span></a><span style=\"color: #7f7f7f; text-decoration-color: #7f7f7f\">:</span><a href=\"file://c:\\Users\\dario\\anaconda3\\envs\\masterThesis\\lib\\site-packages\\pymmcore_plus\\mda\\_runner.py#376\" target=\"_blank\"><span style=\"color: #7f7f7f; text-decoration-color: #7f7f7f\">376</span></a>\n",
       "<span style=\"color: #7fbfbf; text-decoration-color: #7fbfbf\">                    </span>         <span style=\"color: #008000; text-decoration-color: #008000\">'napari_micromanager'</span>: <span style=\"font-weight: bold\">{</span><span style=\"color: #008000; text-decoration-color: #008000\">'split_channels'</span>: <span style=\"color: #ff0000; text-decoration-color: #ff0000; font-style: italic\">False</span><span style=\"font-weight: bold\">}}</span> <span style=\"color: #808000; text-decoration-color: #808000\">axis_order</span>=<span style=\"font-weight: bold\">(</span><span style=\"color: #008000; text-decoration-color: #008000\">'p'</span>, <span style=\"color: #008000; text-decoration-color: #008000\">'c'</span><span style=\"font-weight: bold\">)</span> <span style=\"color: #7f7f7f; text-decoration-color: #7f7f7f\">              </span>\n",
       "<span style=\"color: #7fbfbf; text-decoration-color: #7fbfbf\">                    </span>         <span style=\"color: #808000; text-decoration-color: #808000\">stage_positions</span>=<span style=\"font-weight: bold\">(</span><span style=\"color: #800080; text-decoration-color: #800080; font-weight: bold\">AbsolutePosition</span><span style=\"font-weight: bold\">(</span><span style=\"color: #808000; text-decoration-color: #808000\">x</span>=<span style=\"color: #008080; text-decoration-color: #008080; font-weight: bold\">-0.0</span>, <span style=\"color: #808000; text-decoration-color: #808000\">y</span>=<span style=\"color: #008080; text-decoration-color: #008080; font-weight: bold\">-0.0</span>, <span style=\"color: #808000; text-decoration-color: #808000\">z</span>=<span style=\"color: #008080; text-decoration-color: #008080; font-weight: bold\">0.0</span><span style=\"font-weight: bold\">)</span>,<span style=\"font-weight: bold\">)</span>              <span style=\"color: #7f7f7f; text-decoration-color: #7f7f7f\">              </span>\n",
       "<span style=\"color: #7fbfbf; text-decoration-color: #7fbfbf\">                    </span>         <span style=\"color: #808000; text-decoration-color: #808000\">channels</span>=<span style=\"font-weight: bold\">(</span><span style=\"color: #800080; text-decoration-color: #800080; font-weight: bold\">Channel</span><span style=\"font-weight: bold\">(</span><span style=\"color: #808000; text-decoration-color: #808000\">config</span>=<span style=\"color: #008000; text-decoration-color: #008000\">'FITC'</span>, <span style=\"color: #808000; text-decoration-color: #808000\">exposure</span>=<span style=\"color: #008080; text-decoration-color: #008080; font-weight: bold\">100.0</span><span style=\"font-weight: bold\">)</span>,<span style=\"font-weight: bold\">)</span>                      <span style=\"color: #7f7f7f; text-decoration-color: #7f7f7f\">              </span>\n",
       "</pre>\n"
      ],
      "text/plain": [
       "\u001b[2;36m[02/26/25 17:03:50]\u001b[0m\u001b[2;36m \u001b[0m\u001b[34mINFO    \u001b[0m MDA Started: \u001b[33mmetadata\u001b[0m=\u001b[1m{\u001b[0m\u001b[32m'pymmcore_widgets'\u001b[0m: \u001b[1m{\u001b[0m\u001b[32m'version'\u001b[0m: \u001b[32m'0.9.0'\u001b[0m\u001b[1m}\u001b[0m,        \u001b]8;id=154609;file://c:\\Users\\dario\\anaconda3\\envs\\masterThesis\\lib\\site-packages\\pymmcore_plus\\mda\\_runner.py\u001b\\\u001b[2m_runner.py\u001b[0m\u001b]8;;\u001b\\\u001b[2m:\u001b[0m\u001b]8;id=43338;file://c:\\Users\\dario\\anaconda3\\envs\\masterThesis\\lib\\site-packages\\pymmcore_plus\\mda\\_runner.py#376\u001b\\\u001b[2m376\u001b[0m\u001b]8;;\u001b\\\n",
       "\u001b[2;36m                    \u001b[0m         \u001b[32m'napari_micromanager'\u001b[0m: \u001b[1m{\u001b[0m\u001b[32m'split_channels'\u001b[0m: \u001b[3;91mFalse\u001b[0m\u001b[1m}\u001b[0m\u001b[1m}\u001b[0m \u001b[33maxis_order\u001b[0m=\u001b[1m(\u001b[0m\u001b[32m'p'\u001b[0m, \u001b[32m'c'\u001b[0m\u001b[1m)\u001b[0m \u001b[2m              \u001b[0m\n",
       "\u001b[2;36m                    \u001b[0m         \u001b[33mstage_positions\u001b[0m=\u001b[1m(\u001b[0m\u001b[1;35mAbsolutePosition\u001b[0m\u001b[1m(\u001b[0m\u001b[33mx\u001b[0m=\u001b[1;36m-0.0\u001b[0m, \u001b[33my\u001b[0m=\u001b[1;36m-0.0\u001b[0m, \u001b[33mz\u001b[0m=\u001b[1;36m0\u001b[0m\u001b[1;36m.0\u001b[0m\u001b[1m)\u001b[0m,\u001b[1m)\u001b[0m              \u001b[2m              \u001b[0m\n",
       "\u001b[2;36m                    \u001b[0m         \u001b[33mchannels\u001b[0m=\u001b[1m(\u001b[0m\u001b[1;35mChannel\u001b[0m\u001b[1m(\u001b[0m\u001b[33mconfig\u001b[0m=\u001b[32m'FITC'\u001b[0m, \u001b[33mexposure\u001b[0m=\u001b[1;36m100\u001b[0m\u001b[1;36m.0\u001b[0m\u001b[1m)\u001b[0m,\u001b[1m)\u001b[0m                      \u001b[2m              \u001b[0m\n"
      ]
     },
     "metadata": {},
     "output_type": "display_data"
    },
    {
     "name": "stdout",
     "output_type": "stream",
     "text": [
      "index=mappingproxy({<Axis.POSITION: 'p'>: 0, <Axis.CHANNEL: 'c'>: 0}) channel=Channel(config='FITC') exposure=100.0 x_pos=-0.0 y_pos=-0.0 z_pos=0.0\n",
      "index=mappingproxy({<Axis.POSITION: 'p'>: 0, <Axis.CHANNEL: 'c'>: 0}) channel=Channel(config='FITC') exposure=100.0 x_pos=-0.0 y_pos=-0.0 z_pos=0.0\n",
      "This is my event\n",
      "index=mappingproxy({<Axis.POSITION: 'p'>: 0, <Axis.CHANNEL: 'c'>: 0}) channel=Channel(config='FITC') exposure=100.0 x_pos=-0.0 y_pos=-0.0 z_pos=0.0\n"
     ]
    },
    {
     "data": {
      "text/html": [
       "<pre style=\"white-space:pre;overflow-x:auto;line-height:normal;font-family:Menlo,'DejaVu Sans Mono',consolas,'Courier New',monospace\"><span style=\"color: #7fbfbf; text-decoration-color: #7fbfbf\">                    </span><span style=\"color: #000080; text-decoration-color: #000080\">INFO    </span> <span style=\"color: #808000; text-decoration-color: #808000\">index</span>=<span style=\"color: #800080; text-decoration-color: #800080; font-weight: bold\">mappingproxy</span><span style=\"font-weight: bold\">({&lt;</span><span style=\"color: #ff00ff; text-decoration-color: #ff00ff; font-weight: bold\">Axis.POSITION:</span><span style=\"color: #000000; text-decoration-color: #000000\"> </span><span style=\"color: #008000; text-decoration-color: #008000\">'p'</span><span style=\"color: #000000; text-decoration-color: #000000\">&gt;: </span><span style=\"color: #008080; text-decoration-color: #008080; font-weight: bold\">0</span><span style=\"color: #000000; text-decoration-color: #000000\">, &lt;Axis.CHANNEL: </span><span style=\"color: #008000; text-decoration-color: #008000\">'c'</span><span style=\"font-weight: bold\">&gt;</span>: <span style=\"color: #008080; text-decoration-color: #008080; font-weight: bold\">0</span><span style=\"font-weight: bold\">})</span>   <a href=\"file://c:\\Users\\dario\\anaconda3\\envs\\masterThesis\\lib\\site-packages\\pymmcore_plus\\mda\\_runner.py\" target=\"_blank\"><span style=\"color: #7f7f7f; text-decoration-color: #7f7f7f\">_runner.py</span></a><span style=\"color: #7f7f7f; text-decoration-color: #7f7f7f\">:</span><a href=\"file://c:\\Users\\dario\\anaconda3\\envs\\masterThesis\\lib\\site-packages\\pymmcore_plus\\mda\\_runner.py#337\" target=\"_blank\"><span style=\"color: #7f7f7f; text-decoration-color: #7f7f7f\">337</span></a>\n",
       "<span style=\"color: #7fbfbf; text-decoration-color: #7fbfbf\">                    </span>         <span style=\"color: #808000; text-decoration-color: #808000\">channel</span>=<span style=\"color: #800080; text-decoration-color: #800080; font-weight: bold\">Channel</span><span style=\"font-weight: bold\">(</span><span style=\"color: #808000; text-decoration-color: #808000\">config</span>=<span style=\"color: #008000; text-decoration-color: #008000\">'FITC'</span><span style=\"font-weight: bold\">)</span> <span style=\"color: #808000; text-decoration-color: #808000\">exposure</span>=<span style=\"color: #008080; text-decoration-color: #008080; font-weight: bold\">100.0</span> <span style=\"color: #808000; text-decoration-color: #808000\">x_pos</span>=<span style=\"color: #008080; text-decoration-color: #008080; font-weight: bold\">-0.0</span> <span style=\"color: #808000; text-decoration-color: #808000\">y_pos</span>=<span style=\"color: #008080; text-decoration-color: #008080; font-weight: bold\">-0.0</span>     <span style=\"color: #7f7f7f; text-decoration-color: #7f7f7f\">              </span>\n",
       "<span style=\"color: #7fbfbf; text-decoration-color: #7fbfbf\">                    </span>         <span style=\"color: #808000; text-decoration-color: #808000\">z_pos</span>=<span style=\"color: #008080; text-decoration-color: #008080; font-weight: bold\">0.0</span>                                                               <span style=\"color: #7f7f7f; text-decoration-color: #7f7f7f\">              </span>\n",
       "</pre>\n"
      ],
      "text/plain": [
       "\u001b[2;36m                   \u001b[0m\u001b[2;36m \u001b[0m\u001b[34mINFO    \u001b[0m \u001b[33mindex\u001b[0m=\u001b[1;35mmappingproxy\u001b[0m\u001b[1m(\u001b[0m\u001b[1m{\u001b[0m\u001b[1m<\u001b[0m\u001b[1;95mAxis.POSITION:\u001b[0m\u001b[39m \u001b[0m\u001b[32m'p'\u001b[0m\u001b[39m>: \u001b[0m\u001b[1;36m0\u001b[0m\u001b[39m, <Axis.CHANNEL: \u001b[0m\u001b[32m'c'\u001b[0m\u001b[1m>\u001b[0m: \u001b[1;36m0\u001b[0m\u001b[1m}\u001b[0m\u001b[1m)\u001b[0m   \u001b]8;id=524166;file://c:\\Users\\dario\\anaconda3\\envs\\masterThesis\\lib\\site-packages\\pymmcore_plus\\mda\\_runner.py\u001b\\\u001b[2m_runner.py\u001b[0m\u001b]8;;\u001b\\\u001b[2m:\u001b[0m\u001b]8;id=805972;file://c:\\Users\\dario\\anaconda3\\envs\\masterThesis\\lib\\site-packages\\pymmcore_plus\\mda\\_runner.py#337\u001b\\\u001b[2m337\u001b[0m\u001b]8;;\u001b\\\n",
       "\u001b[2;36m                    \u001b[0m         \u001b[33mchannel\u001b[0m=\u001b[1;35mChannel\u001b[0m\u001b[1m(\u001b[0m\u001b[33mconfig\u001b[0m=\u001b[32m'FITC'\u001b[0m\u001b[1m)\u001b[0m \u001b[33mexposure\u001b[0m=\u001b[1;36m100\u001b[0m\u001b[1;36m.0\u001b[0m \u001b[33mx_pos\u001b[0m=\u001b[1;36m-0.0\u001b[0m \u001b[33my_pos\u001b[0m=\u001b[1;36m-0.0\u001b[0m     \u001b[2m              \u001b[0m\n",
       "\u001b[2;36m                    \u001b[0m         \u001b[33mz_pos\u001b[0m=\u001b[1;36m0\u001b[0m\u001b[1;36m.0\u001b[0m                                                               \u001b[2m              \u001b[0m\n"
      ]
     },
     "metadata": {},
     "output_type": "display_data"
    },
    {
     "name": "stderr",
     "output_type": "stream",
     "text": [
      "WARNING: QBasicTimer::start: QBasicTimer can only be used with threads started with QThread\n",
      "WARNING: QBasicTimer::start: QBasicTimer can only be used with threads started with QThread\n",
      "WARNING: QBasicTimer::start: QBasicTimer can only be used with threads started with QThread\n",
      "WARNING: QBasicTimer::start: QBasicTimer can only be used with threads started with QThread\n",
      "WARNING: QBasicTimer::start: QBasicTimer can only be used with threads started with QThread\n",
      "WARNING: QBasicTimer::start: QBasicTimer can only be used with threads started with QThread\n",
      "WARNING: QBasicTimer::start: QBasicTimer can only be used with threads started with QThread\n",
      "WARNING: QBasicTimer::start: QBasicTimer can only be used with threads started with QThread\n"
     ]
    },
    {
     "data": {
      "text/html": [
       "<pre style=\"white-space:pre;overflow-x:auto;line-height:normal;font-family:Menlo,'DejaVu Sans Mono',consolas,'Courier New',monospace\"><span style=\"color: #7fbfbf; text-decoration-color: #7fbfbf\">                    </span><span style=\"color: #000080; text-decoration-color: #000080\">INFO    </span> MDA Finished: <span style=\"color: #808000; text-decoration-color: #808000\">metadata</span>=<span style=\"font-weight: bold\">{</span><span style=\"color: #008000; text-decoration-color: #008000\">'pymmcore_widgets'</span>: <span style=\"font-weight: bold\">{</span><span style=\"color: #008000; text-decoration-color: #008000\">'version'</span>: <span style=\"color: #008000; text-decoration-color: #008000\">'0.9.0'</span><span style=\"font-weight: bold\">}</span>,       <a href=\"file://c:\\Users\\dario\\anaconda3\\envs\\masterThesis\\lib\\site-packages\\pymmcore_plus\\mda\\_runner.py\" target=\"_blank\"><span style=\"color: #7f7f7f; text-decoration-color: #7f7f7f\">_runner.py</span></a><span style=\"color: #7f7f7f; text-decoration-color: #7f7f7f\">:</span><a href=\"file://c:\\Users\\dario\\anaconda3\\envs\\masterThesis\\lib\\site-packages\\pymmcore_plus\\mda\\_runner.py#463\" target=\"_blank\"><span style=\"color: #7f7f7f; text-decoration-color: #7f7f7f\">463</span></a>\n",
       "<span style=\"color: #7fbfbf; text-decoration-color: #7fbfbf\">                    </span>         <span style=\"color: #008000; text-decoration-color: #008000\">'napari_micromanager'</span>: <span style=\"font-weight: bold\">{</span><span style=\"color: #008000; text-decoration-color: #008000\">'split_channels'</span>: <span style=\"color: #ff0000; text-decoration-color: #ff0000; font-style: italic\">False</span><span style=\"font-weight: bold\">}}</span> <span style=\"color: #808000; text-decoration-color: #808000\">axis_order</span>=<span style=\"font-weight: bold\">(</span><span style=\"color: #008000; text-decoration-color: #008000\">'p'</span>, <span style=\"color: #008000; text-decoration-color: #008000\">'c'</span><span style=\"font-weight: bold\">)</span> <span style=\"color: #7f7f7f; text-decoration-color: #7f7f7f\">              </span>\n",
       "<span style=\"color: #7fbfbf; text-decoration-color: #7fbfbf\">                    </span>         <span style=\"color: #808000; text-decoration-color: #808000\">stage_positions</span>=<span style=\"font-weight: bold\">(</span><span style=\"color: #800080; text-decoration-color: #800080; font-weight: bold\">AbsolutePosition</span><span style=\"font-weight: bold\">(</span><span style=\"color: #808000; text-decoration-color: #808000\">x</span>=<span style=\"color: #008080; text-decoration-color: #008080; font-weight: bold\">-0.0</span>, <span style=\"color: #808000; text-decoration-color: #808000\">y</span>=<span style=\"color: #008080; text-decoration-color: #008080; font-weight: bold\">-0.0</span>, <span style=\"color: #808000; text-decoration-color: #808000\">z</span>=<span style=\"color: #008080; text-decoration-color: #008080; font-weight: bold\">0.0</span><span style=\"font-weight: bold\">)</span>,<span style=\"font-weight: bold\">)</span>              <span style=\"color: #7f7f7f; text-decoration-color: #7f7f7f\">              </span>\n",
       "<span style=\"color: #7fbfbf; text-decoration-color: #7fbfbf\">                    </span>         <span style=\"color: #808000; text-decoration-color: #808000\">channels</span>=<span style=\"font-weight: bold\">(</span><span style=\"color: #800080; text-decoration-color: #800080; font-weight: bold\">Channel</span><span style=\"font-weight: bold\">(</span><span style=\"color: #808000; text-decoration-color: #808000\">config</span>=<span style=\"color: #008000; text-decoration-color: #008000\">'FITC'</span>, <span style=\"color: #808000; text-decoration-color: #808000\">exposure</span>=<span style=\"color: #008080; text-decoration-color: #008080; font-weight: bold\">100.0</span><span style=\"font-weight: bold\">)</span>,<span style=\"font-weight: bold\">)</span>                      <span style=\"color: #7f7f7f; text-decoration-color: #7f7f7f\">              </span>\n",
       "</pre>\n"
      ],
      "text/plain": [
       "\u001b[2;36m                   \u001b[0m\u001b[2;36m \u001b[0m\u001b[34mINFO    \u001b[0m MDA Finished: \u001b[33mmetadata\u001b[0m=\u001b[1m{\u001b[0m\u001b[32m'pymmcore_widgets'\u001b[0m: \u001b[1m{\u001b[0m\u001b[32m'version'\u001b[0m: \u001b[32m'0.9.0'\u001b[0m\u001b[1m}\u001b[0m,       \u001b]8;id=871185;file://c:\\Users\\dario\\anaconda3\\envs\\masterThesis\\lib\\site-packages\\pymmcore_plus\\mda\\_runner.py\u001b\\\u001b[2m_runner.py\u001b[0m\u001b]8;;\u001b\\\u001b[2m:\u001b[0m\u001b]8;id=352057;file://c:\\Users\\dario\\anaconda3\\envs\\masterThesis\\lib\\site-packages\\pymmcore_plus\\mda\\_runner.py#463\u001b\\\u001b[2m463\u001b[0m\u001b]8;;\u001b\\\n",
       "\u001b[2;36m                    \u001b[0m         \u001b[32m'napari_micromanager'\u001b[0m: \u001b[1m{\u001b[0m\u001b[32m'split_channels'\u001b[0m: \u001b[3;91mFalse\u001b[0m\u001b[1m}\u001b[0m\u001b[1m}\u001b[0m \u001b[33maxis_order\u001b[0m=\u001b[1m(\u001b[0m\u001b[32m'p'\u001b[0m, \u001b[32m'c'\u001b[0m\u001b[1m)\u001b[0m \u001b[2m              \u001b[0m\n",
       "\u001b[2;36m                    \u001b[0m         \u001b[33mstage_positions\u001b[0m=\u001b[1m(\u001b[0m\u001b[1;35mAbsolutePosition\u001b[0m\u001b[1m(\u001b[0m\u001b[33mx\u001b[0m=\u001b[1;36m-0.0\u001b[0m, \u001b[33my\u001b[0m=\u001b[1;36m-0.0\u001b[0m, \u001b[33mz\u001b[0m=\u001b[1;36m0\u001b[0m\u001b[1;36m.0\u001b[0m\u001b[1m)\u001b[0m,\u001b[1m)\u001b[0m              \u001b[2m              \u001b[0m\n",
       "\u001b[2;36m                    \u001b[0m         \u001b[33mchannels\u001b[0m=\u001b[1m(\u001b[0m\u001b[1;35mChannel\u001b[0m\u001b[1m(\u001b[0m\u001b[33mconfig\u001b[0m=\u001b[32m'FITC'\u001b[0m, \u001b[33mexposure\u001b[0m=\u001b[1;36m100\u001b[0m\u001b[1;36m.0\u001b[0m\u001b[1m)\u001b[0m,\u001b[1m)\u001b[0m                      \u001b[2m              \u001b[0m\n"
      ]
     },
     "metadata": {},
     "output_type": "display_data"
    }
   ],
   "source": [
    "core.mda.events.eventStarted.connect(mda_started)"
   ]
  }
 ],
 "metadata": {
  "kernelspec": {
   "display_name": "masterThesis",
   "language": "python",
   "name": "python3"
  },
  "language_info": {
   "codemirror_mode": {
    "name": "ipython",
    "version": 3
   },
   "file_extension": ".py",
   "mimetype": "text/x-python",
   "name": "python",
   "nbconvert_exporter": "python",
   "pygments_lexer": "ipython3",
   "version": "3.9.21"
  }
 },
 "nbformat": 4,
 "nbformat_minor": 2
}
