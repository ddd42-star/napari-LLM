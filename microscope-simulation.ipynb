{
 "cells": [
  {
   "cell_type": "code",
   "execution_count": 1,
   "metadata": {},
   "outputs": [],
   "source": [
    "import pymmcore_plus"
   ]
  },
  {
   "cell_type": "code",
   "execution_count": 2,
   "metadata": {},
   "outputs": [
    {
     "name": "stdout",
     "output_type": "stream",
     "text": [
      "('DHub', 'Camera', 'Dichroic', 'Emission', 'Excitation', 'Objective', 'Z', 'Path', 'XY', 'White Light Shutter', 'Autofocus', 'LED', 'LED Shutter', 'Core')\n"
     ]
    }
   ],
   "source": [
    "# Initialize microscope\n",
    "core = pymmcore_plus.CMMCorePlus.instance()\n",
    "\n",
    "# load the configuration of the microscope\n",
    "# Give the .gft file with the specific configuration\n",
    "core.loadSystemConfiguration()\n",
    "\n",
    "# print loaded devices\n",
    "print(core.getLoadedDevices())"
   ]
  },
  {
   "cell_type": "code",
   "execution_count": 10,
   "metadata": {},
   "outputs": [
    {
     "name": "stdout",
     "output_type": "stream",
     "text": [
      "MMCore version 11.2.1, Device API version 71, Module API version 10\n",
      "Adapter path: C:\\Users\\dario\\AppData\\Local\\pymmcore-plus\\pymmcore-plus\\mm\\Micro-Manager_2.0.3_20250219\n"
     ]
    },
    {
     "data": {
      "text/html": [
       "<pre style=\"white-space:pre;overflow-x:auto;line-height:normal;font-family:Menlo,'DejaVu Sans Mono',consolas,'Courier New',monospace\">┏━━━━━━━━━━━━━━━━━━━━━┳━━━━━━━━━━━━━━┳━━━━━━━━━━━┳━━━━━━━━━━━━━━━━━━━━━━━━━━━━━━━━┳━━━━━━━━━━━━━━━━━━━━━━━━━━━━━━━┓\n",
       "┃<span style=\"font-weight: bold\"> Device Label        </span>┃<span style=\"font-weight: bold\"> Type         </span>┃<span style=\"font-weight: bold\"> Current   </span>┃<span style=\"font-weight: bold\"> Library::DeviceName            </span>┃<span style=\"font-weight: bold\"> Description                   </span>┃\n",
       "┡━━━━━━━━━━━━━━━━━━━━━╇━━━━━━━━━━━━━━╇━━━━━━━━━━━╇━━━━━━━━━━━━━━━━━━━━━━━━━━━━━━━━╇━━━━━━━━━━━━━━━━━━━━━━━━━━━━━━━┩\n",
       "│<span style=\"color: #008000; text-decoration-color: #008000; font-weight: bold\"> DHub                </span>│ 🔌 Hub       │<span style=\"font-weight: bold\">           </span>│ DemoCamera::DHub               │ DHub                          │\n",
       "│<span style=\"color: #008000; text-decoration-color: #008000; font-weight: bold\"> Camera              </span>│ 📷 Camera    │<span style=\"font-weight: bold\"> Camera    </span>│ DemoCamera::DCam               │ Demo camera                   │\n",
       "│<span style=\"color: #008000; text-decoration-color: #008000; font-weight: bold\"> Dichroic            </span>│ 🟢 State     │<span style=\"font-weight: bold\">           </span>│ DemoCamera::DWheel             │ Demo filter wheel             │\n",
       "│<span style=\"color: #008000; text-decoration-color: #008000; font-weight: bold\"> Emission            </span>│ 🟢 State     │<span style=\"font-weight: bold\">           </span>│ DemoCamera::DWheel             │ Demo filter wheel             │\n",
       "│<span style=\"color: #008000; text-decoration-color: #008000; font-weight: bold\"> Excitation          </span>│ 🟢 State     │<span style=\"font-weight: bold\">           </span>│ DemoCamera::DWheel             │ Demo filter wheel             │\n",
       "│<span style=\"color: #008000; text-decoration-color: #008000; font-weight: bold\"> Objective           </span>│ 🟢 State     │<span style=\"font-weight: bold\">           </span>│ DemoCamera::DObjective         │ Demo objective turret         │\n",
       "│<span style=\"color: #008000; text-decoration-color: #008000; font-weight: bold\"> Z                   </span>│ ⬆  Stage     │<span style=\"font-weight: bold\"> Focus     </span>│ DemoCamera::DStage             │ Demo stage                    │\n",
       "│<span style=\"color: #008000; text-decoration-color: #008000; font-weight: bold\"> Path                </span>│ 🟢 State     │<span style=\"font-weight: bold\">           </span>│ DemoCamera::DLightPath         │ Demo light path               │\n",
       "│<span style=\"color: #008000; text-decoration-color: #008000; font-weight: bold\"> XY                  </span>│ 🕹  XYStage   │<span style=\"font-weight: bold\"> XYStage   </span>│ DemoCamera::DXYStage           │ Demo XY stage                 │\n",
       "│<span style=\"color: #008000; text-decoration-color: #008000; font-weight: bold\"> White Light Shutter </span>│ 💡 Shutter   │<span style=\"font-weight: bold\"> Shutter   </span>│ DemoCamera::DShutter           │ Demo shutter                  │\n",
       "│<span style=\"color: #008000; text-decoration-color: #008000; font-weight: bold\"> Autofocus           </span>│ 〰 AutoFocus │<span style=\"font-weight: bold\"> AutoFocus </span>│ DemoCamera::DAutoFocus         │ Demo auto focus               │\n",
       "│<span style=\"color: #008000; text-decoration-color: #008000; font-weight: bold\"> LED                 </span>│ 🟢 State     │<span style=\"font-weight: bold\">           </span>│ DemoCamera::DStateDevice       │ Demo State Device             │\n",
       "│<span style=\"color: #008000; text-decoration-color: #008000; font-weight: bold\"> LED Shutter         </span>│ 💡 Shutter   │<span style=\"font-weight: bold\">           </span>│ Utilities::State Device        │ State device used as a        │\n",
       "│<span style=\"color: #008000; text-decoration-color: #008000; font-weight: bold\">                     </span>│              │<span style=\"font-weight: bold\">           </span>│ Shutter                        │ shutter                       │\n",
       "│<span style=\"color: #008000; text-decoration-color: #008000; font-weight: bold\"> Core                </span>│ 💙 Core      │<span style=\"font-weight: bold\">           </span>│ ::Core                         │ Core device                   │\n",
       "└─────────────────────┴──────────────┴───────────┴────────────────────────────────┴───────────────────────────────┘\n",
       "</pre>\n"
      ],
      "text/plain": [
       "┏━━━━━━━━━━━━━━━━━━━━━┳━━━━━━━━━━━━━━┳━━━━━━━━━━━┳━━━━━━━━━━━━━━━━━━━━━━━━━━━━━━━━┳━━━━━━━━━━━━━━━━━━━━━━━━━━━━━━━┓\n",
       "┃\u001b[1m \u001b[0m\u001b[1mDevice Label       \u001b[0m\u001b[1m \u001b[0m┃\u001b[1m \u001b[0m\u001b[1mType        \u001b[0m\u001b[1m \u001b[0m┃\u001b[1m \u001b[0m\u001b[1mCurrent  \u001b[0m\u001b[1m \u001b[0m┃\u001b[1m \u001b[0m\u001b[1mLibrary::DeviceName           \u001b[0m\u001b[1m \u001b[0m┃\u001b[1m \u001b[0m\u001b[1mDescription                  \u001b[0m\u001b[1m \u001b[0m┃\n",
       "┡━━━━━━━━━━━━━━━━━━━━━╇━━━━━━━━━━━━━━╇━━━━━━━━━━━╇━━━━━━━━━━━━━━━━━━━━━━━━━━━━━━━━╇━━━━━━━━━━━━━━━━━━━━━━━━━━━━━━━┩\n",
       "│\u001b[1;32m \u001b[0m\u001b[1;32mDHub               \u001b[0m\u001b[1;32m \u001b[0m│ 🔌 Hub       │\u001b[1m \u001b[0m\u001b[1m         \u001b[0m\u001b[1m \u001b[0m│ DemoCamera::DHub               │ DHub                          │\n",
       "│\u001b[1;32m \u001b[0m\u001b[1;32mCamera             \u001b[0m\u001b[1;32m \u001b[0m│ 📷 Camera    │\u001b[1m \u001b[0m\u001b[1mCamera   \u001b[0m\u001b[1m \u001b[0m│ DemoCamera::DCam               │ Demo camera                   │\n",
       "│\u001b[1;32m \u001b[0m\u001b[1;32mDichroic           \u001b[0m\u001b[1;32m \u001b[0m│ 🟢 State     │\u001b[1m \u001b[0m\u001b[1m         \u001b[0m\u001b[1m \u001b[0m│ DemoCamera::DWheel             │ Demo filter wheel             │\n",
       "│\u001b[1;32m \u001b[0m\u001b[1;32mEmission           \u001b[0m\u001b[1;32m \u001b[0m│ 🟢 State     │\u001b[1m \u001b[0m\u001b[1m         \u001b[0m\u001b[1m \u001b[0m│ DemoCamera::DWheel             │ Demo filter wheel             │\n",
       "│\u001b[1;32m \u001b[0m\u001b[1;32mExcitation         \u001b[0m\u001b[1;32m \u001b[0m│ 🟢 State     │\u001b[1m \u001b[0m\u001b[1m         \u001b[0m\u001b[1m \u001b[0m│ DemoCamera::DWheel             │ Demo filter wheel             │\n",
       "│\u001b[1;32m \u001b[0m\u001b[1;32mObjective          \u001b[0m\u001b[1;32m \u001b[0m│ 🟢 State     │\u001b[1m \u001b[0m\u001b[1m         \u001b[0m\u001b[1m \u001b[0m│ DemoCamera::DObjective         │ Demo objective turret         │\n",
       "│\u001b[1;32m \u001b[0m\u001b[1;32mZ                  \u001b[0m\u001b[1;32m \u001b[0m│ ⬆  Stage     │\u001b[1m \u001b[0m\u001b[1mFocus    \u001b[0m\u001b[1m \u001b[0m│ DemoCamera::DStage             │ Demo stage                    │\n",
       "│\u001b[1;32m \u001b[0m\u001b[1;32mPath               \u001b[0m\u001b[1;32m \u001b[0m│ 🟢 State     │\u001b[1m \u001b[0m\u001b[1m         \u001b[0m\u001b[1m \u001b[0m│ DemoCamera::DLightPath         │ Demo light path               │\n",
       "│\u001b[1;32m \u001b[0m\u001b[1;32mXY                 \u001b[0m\u001b[1;32m \u001b[0m│ 🕹  XYStage   │\u001b[1m \u001b[0m\u001b[1mXYStage  \u001b[0m\u001b[1m \u001b[0m│ DemoCamera::DXYStage           │ Demo XY stage                 │\n",
       "│\u001b[1;32m \u001b[0m\u001b[1;32mWhite Light Shutter\u001b[0m\u001b[1;32m \u001b[0m│ 💡 Shutter   │\u001b[1m \u001b[0m\u001b[1mShutter  \u001b[0m\u001b[1m \u001b[0m│ DemoCamera::DShutter           │ Demo shutter                  │\n",
       "│\u001b[1;32m \u001b[0m\u001b[1;32mAutofocus          \u001b[0m\u001b[1;32m \u001b[0m│ 〰 AutoFocus │\u001b[1m \u001b[0m\u001b[1mAutoFocus\u001b[0m\u001b[1m \u001b[0m│ DemoCamera::DAutoFocus         │ Demo auto focus               │\n",
       "│\u001b[1;32m \u001b[0m\u001b[1;32mLED                \u001b[0m\u001b[1;32m \u001b[0m│ 🟢 State     │\u001b[1m \u001b[0m\u001b[1m         \u001b[0m\u001b[1m \u001b[0m│ DemoCamera::DStateDevice       │ Demo State Device             │\n",
       "│\u001b[1;32m \u001b[0m\u001b[1;32mLED Shutter        \u001b[0m\u001b[1;32m \u001b[0m│ 💡 Shutter   │\u001b[1m \u001b[0m\u001b[1m         \u001b[0m\u001b[1m \u001b[0m│ Utilities::State Device        │ State device used as a        │\n",
       "│\u001b[1;32m                     \u001b[0m│              │\u001b[1m           \u001b[0m│ Shutter                        │ shutter                       │\n",
       "│\u001b[1;32m \u001b[0m\u001b[1;32mCore               \u001b[0m\u001b[1;32m \u001b[0m│ 💙 Core      │\u001b[1m \u001b[0m\u001b[1m         \u001b[0m\u001b[1m \u001b[0m│ ::Core                         │ Core device                   │\n",
       "└─────────────────────┴──────────────┴───────────┴────────────────────────────────┴───────────────────────────────┘\n"
      ]
     },
     "metadata": {},
     "output_type": "display_data"
    }
   ],
   "source": [
    "core.describe()"
   ]
  },
  {
   "cell_type": "markdown",
   "metadata": {},
   "source": [
    "The adapter is ?"
   ]
  },
  {
   "cell_type": "code",
   "execution_count": 11,
   "metadata": {},
   "outputs": [
    {
     "data": {
      "text/plain": [
       "'DCam'"
      ]
     },
     "execution_count": 11,
     "metadata": {},
     "output_type": "execute_result"
    }
   ],
   "source": [
    "core.getDeviceName(\"Camera\")"
   ]
  },
  {
   "cell_type": "code",
   "execution_count": 12,
   "metadata": {},
   "outputs": [
    {
     "data": {
      "text/plain": [
       "-0.0"
      ]
     },
     "execution_count": 12,
     "metadata": {},
     "output_type": "execute_result"
    }
   ],
   "source": [
    "core.getYPosition()"
   ]
  },
  {
   "cell_type": "code",
   "execution_count": 13,
   "metadata": {},
   "outputs": [
    {
     "data": {
      "text/plain": [
       "True"
      ]
     },
     "execution_count": 13,
     "metadata": {},
     "output_type": "execute_result"
    }
   ],
   "source": [
    "core.getAutoShutter()"
   ]
  },
  {
   "cell_type": "code",
   "execution_count": 30,
   "metadata": {},
   "outputs": [],
   "source": [
    "class AutoShutterHandler:\n",
    "    def __init__(self, core):\n",
    "        self.core = core\n",
    "        self.auto_shutter_state = None\n",
    "        self.core.events.autoShutterSet.connect(self.set_auto_shutter)\n",
    "        print(\"Callback connected.\")\n",
    "\n",
    "    def set_auto_shutter(self, set_auto: bool):\n",
    "        self.auto_shutter_state = set_auto\n",
    "        print(f\"[Callback] Auto shutter set to: {set_auto}\")\n",
    "\n",
    "    def disconnect(self):\n",
    "        self.core.events.autoShutterSet.disconnect(self.set_auto_shutter)\n",
    "        print(\"Callback disconnected.\")"
   ]
  },
  {
   "cell_type": "code",
   "execution_count": 31,
   "metadata": {},
   "outputs": [
    {
     "name": "stdout",
     "output_type": "stream",
     "text": [
      "Callback connected.\n",
      "[Callback] Auto shutter set to: False\n",
      "False\n",
      "[Callback] Auto shutter set to: True\n",
      "True\n",
      "[Callback] Auto shutter set to: False\n",
      "Callback disconnected.\n",
      "False\n"
     ]
    }
   ],
   "source": [
    "# connect the event\n",
    "handler = AutoShutterHandler(core)\n",
    "# change value of event shutter\n",
    "core.setAutoShutter(False)\n",
    "# check the new value\n",
    "print(handler.auto_shutter_state)\n",
    "# new event\n",
    "core.setAutoShutter(True)\n",
    "# check new value\n",
    "print(handler.auto_shutter_state)\n",
    "# new event\n",
    "core.setAutoShutter(False)\n",
    "# disconnect handler\n",
    "handler.disconnect()\n",
    "# try to triggger callback\n",
    "core.setAutoShutter(False)\n",
    "# value remains as last event value\n",
    "print(handler.auto_shutter_state)"
   ]
  },
  {
   "cell_type": "code",
   "execution_count": 32,
   "metadata": {},
   "outputs": [
    {
     "data": {
      "text/plain": [
       "'Camera'"
      ]
     },
     "execution_count": 32,
     "metadata": {},
     "output_type": "execute_result"
    }
   ],
   "source": [
    "core.getChannelGroup()"
   ]
  },
  {
   "cell_type": "code",
   "execution_count": 33,
   "metadata": {},
   "outputs": [
    {
     "data": {
      "text/plain": [
       "('Camera', 'Channel', 'Channel-Multiband', 'LightPath', 'Objective', 'System')"
      ]
     },
     "execution_count": 33,
     "metadata": {},
     "output_type": "execute_result"
    }
   ],
   "source": [
    "core.getAvailableConfigGroups()"
   ]
  },
  {
   "cell_type": "code",
   "execution_count": 38,
   "metadata": {},
   "outputs": [],
   "source": [
    "class ChannelGroupHandler:\n",
    "    def __init__(self, core):\n",
    "        self.core = core\n",
    "        self.channel_group_state = None\n",
    "        self.core.events.channelGroupChanged.connect(self.set_channel_group)\n",
    "        print(\"Callback connected.\")\n",
    "\n",
    "    def set_channel_group(self,newChannelGroupName: str):\n",
    "        self.channel_group_state = newChannelGroupName\n",
    "        print(f\"[Callback] Group Channel set to: {newChannelGroupName}\")\n",
    "\n",
    "    def disconnect(self):\n",
    "        self.core.events.channelGroupChanged.disconnect(self.set_channel_group)\n",
    "        print(\"Callback disconnected.\")"
   ]
  },
  {
   "cell_type": "code",
   "execution_count": 39,
   "metadata": {},
   "outputs": [
    {
     "name": "stdout",
     "output_type": "stream",
     "text": [
      "Camera\n",
      "Callback connected.\n",
      "[Callback] Group Channel set to: Channel\n",
      "[Callback] Group Channel set to: Channel\n",
      "[Callback] Group Channel set to: Camera\n",
      "[Callback] Group Channel set to: Camera\n",
      "Callback disconnected.\n"
     ]
    }
   ],
   "source": [
    "# get current Group Channel\n",
    "print(core.getChannelGroup())\n",
    "# connect new handler\n",
    "handler_channel = ChannelGroupHandler(core)\n",
    "# set new channel group\n",
    "core.setChannelGroup('Channel')\n",
    "# check the state\n",
    "handler_channel.channel_group_state\n",
    "# set new channel\n",
    "core.setChannelGroup('Camera')\n",
    "# check the state\n",
    "handler_channel.channel_group_state\n",
    "# disconnect the channel handler\n",
    "handler_channel.disconnect()"
   ]
  },
  {
   "cell_type": "code",
   "execution_count": 43,
   "metadata": {},
   "outputs": [],
   "source": [
    "core.setChannelGroup('LightPath')"
   ]
  },
  {
   "cell_type": "code",
   "execution_count": 44,
   "metadata": {},
   "outputs": [
    {
     "data": {
      "text/plain": [
       "'Camera'"
      ]
     },
     "execution_count": 44,
     "metadata": {},
     "output_type": "execute_result"
    }
   ],
   "source": [
    "handler_channel.channel_group_state"
   ]
  },
  {
   "cell_type": "code",
   "execution_count": 3,
   "metadata": {},
   "outputs": [
    {
     "data": {
      "text/plain": [
       "('HighRes', 'LowRes', 'MedRes')"
      ]
     },
     "execution_count": 3,
     "metadata": {},
     "output_type": "execute_result"
    }
   ],
   "source": [
    "core.getAvailableConfigs('Camera')"
   ]
  },
  {
   "cell_type": "code",
   "execution_count": 4,
   "metadata": {},
   "outputs": [
    {
     "data": {
      "text/plain": [
       "{'Camera': {'Binning': '1', 'BitDepth': '12'}}"
      ]
     },
     "execution_count": 4,
     "metadata": {},
     "output_type": "execute_result"
    }
   ],
   "source": [
    "core.getConfigData('Camera', 'HighRes').dict()"
   ]
  },
  {
   "cell_type": "code",
   "execution_count": 5,
   "metadata": {},
   "outputs": [
    {
     "data": {
      "text/plain": [
       "('Cy5', 'DAPI', 'FITC', 'Rhodamine')"
      ]
     },
     "execution_count": 5,
     "metadata": {},
     "output_type": "execute_result"
    }
   ],
   "source": [
    "core.getAvailableConfigs('Channel')"
   ]
  },
  {
   "cell_type": "code",
   "execution_count": 6,
   "metadata": {},
   "outputs": [
    {
     "data": {
      "text/plain": [
       "{'Dichroic': {'Label': '400DCLP'},\n",
       " 'Emission': {'Label': 'Chroma-HQ700'},\n",
       " 'Excitation': {'Label': 'Chroma-HQ570'},\n",
       " 'Core': {'Shutter': 'White Light Shutter'}}"
      ]
     },
     "execution_count": 6,
     "metadata": {},
     "output_type": "execute_result"
    }
   ],
   "source": [
    "core.getConfigData('Channel', 'Cy5').dict()"
   ]
  },
  {
   "cell_type": "code",
   "execution_count": 7,
   "metadata": {},
   "outputs": [
    {
     "data": {
      "text/plain": [
       "{'Dichroic': {'Label': '400DCLP'},\n",
       " 'Emission': {'Label': 'Chroma-HQ620'},\n",
       " 'Excitation': {'Label': 'Chroma-D360'},\n",
       " 'Core': {'Shutter': 'White Light Shutter'}}"
      ]
     },
     "execution_count": 7,
     "metadata": {},
     "output_type": "execute_result"
    }
   ],
   "source": [
    "core.getConfigGroupState('Channel').dict()"
   ]
  },
  {
   "cell_type": "code",
   "execution_count": 8,
   "metadata": {},
   "outputs": [
    {
     "data": {
      "text/plain": [
       "'DAPI'"
      ]
     },
     "execution_count": 8,
     "metadata": {},
     "output_type": "execute_result"
    }
   ],
   "source": [
    "core.getCurrentConfig('Channel')"
   ]
  },
  {
   "cell_type": "code",
   "execution_count": 9,
   "metadata": {},
   "outputs": [
    {
     "data": {
      "text/plain": [
       "('Cy5', 'DAPI', 'FITC', 'Rhodamine')"
      ]
     },
     "execution_count": 9,
     "metadata": {},
     "output_type": "execute_result"
    }
   ],
   "source": [
    "core.getAvailableConfigs('Channel')"
   ]
  },
  {
   "cell_type": "code",
   "execution_count": 9,
   "metadata": {},
   "outputs": [],
   "source": [
    "class ConfigurationHandler:\n",
    "\n",
    "    def __init__(self, core):\n",
    "        self.core = core\n",
    "        self.config_set_state = None\n",
    "        self.config_delete_state = None\n",
    "        self.config_define_state = None\n",
    "        #self.config_group_change_state = None\n",
    "        self.config_group_delete_state = None\n",
    "        self.core.events.configSet.connect(self.config_set)\n",
    "        self.core.events.configDeleted.connect(self.config_delete)\n",
    "        self.core.events.configDefined.connect(self.config_define)\n",
    "        self.core.events.configGroupDeleted.connect(self.config_group_deleted)\n",
    "        print(\"Callback connected\")\n",
    "\n",
    "    def config_set(self, groupName: str, configName: str):\n",
    "        self.config_set_state = (groupName,configName) # f'The config group {groupName} has the new configuration {configName}'\n",
    "        print(f'[Callback] The config group {groupName} has the new configuration {configName}')\n",
    "\n",
    "    def config_delete(self, groupName: str, configName: str):\n",
    "        # one can delete the complete config or just a specific property\n",
    "        # check every time with core.getAvailableConfigs(groupName)\n",
    "        self.config_delete_state = (groupName,configName)\n",
    "        print(f'[Callback] The config group {groupName} with the configuration {configName} was deleted.')\n",
    "\n",
    "    def config_define(self, groupName: str, configName: str, deviceLabel: str, propertyName: str, value: str):\n",
    "        self.config_define_state = (groupName, configName, deviceLabel, propertyName, value)\n",
    "        print(f'[Callback] The new configuration ({groupName}, {configName}, {deviceLabel}, {propertyName}, {value}) was defined.')\n",
    "\n",
    "    def config_group_deleted(self, groupName: str):\n",
    "        self.config_group_delete_state = groupName\n",
    "        print(f'The config group {groupName} was deleted')\n",
    "\n",
    "    def disconnect(self):\n",
    "        self.core.events.configSet.disconnect(self.config_set)\n",
    "        self.core.events.configDeleted.disconnect(self.config_delete)\n",
    "        self.core.events.configDefined.disconnect(self.config_define)\n",
    "        self.core.events.configGroupDeleted.disconnect(self.config_group_deleted)"
   ]
  },
  {
   "cell_type": "code",
   "execution_count": 31,
   "metadata": {},
   "outputs": [
    {
     "name": "stdout",
     "output_type": "stream",
     "text": [
      "('Camera', 'Channel', 'Channel-Multiband', 'LightPath', 'Objective', 'System')\n",
      "('Cy5', 'DAPI', 'FITC', 'Rhodamine')\n",
      "Callback connected\n",
      "DAPI\n",
      "[Callback] The config group Channel has the new configuration FITC\n",
      "FITC\n",
      "The config group Channel has the new configuration FITC\n",
      "[Callback] The config group Channel has the new configuration Cy5\n",
      "Cy5\n",
      "The config group Channel has the new configuration Cy5\n"
     ]
    }
   ],
   "source": [
    "# get available configuration Group\n",
    "print(core.getAvailableConfigGroups())\n",
    "\n",
    "# get available configs for channel\n",
    "print(core.getAvailableConfigs('Channel'))\n",
    "\n",
    "# initialize callback\n",
    "handler_config = ConfigurationHandler(core)\n",
    "\n",
    "# get current config for Channel\n",
    "print(core.getCurrentConfig('Channel'))\n",
    "\n",
    "# set new config for channel\n",
    "core.setConfig('Channel', 'FITC')\n",
    "\n",
    "# check new value for config\n",
    "print(core.getCurrentConfig('Channel'))\n",
    "\n",
    "# access value in the handler\n",
    "print(handler_config.config_set_state)\n",
    "\n",
    "# set new value config for channel\n",
    "core.setConfig('Channel', 'Cy5')\n",
    "\n",
    "# check new value for config\n",
    "print(core.getCurrentConfig('Channel'))\n",
    "\n",
    "# disconnect callback\n",
    "handler_config.disconnect()\n",
    "\n",
    "# set new config\n",
    "core.setConfig('Channel', 'DAPI')\n",
    "\n",
    "# check that the callback value didn't change\n",
    "print(handler_config.config_set_state)"
   ]
  },
  {
   "cell_type": "code",
   "execution_count": 145,
   "metadata": {},
   "outputs": [
    {
     "data": {
      "text/plain": [
       "ConfigGroup(presets=['FITC', 'Rhodamine'], n_properties=4)"
      ]
     },
     "execution_count": 145,
     "metadata": {},
     "output_type": "execute_result"
    }
   ],
   "source": [
    "core.getConfigGroupObject('Channel')"
   ]
  },
  {
   "cell_type": "code",
   "execution_count": 11,
   "metadata": {},
   "outputs": [],
   "source": [
    "# delete a configuration group\n",
    "def config_group_deleted(var: str):\n",
    "    print(f'The config group {var} was deleted')"
   ]
  },
  {
   "cell_type": "code",
   "execution_count": 25,
   "metadata": {},
   "outputs": [],
   "source": [
    "core.events.configGroupDeleted.disconnect(config_group_deleted)"
   ]
  },
  {
   "cell_type": "code",
   "execution_count": 21,
   "metadata": {},
   "outputs": [],
   "source": [
    "core.defineConfigGroup('Test')"
   ]
  },
  {
   "cell_type": "code",
   "execution_count": 22,
   "metadata": {},
   "outputs": [
    {
     "data": {
      "text/plain": [
       "('Camera',\n",
       " 'Channel',\n",
       " 'Channel-Multiband',\n",
       " 'LightPath',\n",
       " 'Objective',\n",
       " 'System',\n",
       " 'Test')"
      ]
     },
     "execution_count": 22,
     "metadata": {},
     "output_type": "execute_result"
    }
   ],
   "source": [
    "core.getAvailableConfigGroups()"
   ]
  },
  {
   "cell_type": "code",
   "execution_count": 23,
   "metadata": {},
   "outputs": [
    {
     "name": "stdout",
     "output_type": "stream",
     "text": [
      "The config group Test was deleted\n"
     ]
    }
   ],
   "source": [
    "try: \n",
    "    core.deleteConfigGroup('Test')\n",
    "except:\n",
    "    pass"
   ]
  },
  {
   "cell_type": "code",
   "execution_count": 24,
   "metadata": {},
   "outputs": [
    {
     "data": {
      "text/plain": [
       "('Camera', 'Channel', 'Channel-Multiband', 'LightPath', 'Objective', 'System')"
      ]
     },
     "execution_count": 24,
     "metadata": {},
     "output_type": "execute_result"
    }
   ],
   "source": [
    "core.getAvailableConfigGroups()"
   ]
  },
  {
   "cell_type": "code",
   "execution_count": 150,
   "metadata": {},
   "outputs": [
    {
     "data": {
      "text/plain": [
       "('Camera', 'Channel', 'LightPath', 'Objective', 'System')"
      ]
     },
     "execution_count": 150,
     "metadata": {},
     "output_type": "execute_result"
    }
   ],
   "source": [
    "core.getAvailableConfigGroups()"
   ]
  },
  {
   "cell_type": "code",
   "execution_count": 131,
   "metadata": {},
   "outputs": [
    {
     "name": "stdout",
     "output_type": "stream",
     "text": [
      "Callback connected\n"
     ]
    }
   ],
   "source": [
    "handler_delete_config = ConfigurationHandler(core)"
   ]
  },
  {
   "cell_type": "code",
   "execution_count": 12,
   "metadata": {},
   "outputs": [
    {
     "data": {
      "text/plain": [
       "'DAPI'"
      ]
     },
     "execution_count": 12,
     "metadata": {},
     "output_type": "execute_result"
    }
   ],
   "source": [
    "core.getCurrentConfig('Channel')"
   ]
  },
  {
   "cell_type": "code",
   "execution_count": 29,
   "metadata": {},
   "outputs": [],
   "source": [
    "core.setConfig('Channel', 'DAPI')"
   ]
  },
  {
   "cell_type": "code",
   "execution_count": 48,
   "metadata": {},
   "outputs": [
    {
     "data": {
      "text/plain": [
       "{'Dichroic': {'Label': '400DCLP'},\n",
       " 'Emission': {'Label': 'Chroma-HQ620'},\n",
       " 'Excitation': {'Label': 'Chroma-D360'},\n",
       " 'Core': {'Shutter': 'White Light Shutter'}}"
      ]
     },
     "execution_count": 48,
     "metadata": {},
     "output_type": "execute_result"
    }
   ],
   "source": [
    "core.getConfigData('Channel', 'DAPI').dict()"
   ]
  },
  {
   "cell_type": "code",
   "execution_count": 128,
   "metadata": {},
   "outputs": [
    {
     "data": {
      "text/plain": [
       "{'Dichroic': {'Label': 'Q505LP'},\n",
       " 'Emission': {'Label': 'Chroma-HQ535'},\n",
       " 'Excitation': {'Label': 'Chroma-HQ480'},\n",
       " 'Core': {'Shutter': 'White Light Shutter'}}"
      ]
     },
     "execution_count": 128,
     "metadata": {},
     "output_type": "execute_result"
    }
   ],
   "source": [
    "core.getConfigData('Channel', 'FITC').dict()"
   ]
  },
  {
   "cell_type": "code",
   "execution_count": 137,
   "metadata": {},
   "outputs": [
    {
     "data": {
      "text/plain": [
       "{'Emission': {'Label': 'Chroma-HQ620'},\n",
       " 'Excitation': {'Label': 'Chroma-D360'},\n",
       " 'Core': {'Shutter': 'White Light Shutter'},\n",
       " 'Dichroic': {'Label': '400DCLP'}}"
      ]
     },
     "execution_count": 137,
     "metadata": {},
     "output_type": "execute_result"
    }
   ],
   "source": [
    "core.getConfigData('Channel', 'DAPI').dict()"
   ]
  },
  {
   "cell_type": "code",
   "execution_count": 138,
   "metadata": {},
   "outputs": [
    {
     "name": "stdout",
     "output_type": "stream",
     "text": [
      "[Callback] The config group Channel with the configuration DAPI was deleted.\n"
     ]
    }
   ],
   "source": [
    "core.deleteConfig('Channel', 'DAPI')"
   ]
  },
  {
   "cell_type": "code",
   "execution_count": 140,
   "metadata": {},
   "outputs": [
    {
     "data": {
      "text/plain": [
       "('FITC', 'Rhodamine')"
      ]
     },
     "execution_count": 140,
     "metadata": {},
     "output_type": "execute_result"
    }
   ],
   "source": [
    "core.getAvailableConfigs('Channel')"
   ]
  },
  {
   "cell_type": "code",
   "execution_count": null,
   "metadata": {},
   "outputs": [],
   "source": [
    "core.deleteConfig()"
   ]
  },
  {
   "cell_type": "code",
   "execution_count": 171,
   "metadata": {},
   "outputs": [],
   "source": [
    "handler_delete_config.disconnect()"
   ]
  },
  {
   "cell_type": "code",
   "execution_count": null,
   "metadata": {},
   "outputs": [
    {
     "data": {
      "text/plain": [
       "{'Emission': {'Label': 'Chroma-HQ620'},\n",
       " 'Excitation': {'Label': 'Chroma-D360'},\n",
       " 'Core': {'Shutter': 'White Light Shutter'}}"
      ]
     },
     "execution_count": 91,
     "metadata": {},
     "output_type": "execute_result"
    },
    {
     "name": "stdout",
     "output_type": "stream",
     "text": [
      "[Callback] The config group Channel-Multiband has the new configuration Cy5\n",
      "[Callback] The config group Channel-Multiband has the new configuration DAPI\n",
      "[Callback] The config group Channel-Multiband has the new configuration DAPI\n"
     ]
    }
   ],
   "source": [
    "core.getConfigData('Channel', 'DAPI').dict()"
   ]
  },
  {
   "cell_type": "code",
   "execution_count": null,
   "metadata": {},
   "outputs": [
    {
     "data": {
      "text/plain": [
       "['Dichroic', 'Emission', 'Excitation', 'Core']"
      ]
     },
     "execution_count": 44,
     "metadata": {},
     "output_type": "execute_result"
    }
   ],
   "source": [
    "core.getConfigData('Channel', 'DAPI').append"
   ]
  },
  {
   "cell_type": "code",
   "execution_count": 58,
   "metadata": {},
   "outputs": [
    {
     "data": {
      "text/plain": [
       "('ClosedPosition', 'Description', 'HubID', 'Label', 'Name', 'State')"
      ]
     },
     "execution_count": 58,
     "metadata": {},
     "output_type": "execute_result"
    }
   ],
   "source": [
    "core.getDevicePropertyNames('Dichroic')"
   ]
  },
  {
   "cell_type": "code",
   "execution_count": 59,
   "metadata": {},
   "outputs": [
    {
     "data": {
      "text/plain": [
       "'0'"
      ]
     },
     "execution_count": 59,
     "metadata": {},
     "output_type": "execute_result"
    }
   ],
   "source": [
    "core.getProperty('Dichroic','ClosedPosition')"
   ]
  },
  {
   "cell_type": "code",
   "execution_count": 76,
   "metadata": {},
   "outputs": [
    {
     "data": {
      "text/plain": [
       "{'valid': True,\n",
       " 'value': 'Q585LP',\n",
       " 'type': 'string',\n",
       " 'device_type': 'StateDevice',\n",
       " 'read_only': False,\n",
       " 'sequenceable': False,\n",
       " 'sequence_max_length': None,\n",
       " 'pre_init': False,\n",
       " 'range': None,\n",
       " 'allowed_values': ('400DCLP',\n",
       "  '89402bs',\n",
       "  'Q505LP',\n",
       "  'Q585LP',\n",
       "  'State-4',\n",
       "  'State-5',\n",
       "  'State-6',\n",
       "  'State-7',\n",
       "  'State-8',\n",
       "  'State-9')}"
      ]
     },
     "execution_count": 76,
     "metadata": {},
     "output_type": "execute_result"
    }
   ],
   "source": [
    "core.getPropertyObject('Dichroic', 'Label').dict()"
   ]
  },
  {
   "cell_type": "code",
   "execution_count": 69,
   "metadata": {},
   "outputs": [
    {
     "data": {
      "text/plain": [
       "{'valid': True,\n",
       " 'value': 0,\n",
       " 'type': 'integer',\n",
       " 'device_type': 'StateDevice',\n",
       " 'read_only': False,\n",
       " 'sequenceable': False,\n",
       " 'sequence_max_length': None,\n",
       " 'pre_init': False,\n",
       " 'range': None,\n",
       " 'allowed_values': ('0', '1', '2', '3', '4', '5', '6', '7', '8', '9')}"
      ]
     },
     "execution_count": 69,
     "metadata": {},
     "output_type": "execute_result"
    }
   ],
   "source": [
    "core.getPropertyObject('Dichroic', 'State').dict()"
   ]
  },
  {
   "cell_type": "code",
   "execution_count": 62,
   "metadata": {},
   "outputs": [
    {
     "data": {
      "text/plain": [
       "'Demo filter wheel driver'"
      ]
     },
     "execution_count": 62,
     "metadata": {},
     "output_type": "execute_result"
    }
   ],
   "source": [
    "core.getProperty('Dichroic', 'Description')"
   ]
  },
  {
   "cell_type": "code",
   "execution_count": 63,
   "metadata": {},
   "outputs": [
    {
     "data": {
      "text/plain": [
       "''"
      ]
     },
     "execution_count": 63,
     "metadata": {},
     "output_type": "execute_result"
    }
   ],
   "source": [
    "core.getProperty('Dichroic', 'HubID')"
   ]
  },
  {
   "cell_type": "code",
   "execution_count": 67,
   "metadata": {},
   "outputs": [
    {
     "data": {
      "text/plain": [
       "'0'"
      ]
     },
     "execution_count": 67,
     "metadata": {},
     "output_type": "execute_result"
    }
   ],
   "source": [
    "core.getProperty('Dichroic', 'State')"
   ]
  },
  {
   "cell_type": "code",
   "execution_count": null,
   "metadata": {},
   "outputs": [
    {
     "name": "stderr",
     "output_type": "stream",
     "text": [
      "\u001b[38;20m2025-02-24 17:17:31,089 - pymmcore-plus - INFO - (_runner.py:310) MDA Started: channels=(Channel(config='DAPI', exposure=50.0), Channel(config='FITC', exposure=20.0)) time_plan=TIntervalLoops(interval=datetime.timedelta(seconds=2), loops=10) z_plan=ZRangeAround(range=4.0, step=0.5)\u001b[0m\n"
     ]
    },
    {
     "data": {
      "text/plain": [
       "<Thread(Thread-3, started 29040)>"
      ]
     },
     "execution_count": 28,
     "metadata": {},
     "output_type": "execute_result"
    },
    {
     "name": "stderr",
     "output_type": "stream",
     "text": [
      "\u001b[38;20m2025-02-24 17:17:31,102 - pymmcore-plus - INFO - (_runner.py:278) index=mappingproxy({<Axis.TIME: 't'>: 0, <Axis.CHANNEL: 'c'>: 0, <Axis.Z: 'z'>: 0}) channel=Channel(config='DAPI') exposure=50.0 min_start_time=0.0 z_pos=-2.0 reset_event_timer=True\u001b[0m\n"
     ]
    },
    {
     "name": "stderr",
     "output_type": "stream",
     "text": [
      "\u001b[38;20m2025-02-24 17:17:31,157 - pymmcore-plus - INFO - (_runner.py:278) index=mappingproxy({<Axis.TIME: 't'>: 0, <Axis.CHANNEL: 'c'>: 0, <Axis.Z: 'z'>: 1}) channel=Channel(config='DAPI') exposure=50.0 min_start_time=0.0 z_pos=-1.5\u001b[0m\n",
      "\u001b[38;20m2025-02-24 17:17:31,220 - pymmcore-plus - INFO - (_runner.py:278) index=mappingproxy({<Axis.TIME: 't'>: 0, <Axis.CHANNEL: 'c'>: 0, <Axis.Z: 'z'>: 2}) channel=Channel(config='DAPI') exposure=50.0 min_start_time=0.0 z_pos=-1.0\u001b[0m\n",
      "\u001b[38;20m2025-02-24 17:17:31,360 - pymmcore-plus - INFO - (_runner.py:278) index=mappingproxy({<Axis.TIME: 't'>: 0, <Axis.CHANNEL: 'c'>: 0, <Axis.Z: 'z'>: 3}) channel=Channel(config='DAPI') exposure=50.0 min_start_time=0.0 z_pos=-0.5\u001b[0m\n",
      "\u001b[38;20m2025-02-24 17:17:31,426 - pymmcore-plus - INFO - (_runner.py:278) index=mappingproxy({<Axis.TIME: 't'>: 0, <Axis.CHANNEL: 'c'>: 0, <Axis.Z: 'z'>: 4}) channel=Channel(config='DAPI') exposure=50.0 min_start_time=0.0 z_pos=0.0\u001b[0m\n",
      "\u001b[38;20m2025-02-24 17:17:31,486 - pymmcore-plus - INFO - (_runner.py:278) index=mappingproxy({<Axis.TIME: 't'>: 0, <Axis.CHANNEL: 'c'>: 0, <Axis.Z: 'z'>: 5}) channel=Channel(config='DAPI') exposure=50.0 min_start_time=0.0 z_pos=0.5\u001b[0m\n",
      "\u001b[38;20m2025-02-24 17:17:31,554 - pymmcore-plus - INFO - (_runner.py:278) index=mappingproxy({<Axis.TIME: 't'>: 0, <Axis.CHANNEL: 'c'>: 0, <Axis.Z: 'z'>: 6}) channel=Channel(config='DAPI') exposure=50.0 min_start_time=0.0 z_pos=1.0\u001b[0m\n",
      "\u001b[38;20m2025-02-24 17:17:31,628 - pymmcore-plus - INFO - (_runner.py:278) index=mappingproxy({<Axis.TIME: 't'>: 0, <Axis.CHANNEL: 'c'>: 0, <Axis.Z: 'z'>: 7}) channel=Channel(config='DAPI') exposure=50.0 min_start_time=0.0 z_pos=1.5\u001b[0m\n",
      "\u001b[38;20m2025-02-24 17:17:31,708 - pymmcore-plus - INFO - (_runner.py:278) index=mappingproxy({<Axis.TIME: 't'>: 0, <Axis.CHANNEL: 'c'>: 0, <Axis.Z: 'z'>: 8}) channel=Channel(config='DAPI') exposure=50.0 min_start_time=0.0 z_pos=2.0\u001b[0m\n",
      "\u001b[38;20m2025-02-24 17:17:31,772 - pymmcore-plus - INFO - (_runner.py:278) index=mappingproxy({<Axis.TIME: 't'>: 0, <Axis.CHANNEL: 'c'>: 1, <Axis.Z: 'z'>: 0}) channel=Channel(config='FITC') exposure=20.0 min_start_time=0.0 z_pos=-2.0\u001b[0m\n",
      "\u001b[38;20m2025-02-24 17:17:31,799 - pymmcore-plus - INFO - (_runner.py:278) index=mappingproxy({<Axis.TIME: 't'>: 0, <Axis.CHANNEL: 'c'>: 1, <Axis.Z: 'z'>: 1}) channel=Channel(config='FITC') exposure=20.0 min_start_time=0.0 z_pos=-1.5\u001b[0m\n",
      "\u001b[38;20m2025-02-24 17:17:31,830 - pymmcore-plus - INFO - (_runner.py:278) index=mappingproxy({<Axis.TIME: 't'>: 0, <Axis.CHANNEL: 'c'>: 1, <Axis.Z: 'z'>: 2}) channel=Channel(config='FITC') exposure=20.0 min_start_time=0.0 z_pos=-1.0\u001b[0m\n",
      "\u001b[38;20m2025-02-24 17:17:31,860 - pymmcore-plus - INFO - (_runner.py:278) index=mappingproxy({<Axis.TIME: 't'>: 0, <Axis.CHANNEL: 'c'>: 1, <Axis.Z: 'z'>: 3}) channel=Channel(config='FITC') exposure=20.0 min_start_time=0.0 z_pos=-0.5\u001b[0m\n",
      "\u001b[38;20m2025-02-24 17:17:31,894 - pymmcore-plus - INFO - (_runner.py:278) index=mappingproxy({<Axis.TIME: 't'>: 0, <Axis.CHANNEL: 'c'>: 1, <Axis.Z: 'z'>: 4}) channel=Channel(config='FITC') exposure=20.0 min_start_time=0.0 z_pos=0.0\u001b[0m\n",
      "\u001b[38;20m2025-02-24 17:17:31,940 - pymmcore-plus - INFO - (_runner.py:278) index=mappingproxy({<Axis.TIME: 't'>: 0, <Axis.CHANNEL: 'c'>: 1, <Axis.Z: 'z'>: 5}) channel=Channel(config='FITC') exposure=20.0 min_start_time=0.0 z_pos=0.5\u001b[0m\n",
      "\u001b[38;20m2025-02-24 17:17:31,990 - pymmcore-plus - INFO - (_runner.py:278) index=mappingproxy({<Axis.TIME: 't'>: 0, <Axis.CHANNEL: 'c'>: 1, <Axis.Z: 'z'>: 6}) channel=Channel(config='FITC') exposure=20.0 min_start_time=0.0 z_pos=1.0\u001b[0m\n",
      "\u001b[38;20m2025-02-24 17:17:32,122 - pymmcore-plus - INFO - (_runner.py:278) index=mappingproxy({<Axis.TIME: 't'>: 0, <Axis.CHANNEL: 'c'>: 1, <Axis.Z: 'z'>: 7}) channel=Channel(config='FITC') exposure=20.0 min_start_time=0.0 z_pos=1.5\u001b[0m\n",
      "\u001b[38;20m2025-02-24 17:17:32,209 - pymmcore-plus - INFO - (_runner.py:278) index=mappingproxy({<Axis.TIME: 't'>: 0, <Axis.CHANNEL: 'c'>: 1, <Axis.Z: 'z'>: 8}) channel=Channel(config='FITC') exposure=20.0 min_start_time=0.0 z_pos=2.0\u001b[0m\n",
      "\u001b[38;20m2025-02-24 17:17:33,114 - pymmcore-plus - INFO - (_runner.py:278) index=mappingproxy({<Axis.TIME: 't'>: 1, <Axis.CHANNEL: 'c'>: 0, <Axis.Z: 'z'>: 0}) channel=Channel(config='DAPI') exposure=50.0 min_start_time=2.0 z_pos=-2.0\u001b[0m\n",
      "\u001b[38;20m2025-02-24 17:17:33,175 - pymmcore-plus - INFO - (_runner.py:278) index=mappingproxy({<Axis.TIME: 't'>: 1, <Axis.CHANNEL: 'c'>: 0, <Axis.Z: 'z'>: 1}) channel=Channel(config='DAPI') exposure=50.0 min_start_time=2.0 z_pos=-1.5\u001b[0m\n",
      "\u001b[38;20m2025-02-24 17:17:33,238 - pymmcore-plus - INFO - (_runner.py:278) index=mappingproxy({<Axis.TIME: 't'>: 1, <Axis.CHANNEL: 'c'>: 0, <Axis.Z: 'z'>: 2}) channel=Channel(config='DAPI') exposure=50.0 min_start_time=2.0 z_pos=-1.0\u001b[0m\n",
      "\u001b[38;20m2025-02-24 17:17:33,327 - pymmcore-plus - INFO - (_runner.py:278) index=mappingproxy({<Axis.TIME: 't'>: 1, <Axis.CHANNEL: 'c'>: 0, <Axis.Z: 'z'>: 3}) channel=Channel(config='DAPI') exposure=50.0 min_start_time=2.0 z_pos=-0.5\u001b[0m\n",
      "\u001b[38;20m2025-02-24 17:17:33,394 - pymmcore-plus - INFO - (_runner.py:278) index=mappingproxy({<Axis.TIME: 't'>: 1, <Axis.CHANNEL: 'c'>: 0, <Axis.Z: 'z'>: 4}) channel=Channel(config='DAPI') exposure=50.0 min_start_time=2.0 z_pos=0.0\u001b[0m\n",
      "\u001b[38;20m2025-02-24 17:17:33,456 - pymmcore-plus - INFO - (_runner.py:278) index=mappingproxy({<Axis.TIME: 't'>: 1, <Axis.CHANNEL: 'c'>: 0, <Axis.Z: 'z'>: 5}) channel=Channel(config='DAPI') exposure=50.0 min_start_time=2.0 z_pos=0.5\u001b[0m\n",
      "\u001b[38;20m2025-02-24 17:17:33,517 - pymmcore-plus - INFO - (_runner.py:278) index=mappingproxy({<Axis.TIME: 't'>: 1, <Axis.CHANNEL: 'c'>: 0, <Axis.Z: 'z'>: 6}) channel=Channel(config='DAPI') exposure=50.0 min_start_time=2.0 z_pos=1.0\u001b[0m\n",
      "\u001b[38;20m2025-02-24 17:17:33,582 - pymmcore-plus - INFO - (_runner.py:278) index=mappingproxy({<Axis.TIME: 't'>: 1, <Axis.CHANNEL: 'c'>: 0, <Axis.Z: 'z'>: 7}) channel=Channel(config='DAPI') exposure=50.0 min_start_time=2.0 z_pos=1.5\u001b[0m\n",
      "\u001b[38;20m2025-02-24 17:17:33,645 - pymmcore-plus - INFO - (_runner.py:278) index=mappingproxy({<Axis.TIME: 't'>: 1, <Axis.CHANNEL: 'c'>: 0, <Axis.Z: 'z'>: 8}) channel=Channel(config='DAPI') exposure=50.0 min_start_time=2.0 z_pos=2.0\u001b[0m\n",
      "\u001b[38;20m2025-02-24 17:17:33,708 - pymmcore-plus - INFO - (_runner.py:278) index=mappingproxy({<Axis.TIME: 't'>: 1, <Axis.CHANNEL: 'c'>: 1, <Axis.Z: 'z'>: 0}) channel=Channel(config='FITC') exposure=20.0 min_start_time=2.0 z_pos=-2.0\u001b[0m\n",
      "\u001b[38;20m2025-02-24 17:17:33,740 - pymmcore-plus - INFO - (_runner.py:278) index=mappingproxy({<Axis.TIME: 't'>: 1, <Axis.CHANNEL: 'c'>: 1, <Axis.Z: 'z'>: 1}) channel=Channel(config='FITC') exposure=20.0 min_start_time=2.0 z_pos=-1.5\u001b[0m\n",
      "\u001b[38;20m2025-02-24 17:17:33,772 - pymmcore-plus - INFO - (_runner.py:278) index=mappingproxy({<Axis.TIME: 't'>: 1, <Axis.CHANNEL: 'c'>: 1, <Axis.Z: 'z'>: 2}) channel=Channel(config='FITC') exposure=20.0 min_start_time=2.0 z_pos=-1.0\u001b[0m\n",
      "\u001b[38;20m2025-02-24 17:17:33,801 - pymmcore-plus - INFO - (_runner.py:278) index=mappingproxy({<Axis.TIME: 't'>: 1, <Axis.CHANNEL: 'c'>: 1, <Axis.Z: 'z'>: 3}) channel=Channel(config='FITC') exposure=20.0 min_start_time=2.0 z_pos=-0.5\u001b[0m\n",
      "\u001b[38;20m2025-02-24 17:17:33,837 - pymmcore-plus - INFO - (_runner.py:278) index=mappingproxy({<Axis.TIME: 't'>: 1, <Axis.CHANNEL: 'c'>: 1, <Axis.Z: 'z'>: 4}) channel=Channel(config='FITC') exposure=20.0 min_start_time=2.0 z_pos=0.0\u001b[0m\n",
      "\u001b[38;20m2025-02-24 17:17:33,867 - pymmcore-plus - INFO - (_runner.py:278) index=mappingproxy({<Axis.TIME: 't'>: 1, <Axis.CHANNEL: 'c'>: 1, <Axis.Z: 'z'>: 5}) channel=Channel(config='FITC') exposure=20.0 min_start_time=2.0 z_pos=0.5\u001b[0m\n",
      "\u001b[38;20m2025-02-24 17:17:33,913 - pymmcore-plus - INFO - (_runner.py:278) index=mappingproxy({<Axis.TIME: 't'>: 1, <Axis.CHANNEL: 'c'>: 1, <Axis.Z: 'z'>: 6}) channel=Channel(config='FITC') exposure=20.0 min_start_time=2.0 z_pos=1.0\u001b[0m\n",
      "\u001b[38;20m2025-02-24 17:17:33,958 - pymmcore-plus - INFO - (_runner.py:278) index=mappingproxy({<Axis.TIME: 't'>: 1, <Axis.CHANNEL: 'c'>: 1, <Axis.Z: 'z'>: 7}) channel=Channel(config='FITC') exposure=20.0 min_start_time=2.0 z_pos=1.5\u001b[0m\n",
      "\u001b[38;20m2025-02-24 17:17:33,993 - pymmcore-plus - INFO - (_runner.py:278) index=mappingproxy({<Axis.TIME: 't'>: 1, <Axis.CHANNEL: 'c'>: 1, <Axis.Z: 'z'>: 8}) channel=Channel(config='FITC') exposure=20.0 min_start_time=2.0 z_pos=2.0\u001b[0m\n",
      "\u001b[38;20m2025-02-24 17:17:35,113 - pymmcore-plus - INFO - (_runner.py:278) index=mappingproxy({<Axis.TIME: 't'>: 2, <Axis.CHANNEL: 'c'>: 0, <Axis.Z: 'z'>: 0}) channel=Channel(config='DAPI') exposure=50.0 min_start_time=4.0 z_pos=-2.0\u001b[0m\n",
      "\u001b[38;20m2025-02-24 17:17:35,175 - pymmcore-plus - INFO - (_runner.py:278) index=mappingproxy({<Axis.TIME: 't'>: 2, <Axis.CHANNEL: 'c'>: 0, <Axis.Z: 'z'>: 1}) channel=Channel(config='DAPI') exposure=50.0 min_start_time=4.0 z_pos=-1.5\u001b[0m\n",
      "\u001b[38;20m2025-02-24 17:17:35,276 - pymmcore-plus - INFO - (_runner.py:278) index=mappingproxy({<Axis.TIME: 't'>: 2, <Axis.CHANNEL: 'c'>: 0, <Axis.Z: 'z'>: 2}) channel=Channel(config='DAPI') exposure=50.0 min_start_time=4.0 z_pos=-1.0\u001b[0m\n",
      "\u001b[38;20m2025-02-24 17:17:35,334 - pymmcore-plus - INFO - (_runner.py:278) index=mappingproxy({<Axis.TIME: 't'>: 2, <Axis.CHANNEL: 'c'>: 0, <Axis.Z: 'z'>: 3}) channel=Channel(config='DAPI') exposure=50.0 min_start_time=4.0 z_pos=-0.5\u001b[0m\n",
      "\u001b[38;20m2025-02-24 17:17:35,397 - pymmcore-plus - INFO - (_runner.py:278) index=mappingproxy({<Axis.TIME: 't'>: 2, <Axis.CHANNEL: 'c'>: 0, <Axis.Z: 'z'>: 4}) channel=Channel(config='DAPI') exposure=50.0 min_start_time=4.0 z_pos=0.0\u001b[0m\n",
      "\u001b[38;20m2025-02-24 17:17:35,460 - pymmcore-plus - INFO - (_runner.py:278) index=mappingproxy({<Axis.TIME: 't'>: 2, <Axis.CHANNEL: 'c'>: 0, <Axis.Z: 'z'>: 5}) channel=Channel(config='DAPI') exposure=50.0 min_start_time=4.0 z_pos=0.5\u001b[0m\n",
      "\u001b[38;20m2025-02-24 17:17:35,524 - pymmcore-plus - INFO - (_runner.py:278) index=mappingproxy({<Axis.TIME: 't'>: 2, <Axis.CHANNEL: 'c'>: 0, <Axis.Z: 'z'>: 6}) channel=Channel(config='DAPI') exposure=50.0 min_start_time=4.0 z_pos=1.0\u001b[0m\n",
      "\u001b[38;20m2025-02-24 17:17:35,577 - pymmcore-plus - INFO - (_runner.py:278) index=mappingproxy({<Axis.TIME: 't'>: 2, <Axis.CHANNEL: 'c'>: 0, <Axis.Z: 'z'>: 7}) channel=Channel(config='DAPI') exposure=50.0 min_start_time=4.0 z_pos=1.5\u001b[0m\n",
      "\u001b[38;20m2025-02-24 17:17:35,639 - pymmcore-plus - INFO - (_runner.py:278) index=mappingproxy({<Axis.TIME: 't'>: 2, <Axis.CHANNEL: 'c'>: 0, <Axis.Z: 'z'>: 8}) channel=Channel(config='DAPI') exposure=50.0 min_start_time=4.0 z_pos=2.0\u001b[0m\n",
      "\u001b[38;20m2025-02-24 17:17:35,701 - pymmcore-plus - INFO - (_runner.py:278) index=mappingproxy({<Axis.TIME: 't'>: 2, <Axis.CHANNEL: 'c'>: 1, <Axis.Z: 'z'>: 0}) channel=Channel(config='FITC') exposure=20.0 min_start_time=4.0 z_pos=-2.0\u001b[0m\n",
      "\u001b[38;20m2025-02-24 17:17:35,733 - pymmcore-plus - INFO - (_runner.py:278) index=mappingproxy({<Axis.TIME: 't'>: 2, <Axis.CHANNEL: 'c'>: 1, <Axis.Z: 'z'>: 1}) channel=Channel(config='FITC') exposure=20.0 min_start_time=4.0 z_pos=-1.5\u001b[0m\n",
      "\u001b[38;20m2025-02-24 17:17:35,762 - pymmcore-plus - INFO - (_runner.py:278) index=mappingproxy({<Axis.TIME: 't'>: 2, <Axis.CHANNEL: 'c'>: 1, <Axis.Z: 'z'>: 2}) channel=Channel(config='FITC') exposure=20.0 min_start_time=4.0 z_pos=-1.0\u001b[0m\n",
      "\u001b[38;20m2025-02-24 17:17:35,794 - pymmcore-plus - INFO - (_runner.py:278) index=mappingproxy({<Axis.TIME: 't'>: 2, <Axis.CHANNEL: 'c'>: 1, <Axis.Z: 'z'>: 3}) channel=Channel(config='FITC') exposure=20.0 min_start_time=4.0 z_pos=-0.5\u001b[0m\n",
      "\u001b[38;20m2025-02-24 17:17:35,826 - pymmcore-plus - INFO - (_runner.py:278) index=mappingproxy({<Axis.TIME: 't'>: 2, <Axis.CHANNEL: 'c'>: 1, <Axis.Z: 'z'>: 4}) channel=Channel(config='FITC') exposure=20.0 min_start_time=4.0 z_pos=0.0\u001b[0m\n",
      "\u001b[38;20m2025-02-24 17:17:35,857 - pymmcore-plus - INFO - (_runner.py:278) index=mappingproxy({<Axis.TIME: 't'>: 2, <Axis.CHANNEL: 'c'>: 1, <Axis.Z: 'z'>: 5}) channel=Channel(config='FITC') exposure=20.0 min_start_time=4.0 z_pos=0.5\u001b[0m\n",
      "\u001b[38;20m2025-02-24 17:17:35,888 - pymmcore-plus - INFO - (_runner.py:278) index=mappingproxy({<Axis.TIME: 't'>: 2, <Axis.CHANNEL: 'c'>: 1, <Axis.Z: 'z'>: 6}) channel=Channel(config='FITC') exposure=20.0 min_start_time=4.0 z_pos=1.0\u001b[0m\n",
      "\u001b[38;20m2025-02-24 17:17:35,921 - pymmcore-plus - INFO - (_runner.py:278) index=mappingproxy({<Axis.TIME: 't'>: 2, <Axis.CHANNEL: 'c'>: 1, <Axis.Z: 'z'>: 7}) channel=Channel(config='FITC') exposure=20.0 min_start_time=4.0 z_pos=1.5\u001b[0m\n",
      "\u001b[38;20m2025-02-24 17:17:35,953 - pymmcore-plus - INFO - (_runner.py:278) index=mappingproxy({<Axis.TIME: 't'>: 2, <Axis.CHANNEL: 'c'>: 1, <Axis.Z: 'z'>: 8}) channel=Channel(config='FITC') exposure=20.0 min_start_time=4.0 z_pos=2.0\u001b[0m\n",
      "\u001b[38;20m2025-02-24 17:17:37,108 - pymmcore-plus - INFO - (_runner.py:278) index=mappingproxy({<Axis.TIME: 't'>: 3, <Axis.CHANNEL: 'c'>: 0, <Axis.Z: 'z'>: 0}) channel=Channel(config='DAPI') exposure=50.0 min_start_time=6.0 z_pos=-2.0\u001b[0m\n",
      "\u001b[38;20m2025-02-24 17:17:37,170 - pymmcore-plus - INFO - (_runner.py:278) index=mappingproxy({<Axis.TIME: 't'>: 3, <Axis.CHANNEL: 'c'>: 0, <Axis.Z: 'z'>: 1}) channel=Channel(config='DAPI') exposure=50.0 min_start_time=6.0 z_pos=-1.5\u001b[0m\n",
      "\u001b[38;20m2025-02-24 17:17:37,232 - pymmcore-plus - INFO - (_runner.py:278) index=mappingproxy({<Axis.TIME: 't'>: 3, <Axis.CHANNEL: 'c'>: 0, <Axis.Z: 'z'>: 2}) channel=Channel(config='DAPI') exposure=50.0 min_start_time=6.0 z_pos=-1.0\u001b[0m\n",
      "\u001b[38;20m2025-02-24 17:17:37,295 - pymmcore-plus - INFO - (_runner.py:278) index=mappingproxy({<Axis.TIME: 't'>: 3, <Axis.CHANNEL: 'c'>: 0, <Axis.Z: 'z'>: 3}) channel=Channel(config='DAPI') exposure=50.0 min_start_time=6.0 z_pos=-0.5\u001b[0m\n",
      "\u001b[38;20m2025-02-24 17:17:37,358 - pymmcore-plus - INFO - (_runner.py:278) index=mappingproxy({<Axis.TIME: 't'>: 3, <Axis.CHANNEL: 'c'>: 0, <Axis.Z: 'z'>: 4}) channel=Channel(config='DAPI') exposure=50.0 min_start_time=6.0 z_pos=0.0\u001b[0m\n",
      "\u001b[38;20m2025-02-24 17:17:37,418 - pymmcore-plus - INFO - (_runner.py:278) index=mappingproxy({<Axis.TIME: 't'>: 3, <Axis.CHANNEL: 'c'>: 0, <Axis.Z: 'z'>: 5}) channel=Channel(config='DAPI') exposure=50.0 min_start_time=6.0 z_pos=0.5\u001b[0m\n",
      "\u001b[38;20m2025-02-24 17:17:37,475 - pymmcore-plus - INFO - (_runner.py:278) index=mappingproxy({<Axis.TIME: 't'>: 3, <Axis.CHANNEL: 'c'>: 0, <Axis.Z: 'z'>: 6}) channel=Channel(config='DAPI') exposure=50.0 min_start_time=6.0 z_pos=1.0\u001b[0m\n",
      "\u001b[38;20m2025-02-24 17:17:37,542 - pymmcore-plus - INFO - (_runner.py:278) index=mappingproxy({<Axis.TIME: 't'>: 3, <Axis.CHANNEL: 'c'>: 0, <Axis.Z: 'z'>: 7}) channel=Channel(config='DAPI') exposure=50.0 min_start_time=6.0 z_pos=1.5\u001b[0m\n",
      "\u001b[38;20m2025-02-24 17:17:37,604 - pymmcore-plus - INFO - (_runner.py:278) index=mappingproxy({<Axis.TIME: 't'>: 3, <Axis.CHANNEL: 'c'>: 0, <Axis.Z: 'z'>: 8}) channel=Channel(config='DAPI') exposure=50.0 min_start_time=6.0 z_pos=2.0\u001b[0m\n",
      "\u001b[38;20m2025-02-24 17:17:37,666 - pymmcore-plus - INFO - (_runner.py:278) index=mappingproxy({<Axis.TIME: 't'>: 3, <Axis.CHANNEL: 'c'>: 1, <Axis.Z: 'z'>: 0}) channel=Channel(config='FITC') exposure=20.0 min_start_time=6.0 z_pos=-2.0\u001b[0m\n",
      "\u001b[38;20m2025-02-24 17:17:37,698 - pymmcore-plus - INFO - (_runner.py:278) index=mappingproxy({<Axis.TIME: 't'>: 3, <Axis.CHANNEL: 'c'>: 1, <Axis.Z: 'z'>: 1}) channel=Channel(config='FITC') exposure=20.0 min_start_time=6.0 z_pos=-1.5\u001b[0m\n",
      "\u001b[38;20m2025-02-24 17:17:37,729 - pymmcore-plus - INFO - (_runner.py:278) index=mappingproxy({<Axis.TIME: 't'>: 3, <Axis.CHANNEL: 'c'>: 1, <Axis.Z: 'z'>: 2}) channel=Channel(config='FITC') exposure=20.0 min_start_time=6.0 z_pos=-1.0\u001b[0m\n",
      "\u001b[38;20m2025-02-24 17:17:37,760 - pymmcore-plus - INFO - (_runner.py:278) index=mappingproxy({<Axis.TIME: 't'>: 3, <Axis.CHANNEL: 'c'>: 1, <Axis.Z: 'z'>: 3}) channel=Channel(config='FITC') exposure=20.0 min_start_time=6.0 z_pos=-0.5\u001b[0m\n",
      "\u001b[38;20m2025-02-24 17:17:37,792 - pymmcore-plus - INFO - (_runner.py:278) index=mappingproxy({<Axis.TIME: 't'>: 3, <Axis.CHANNEL: 'c'>: 1, <Axis.Z: 'z'>: 4}) channel=Channel(config='FITC') exposure=20.0 min_start_time=6.0 z_pos=0.0\u001b[0m\n",
      "\u001b[38;20m2025-02-24 17:17:37,823 - pymmcore-plus - INFO - (_runner.py:278) index=mappingproxy({<Axis.TIME: 't'>: 3, <Axis.CHANNEL: 'c'>: 1, <Axis.Z: 'z'>: 5}) channel=Channel(config='FITC') exposure=20.0 min_start_time=6.0 z_pos=0.5\u001b[0m\n",
      "\u001b[38;20m2025-02-24 17:17:37,857 - pymmcore-plus - INFO - (_runner.py:278) index=mappingproxy({<Axis.TIME: 't'>: 3, <Axis.CHANNEL: 'c'>: 1, <Axis.Z: 'z'>: 6}) channel=Channel(config='FITC') exposure=20.0 min_start_time=6.0 z_pos=1.0\u001b[0m\n",
      "\u001b[38;20m2025-02-24 17:17:37,886 - pymmcore-plus - INFO - (_runner.py:278) index=mappingproxy({<Axis.TIME: 't'>: 3, <Axis.CHANNEL: 'c'>: 1, <Axis.Z: 'z'>: 7}) channel=Channel(config='FITC') exposure=20.0 min_start_time=6.0 z_pos=1.5\u001b[0m\n",
      "\u001b[38;20m2025-02-24 17:17:37,915 - pymmcore-plus - INFO - (_runner.py:278) index=mappingproxy({<Axis.TIME: 't'>: 3, <Axis.CHANNEL: 'c'>: 1, <Axis.Z: 'z'>: 8}) channel=Channel(config='FITC') exposure=20.0 min_start_time=6.0 z_pos=2.0\u001b[0m\n",
      "\u001b[38;20m2025-02-24 17:17:39,108 - pymmcore-plus - INFO - (_runner.py:278) index=mappingproxy({<Axis.TIME: 't'>: 4, <Axis.CHANNEL: 'c'>: 0, <Axis.Z: 'z'>: 0}) channel=Channel(config='DAPI') exposure=50.0 min_start_time=8.0 z_pos=-2.0\u001b[0m\n",
      "\u001b[38;20m2025-02-24 17:17:39,172 - pymmcore-plus - INFO - (_runner.py:278) index=mappingproxy({<Axis.TIME: 't'>: 4, <Axis.CHANNEL: 'c'>: 0, <Axis.Z: 'z'>: 1}) channel=Channel(config='DAPI') exposure=50.0 min_start_time=8.0 z_pos=-1.5\u001b[0m\n",
      "\u001b[38;20m2025-02-24 17:17:39,233 - pymmcore-plus - INFO - (_runner.py:278) index=mappingproxy({<Axis.TIME: 't'>: 4, <Axis.CHANNEL: 'c'>: 0, <Axis.Z: 'z'>: 2}) channel=Channel(config='DAPI') exposure=50.0 min_start_time=8.0 z_pos=-1.0\u001b[0m\n",
      "\u001b[38;20m2025-02-24 17:17:39,296 - pymmcore-plus - INFO - (_runner.py:278) index=mappingproxy({<Axis.TIME: 't'>: 4, <Axis.CHANNEL: 'c'>: 0, <Axis.Z: 'z'>: 3}) channel=Channel(config='DAPI') exposure=50.0 min_start_time=8.0 z_pos=-0.5\u001b[0m\n",
      "\u001b[38;20m2025-02-24 17:17:39,358 - pymmcore-plus - INFO - (_runner.py:278) index=mappingproxy({<Axis.TIME: 't'>: 4, <Axis.CHANNEL: 'c'>: 0, <Axis.Z: 'z'>: 4}) channel=Channel(config='DAPI') exposure=50.0 min_start_time=8.0 z_pos=0.0\u001b[0m\n",
      "\u001b[38;20m2025-02-24 17:17:39,421 - pymmcore-plus - INFO - (_runner.py:278) index=mappingproxy({<Axis.TIME: 't'>: 4, <Axis.CHANNEL: 'c'>: 0, <Axis.Z: 'z'>: 5}) channel=Channel(config='DAPI') exposure=50.0 min_start_time=8.0 z_pos=0.5\u001b[0m\n",
      "\u001b[38;20m2025-02-24 17:17:39,477 - pymmcore-plus - INFO - (_runner.py:278) index=mappingproxy({<Axis.TIME: 't'>: 4, <Axis.CHANNEL: 'c'>: 0, <Axis.Z: 'z'>: 6}) channel=Channel(config='DAPI') exposure=50.0 min_start_time=8.0 z_pos=1.0\u001b[0m\n",
      "\u001b[38;20m2025-02-24 17:17:39,538 - pymmcore-plus - INFO - (_runner.py:278) index=mappingproxy({<Axis.TIME: 't'>: 4, <Axis.CHANNEL: 'c'>: 0, <Axis.Z: 'z'>: 7}) channel=Channel(config='DAPI') exposure=50.0 min_start_time=8.0 z_pos=1.5\u001b[0m\n",
      "\u001b[38;20m2025-02-24 17:17:39,602 - pymmcore-plus - INFO - (_runner.py:278) index=mappingproxy({<Axis.TIME: 't'>: 4, <Axis.CHANNEL: 'c'>: 0, <Axis.Z: 'z'>: 8}) channel=Channel(config='DAPI') exposure=50.0 min_start_time=8.0 z_pos=2.0\u001b[0m\n",
      "\u001b[38;20m2025-02-24 17:17:39,663 - pymmcore-plus - INFO - (_runner.py:278) index=mappingproxy({<Axis.TIME: 't'>: 4, <Axis.CHANNEL: 'c'>: 1, <Axis.Z: 'z'>: 0}) channel=Channel(config='FITC') exposure=20.0 min_start_time=8.0 z_pos=-2.0\u001b[0m\n",
      "\u001b[38;20m2025-02-24 17:17:39,695 - pymmcore-plus - INFO - (_runner.py:278) index=mappingproxy({<Axis.TIME: 't'>: 4, <Axis.CHANNEL: 'c'>: 1, <Axis.Z: 'z'>: 1}) channel=Channel(config='FITC') exposure=20.0 min_start_time=8.0 z_pos=-1.5\u001b[0m\n",
      "\u001b[38;20m2025-02-24 17:17:39,725 - pymmcore-plus - INFO - (_runner.py:278) index=mappingproxy({<Axis.TIME: 't'>: 4, <Axis.CHANNEL: 'c'>: 1, <Axis.Z: 'z'>: 2}) channel=Channel(config='FITC') exposure=20.0 min_start_time=8.0 z_pos=-1.0\u001b[0m\n",
      "\u001b[38;20m2025-02-24 17:17:39,757 - pymmcore-plus - INFO - (_runner.py:278) index=mappingproxy({<Axis.TIME: 't'>: 4, <Axis.CHANNEL: 'c'>: 1, <Axis.Z: 'z'>: 3}) channel=Channel(config='FITC') exposure=20.0 min_start_time=8.0 z_pos=-0.5\u001b[0m\n",
      "\u001b[38;20m2025-02-24 17:17:39,797 - pymmcore-plus - INFO - (_runner.py:278) index=mappingproxy({<Axis.TIME: 't'>: 4, <Axis.CHANNEL: 'c'>: 1, <Axis.Z: 'z'>: 4}) channel=Channel(config='FITC') exposure=20.0 min_start_time=8.0 z_pos=0.0\u001b[0m\n",
      "\u001b[38;20m2025-02-24 17:17:39,821 - pymmcore-plus - INFO - (_runner.py:278) index=mappingproxy({<Axis.TIME: 't'>: 4, <Axis.CHANNEL: 'c'>: 1, <Axis.Z: 'z'>: 5}) channel=Channel(config='FITC') exposure=20.0 min_start_time=8.0 z_pos=0.5\u001b[0m\n",
      "\u001b[38;20m2025-02-24 17:17:39,854 - pymmcore-plus - INFO - (_runner.py:278) index=mappingproxy({<Axis.TIME: 't'>: 4, <Axis.CHANNEL: 'c'>: 1, <Axis.Z: 'z'>: 6}) channel=Channel(config='FITC') exposure=20.0 min_start_time=8.0 z_pos=1.0\u001b[0m\n",
      "\u001b[38;20m2025-02-24 17:17:39,895 - pymmcore-plus - INFO - (_runner.py:278) index=mappingproxy({<Axis.TIME: 't'>: 4, <Axis.CHANNEL: 'c'>: 1, <Axis.Z: 'z'>: 7}) channel=Channel(config='FITC') exposure=20.0 min_start_time=8.0 z_pos=1.5\u001b[0m\n",
      "\u001b[38;20m2025-02-24 17:17:39,926 - pymmcore-plus - INFO - (_runner.py:278) index=mappingproxy({<Axis.TIME: 't'>: 4, <Axis.CHANNEL: 'c'>: 1, <Axis.Z: 'z'>: 8}) channel=Channel(config='FITC') exposure=20.0 min_start_time=8.0 z_pos=2.0\u001b[0m\n",
      "\u001b[38;20m2025-02-24 17:17:41,115 - pymmcore-plus - INFO - (_runner.py:278) index=mappingproxy({<Axis.TIME: 't'>: 5, <Axis.CHANNEL: 'c'>: 0, <Axis.Z: 'z'>: 0}) channel=Channel(config='DAPI') exposure=50.0 min_start_time=10.0 z_pos=-2.0\u001b[0m\n",
      "\u001b[38;20m2025-02-24 17:17:41,180 - pymmcore-plus - INFO - (_runner.py:278) index=mappingproxy({<Axis.TIME: 't'>: 5, <Axis.CHANNEL: 'c'>: 0, <Axis.Z: 'z'>: 1}) channel=Channel(config='DAPI') exposure=50.0 min_start_time=10.0 z_pos=-1.5\u001b[0m\n",
      "\u001b[38;20m2025-02-24 17:17:41,243 - pymmcore-plus - INFO - (_runner.py:278) index=mappingproxy({<Axis.TIME: 't'>: 5, <Axis.CHANNEL: 'c'>: 0, <Axis.Z: 'z'>: 2}) channel=Channel(config='DAPI') exposure=50.0 min_start_time=10.0 z_pos=-1.0\u001b[0m\n",
      "\u001b[38;20m2025-02-24 17:17:41,308 - pymmcore-plus - INFO - (_runner.py:278) index=mappingproxy({<Axis.TIME: 't'>: 5, <Axis.CHANNEL: 'c'>: 0, <Axis.Z: 'z'>: 3}) channel=Channel(config='DAPI') exposure=50.0 min_start_time=10.0 z_pos=-0.5\u001b[0m\n",
      "\u001b[38;20m2025-02-24 17:17:41,368 - pymmcore-plus - INFO - (_runner.py:278) index=mappingproxy({<Axis.TIME: 't'>: 5, <Axis.CHANNEL: 'c'>: 0, <Axis.Z: 'z'>: 4}) channel=Channel(config='DAPI') exposure=50.0 min_start_time=10.0 z_pos=0.0\u001b[0m\n",
      "\u001b[38;20m2025-02-24 17:17:41,431 - pymmcore-plus - INFO - (_runner.py:278) index=mappingproxy({<Axis.TIME: 't'>: 5, <Axis.CHANNEL: 'c'>: 0, <Axis.Z: 'z'>: 5}) channel=Channel(config='DAPI') exposure=50.0 min_start_time=10.0 z_pos=0.5\u001b[0m\n",
      "\u001b[38;20m2025-02-24 17:17:41,493 - pymmcore-plus - INFO - (_runner.py:278) index=mappingproxy({<Axis.TIME: 't'>: 5, <Axis.CHANNEL: 'c'>: 0, <Axis.Z: 'z'>: 6}) channel=Channel(config='DAPI') exposure=50.0 min_start_time=10.0 z_pos=1.0\u001b[0m\n",
      "\u001b[38;20m2025-02-24 17:17:41,562 - pymmcore-plus - INFO - (_runner.py:278) index=mappingproxy({<Axis.TIME: 't'>: 5, <Axis.CHANNEL: 'c'>: 0, <Axis.Z: 'z'>: 7}) channel=Channel(config='DAPI') exposure=50.0 min_start_time=10.0 z_pos=1.5\u001b[0m\n",
      "\u001b[38;20m2025-02-24 17:17:41,622 - pymmcore-plus - INFO - (_runner.py:278) index=mappingproxy({<Axis.TIME: 't'>: 5, <Axis.CHANNEL: 'c'>: 0, <Axis.Z: 'z'>: 8}) channel=Channel(config='DAPI') exposure=50.0 min_start_time=10.0 z_pos=2.0\u001b[0m\n",
      "\u001b[38;20m2025-02-24 17:17:41,685 - pymmcore-plus - INFO - (_runner.py:278) index=mappingproxy({<Axis.TIME: 't'>: 5, <Axis.CHANNEL: 'c'>: 1, <Axis.Z: 'z'>: 0}) channel=Channel(config='FITC') exposure=20.0 min_start_time=10.0 z_pos=-2.0\u001b[0m\n",
      "\u001b[38;20m2025-02-24 17:17:41,716 - pymmcore-plus - INFO - (_runner.py:278) index=mappingproxy({<Axis.TIME: 't'>: 5, <Axis.CHANNEL: 'c'>: 1, <Axis.Z: 'z'>: 1}) channel=Channel(config='FITC') exposure=20.0 min_start_time=10.0 z_pos=-1.5\u001b[0m\n",
      "\u001b[38;20m2025-02-24 17:17:41,750 - pymmcore-plus - INFO - (_runner.py:278) index=mappingproxy({<Axis.TIME: 't'>: 5, <Axis.CHANNEL: 'c'>: 1, <Axis.Z: 'z'>: 2}) channel=Channel(config='FITC') exposure=20.0 min_start_time=10.0 z_pos=-1.0\u001b[0m\n",
      "\u001b[38;20m2025-02-24 17:17:41,779 - pymmcore-plus - INFO - (_runner.py:278) index=mappingproxy({<Axis.TIME: 't'>: 5, <Axis.CHANNEL: 'c'>: 1, <Axis.Z: 'z'>: 3}) channel=Channel(config='FITC') exposure=20.0 min_start_time=10.0 z_pos=-0.5\u001b[0m\n",
      "\u001b[38;20m2025-02-24 17:17:41,833 - pymmcore-plus - INFO - (_runner.py:278) index=mappingproxy({<Axis.TIME: 't'>: 5, <Axis.CHANNEL: 'c'>: 1, <Axis.Z: 'z'>: 4}) channel=Channel(config='FITC') exposure=20.0 min_start_time=10.0 z_pos=0.0\u001b[0m\n",
      "\u001b[38;20m2025-02-24 17:17:41,861 - pymmcore-plus - INFO - (_runner.py:278) index=mappingproxy({<Axis.TIME: 't'>: 5, <Axis.CHANNEL: 'c'>: 1, <Axis.Z: 'z'>: 5}) channel=Channel(config='FITC') exposure=20.0 min_start_time=10.0 z_pos=0.5\u001b[0m\n",
      "\u001b[38;20m2025-02-24 17:17:41,894 - pymmcore-plus - INFO - (_runner.py:278) index=mappingproxy({<Axis.TIME: 't'>: 5, <Axis.CHANNEL: 'c'>: 1, <Axis.Z: 'z'>: 6}) channel=Channel(config='FITC') exposure=20.0 min_start_time=10.0 z_pos=1.0\u001b[0m\n",
      "\u001b[38;20m2025-02-24 17:17:41,926 - pymmcore-plus - INFO - (_runner.py:278) index=mappingproxy({<Axis.TIME: 't'>: 5, <Axis.CHANNEL: 'c'>: 1, <Axis.Z: 'z'>: 7}) channel=Channel(config='FITC') exposure=20.0 min_start_time=10.0 z_pos=1.5\u001b[0m\n",
      "\u001b[38;20m2025-02-24 17:17:41,955 - pymmcore-plus - INFO - (_runner.py:278) index=mappingproxy({<Axis.TIME: 't'>: 5, <Axis.CHANNEL: 'c'>: 1, <Axis.Z: 'z'>: 8}) channel=Channel(config='FITC') exposure=20.0 min_start_time=10.0 z_pos=2.0\u001b[0m\n",
      "\u001b[38;20m2025-02-24 17:17:43,109 - pymmcore-plus - INFO - (_runner.py:278) index=mappingproxy({<Axis.TIME: 't'>: 6, <Axis.CHANNEL: 'c'>: 0, <Axis.Z: 'z'>: 0}) channel=Channel(config='DAPI') exposure=50.0 min_start_time=12.0 z_pos=-2.0\u001b[0m\n",
      "\u001b[38;20m2025-02-24 17:17:43,172 - pymmcore-plus - INFO - (_runner.py:278) index=mappingproxy({<Axis.TIME: 't'>: 6, <Axis.CHANNEL: 'c'>: 0, <Axis.Z: 'z'>: 1}) channel=Channel(config='DAPI') exposure=50.0 min_start_time=12.0 z_pos=-1.5\u001b[0m\n",
      "\u001b[38;20m2025-02-24 17:17:43,234 - pymmcore-plus - INFO - (_runner.py:278) index=mappingproxy({<Axis.TIME: 't'>: 6, <Axis.CHANNEL: 'c'>: 0, <Axis.Z: 'z'>: 2}) channel=Channel(config='DAPI') exposure=50.0 min_start_time=12.0 z_pos=-1.0\u001b[0m\n",
      "\u001b[38;20m2025-02-24 17:17:43,296 - pymmcore-plus - INFO - (_runner.py:278) index=mappingproxy({<Axis.TIME: 't'>: 6, <Axis.CHANNEL: 'c'>: 0, <Axis.Z: 'z'>: 3}) channel=Channel(config='DAPI') exposure=50.0 min_start_time=12.0 z_pos=-0.5\u001b[0m\n",
      "\u001b[38;20m2025-02-24 17:17:43,359 - pymmcore-plus - INFO - (_runner.py:278) index=mappingproxy({<Axis.TIME: 't'>: 6, <Axis.CHANNEL: 'c'>: 0, <Axis.Z: 'z'>: 4}) channel=Channel(config='DAPI') exposure=50.0 min_start_time=12.0 z_pos=0.0\u001b[0m\n",
      "\u001b[38;20m2025-02-24 17:17:43,421 - pymmcore-plus - INFO - (_runner.py:278) index=mappingproxy({<Axis.TIME: 't'>: 6, <Axis.CHANNEL: 'c'>: 0, <Axis.Z: 'z'>: 5}) channel=Channel(config='DAPI') exposure=50.0 min_start_time=12.0 z_pos=0.5\u001b[0m\n",
      "\u001b[38;20m2025-02-24 17:17:43,484 - pymmcore-plus - INFO - (_runner.py:278) index=mappingproxy({<Axis.TIME: 't'>: 6, <Axis.CHANNEL: 'c'>: 0, <Axis.Z: 'z'>: 6}) channel=Channel(config='DAPI') exposure=50.0 min_start_time=12.0 z_pos=1.0\u001b[0m\n",
      "\u001b[38;20m2025-02-24 17:17:43,546 - pymmcore-plus - INFO - (_runner.py:278) index=mappingproxy({<Axis.TIME: 't'>: 6, <Axis.CHANNEL: 'c'>: 0, <Axis.Z: 'z'>: 7}) channel=Channel(config='DAPI') exposure=50.0 min_start_time=12.0 z_pos=1.5\u001b[0m\n",
      "\u001b[38;20m2025-02-24 17:17:43,607 - pymmcore-plus - INFO - (_runner.py:278) index=mappingproxy({<Axis.TIME: 't'>: 6, <Axis.CHANNEL: 'c'>: 0, <Axis.Z: 'z'>: 8}) channel=Channel(config='DAPI') exposure=50.0 min_start_time=12.0 z_pos=2.0\u001b[0m\n",
      "\u001b[38;20m2025-02-24 17:17:43,670 - pymmcore-plus - INFO - (_runner.py:278) index=mappingproxy({<Axis.TIME: 't'>: 6, <Axis.CHANNEL: 'c'>: 1, <Axis.Z: 'z'>: 0}) channel=Channel(config='FITC') exposure=20.0 min_start_time=12.0 z_pos=-2.0\u001b[0m\n",
      "\u001b[38;20m2025-02-24 17:17:43,700 - pymmcore-plus - INFO - (_runner.py:278) index=mappingproxy({<Axis.TIME: 't'>: 6, <Axis.CHANNEL: 'c'>: 1, <Axis.Z: 'z'>: 1}) channel=Channel(config='FITC') exposure=20.0 min_start_time=12.0 z_pos=-1.5\u001b[0m\n",
      "\u001b[38;20m2025-02-24 17:17:43,731 - pymmcore-plus - INFO - (_runner.py:278) index=mappingproxy({<Axis.TIME: 't'>: 6, <Axis.CHANNEL: 'c'>: 1, <Axis.Z: 'z'>: 2}) channel=Channel(config='FITC') exposure=20.0 min_start_time=12.0 z_pos=-1.0\u001b[0m\n",
      "\u001b[38;20m2025-02-24 17:17:43,763 - pymmcore-plus - INFO - (_runner.py:278) index=mappingproxy({<Axis.TIME: 't'>: 6, <Axis.CHANNEL: 'c'>: 1, <Axis.Z: 'z'>: 3}) channel=Channel(config='FITC') exposure=20.0 min_start_time=12.0 z_pos=-0.5\u001b[0m\n",
      "\u001b[38;20m2025-02-24 17:17:43,794 - pymmcore-plus - INFO - (_runner.py:278) index=mappingproxy({<Axis.TIME: 't'>: 6, <Axis.CHANNEL: 'c'>: 1, <Axis.Z: 'z'>: 4}) channel=Channel(config='FITC') exposure=20.0 min_start_time=12.0 z_pos=0.0\u001b[0m\n",
      "\u001b[38;20m2025-02-24 17:17:43,826 - pymmcore-plus - INFO - (_runner.py:278) index=mappingproxy({<Axis.TIME: 't'>: 6, <Axis.CHANNEL: 'c'>: 1, <Axis.Z: 'z'>: 5}) channel=Channel(config='FITC') exposure=20.0 min_start_time=12.0 z_pos=0.5\u001b[0m\n",
      "\u001b[38;20m2025-02-24 17:17:43,858 - pymmcore-plus - INFO - (_runner.py:278) index=mappingproxy({<Axis.TIME: 't'>: 6, <Axis.CHANNEL: 'c'>: 1, <Axis.Z: 'z'>: 6}) channel=Channel(config='FITC') exposure=20.0 min_start_time=12.0 z_pos=1.0\u001b[0m\n",
      "\u001b[38;20m2025-02-24 17:17:43,888 - pymmcore-plus - INFO - (_runner.py:278) index=mappingproxy({<Axis.TIME: 't'>: 6, <Axis.CHANNEL: 'c'>: 1, <Axis.Z: 'z'>: 7}) channel=Channel(config='FITC') exposure=20.0 min_start_time=12.0 z_pos=1.5\u001b[0m\n",
      "\u001b[38;20m2025-02-24 17:17:43,920 - pymmcore-plus - INFO - (_runner.py:278) index=mappingproxy({<Axis.TIME: 't'>: 6, <Axis.CHANNEL: 'c'>: 1, <Axis.Z: 'z'>: 8}) channel=Channel(config='FITC') exposure=20.0 min_start_time=12.0 z_pos=2.0\u001b[0m\n",
      "\u001b[38;20m2025-02-24 17:17:45,114 - pymmcore-plus - INFO - (_runner.py:278) index=mappingproxy({<Axis.TIME: 't'>: 7, <Axis.CHANNEL: 'c'>: 0, <Axis.Z: 'z'>: 0}) channel=Channel(config='DAPI') exposure=50.0 min_start_time=14.0 z_pos=-2.0\u001b[0m\n",
      "\u001b[38;20m2025-02-24 17:17:45,179 - pymmcore-plus - INFO - (_runner.py:278) index=mappingproxy({<Axis.TIME: 't'>: 7, <Axis.CHANNEL: 'c'>: 0, <Axis.Z: 'z'>: 1}) channel=Channel(config='DAPI') exposure=50.0 min_start_time=14.0 z_pos=-1.5\u001b[0m\n",
      "\u001b[38;20m2025-02-24 17:17:45,240 - pymmcore-plus - INFO - (_runner.py:278) index=mappingproxy({<Axis.TIME: 't'>: 7, <Axis.CHANNEL: 'c'>: 0, <Axis.Z: 'z'>: 2}) channel=Channel(config='DAPI') exposure=50.0 min_start_time=14.0 z_pos=-1.0\u001b[0m\n",
      "\u001b[38;20m2025-02-24 17:17:45,305 - pymmcore-plus - INFO - (_runner.py:278) index=mappingproxy({<Axis.TIME: 't'>: 7, <Axis.CHANNEL: 'c'>: 0, <Axis.Z: 'z'>: 3}) channel=Channel(config='DAPI') exposure=50.0 min_start_time=14.0 z_pos=-0.5\u001b[0m\n",
      "\u001b[38;20m2025-02-24 17:17:45,367 - pymmcore-plus - INFO - (_runner.py:278) index=mappingproxy({<Axis.TIME: 't'>: 7, <Axis.CHANNEL: 'c'>: 0, <Axis.Z: 'z'>: 4}) channel=Channel(config='DAPI') exposure=50.0 min_start_time=14.0 z_pos=0.0\u001b[0m\n",
      "\u001b[38;20m2025-02-24 17:17:45,429 - pymmcore-plus - INFO - (_runner.py:278) index=mappingproxy({<Axis.TIME: 't'>: 7, <Axis.CHANNEL: 'c'>: 0, <Axis.Z: 'z'>: 5}) channel=Channel(config='DAPI') exposure=50.0 min_start_time=14.0 z_pos=0.5\u001b[0m\n",
      "\u001b[38;20m2025-02-24 17:17:45,485 - pymmcore-plus - INFO - (_runner.py:278) index=mappingproxy({<Axis.TIME: 't'>: 7, <Axis.CHANNEL: 'c'>: 0, <Axis.Z: 'z'>: 6}) channel=Channel(config='DAPI') exposure=50.0 min_start_time=14.0 z_pos=1.0\u001b[0m\n",
      "\u001b[38;20m2025-02-24 17:17:45,549 - pymmcore-plus - INFO - (_runner.py:278) index=mappingproxy({<Axis.TIME: 't'>: 7, <Axis.CHANNEL: 'c'>: 0, <Axis.Z: 'z'>: 7}) channel=Channel(config='DAPI') exposure=50.0 min_start_time=14.0 z_pos=1.5\u001b[0m\n",
      "\u001b[38;20m2025-02-24 17:17:45,611 - pymmcore-plus - INFO - (_runner.py:278) index=mappingproxy({<Axis.TIME: 't'>: 7, <Axis.CHANNEL: 'c'>: 0, <Axis.Z: 'z'>: 8}) channel=Channel(config='DAPI') exposure=50.0 min_start_time=14.0 z_pos=2.0\u001b[0m\n",
      "\u001b[38;20m2025-02-24 17:17:45,673 - pymmcore-plus - INFO - (_runner.py:278) index=mappingproxy({<Axis.TIME: 't'>: 7, <Axis.CHANNEL: 'c'>: 1, <Axis.Z: 'z'>: 0}) channel=Channel(config='FITC') exposure=20.0 min_start_time=14.0 z_pos=-2.0\u001b[0m\n",
      "\u001b[38;20m2025-02-24 17:17:45,703 - pymmcore-plus - INFO - (_runner.py:278) index=mappingproxy({<Axis.TIME: 't'>: 7, <Axis.CHANNEL: 'c'>: 1, <Axis.Z: 'z'>: 1}) channel=Channel(config='FITC') exposure=20.0 min_start_time=14.0 z_pos=-1.5\u001b[0m\n",
      "\u001b[38;20m2025-02-24 17:17:45,734 - pymmcore-plus - INFO - (_runner.py:278) index=mappingproxy({<Axis.TIME: 't'>: 7, <Axis.CHANNEL: 'c'>: 1, <Axis.Z: 'z'>: 2}) channel=Channel(config='FITC') exposure=20.0 min_start_time=14.0 z_pos=-1.0\u001b[0m\n",
      "\u001b[38;20m2025-02-24 17:17:45,765 - pymmcore-plus - INFO - (_runner.py:278) index=mappingproxy({<Axis.TIME: 't'>: 7, <Axis.CHANNEL: 'c'>: 1, <Axis.Z: 'z'>: 3}) channel=Channel(config='FITC') exposure=20.0 min_start_time=14.0 z_pos=-0.5\u001b[0m\n",
      "\u001b[38;20m2025-02-24 17:17:45,795 - pymmcore-plus - INFO - (_runner.py:278) index=mappingproxy({<Axis.TIME: 't'>: 7, <Axis.CHANNEL: 'c'>: 1, <Axis.Z: 'z'>: 4}) channel=Channel(config='FITC') exposure=20.0 min_start_time=14.0 z_pos=0.0\u001b[0m\n",
      "\u001b[38;20m2025-02-24 17:17:45,827 - pymmcore-plus - INFO - (_runner.py:278) index=mappingproxy({<Axis.TIME: 't'>: 7, <Axis.CHANNEL: 'c'>: 1, <Axis.Z: 'z'>: 5}) channel=Channel(config='FITC') exposure=20.0 min_start_time=14.0 z_pos=0.5\u001b[0m\n",
      "\u001b[38;20m2025-02-24 17:17:45,858 - pymmcore-plus - INFO - (_runner.py:278) index=mappingproxy({<Axis.TIME: 't'>: 7, <Axis.CHANNEL: 'c'>: 1, <Axis.Z: 'z'>: 6}) channel=Channel(config='FITC') exposure=20.0 min_start_time=14.0 z_pos=1.0\u001b[0m\n",
      "\u001b[38;20m2025-02-24 17:17:45,891 - pymmcore-plus - INFO - (_runner.py:278) index=mappingproxy({<Axis.TIME: 't'>: 7, <Axis.CHANNEL: 'c'>: 1, <Axis.Z: 'z'>: 7}) channel=Channel(config='FITC') exposure=20.0 min_start_time=14.0 z_pos=1.5\u001b[0m\n",
      "\u001b[38;20m2025-02-24 17:17:45,921 - pymmcore-plus - INFO - (_runner.py:278) index=mappingproxy({<Axis.TIME: 't'>: 7, <Axis.CHANNEL: 'c'>: 1, <Axis.Z: 'z'>: 8}) channel=Channel(config='FITC') exposure=20.0 min_start_time=14.0 z_pos=2.0\u001b[0m\n",
      "\u001b[38;20m2025-02-24 17:17:47,116 - pymmcore-plus - INFO - (_runner.py:278) index=mappingproxy({<Axis.TIME: 't'>: 8, <Axis.CHANNEL: 'c'>: 0, <Axis.Z: 'z'>: 0}) channel=Channel(config='DAPI') exposure=50.0 min_start_time=16.0 z_pos=-2.0\u001b[0m\n",
      "\u001b[38;20m2025-02-24 17:17:47,182 - pymmcore-plus - INFO - (_runner.py:278) index=mappingproxy({<Axis.TIME: 't'>: 8, <Axis.CHANNEL: 'c'>: 0, <Axis.Z: 'z'>: 1}) channel=Channel(config='DAPI') exposure=50.0 min_start_time=16.0 z_pos=-1.5\u001b[0m\n",
      "\u001b[38;20m2025-02-24 17:17:47,241 - pymmcore-plus - INFO - (_runner.py:278) index=mappingproxy({<Axis.TIME: 't'>: 8, <Axis.CHANNEL: 'c'>: 0, <Axis.Z: 'z'>: 2}) channel=Channel(config='DAPI') exposure=50.0 min_start_time=16.0 z_pos=-1.0\u001b[0m\n",
      "\u001b[38;20m2025-02-24 17:17:47,304 - pymmcore-plus - INFO - (_runner.py:278) index=mappingproxy({<Axis.TIME: 't'>: 8, <Axis.CHANNEL: 'c'>: 0, <Axis.Z: 'z'>: 3}) channel=Channel(config='DAPI') exposure=50.0 min_start_time=16.0 z_pos=-0.5\u001b[0m\n",
      "\u001b[38;20m2025-02-24 17:17:47,366 - pymmcore-plus - INFO - (_runner.py:278) index=mappingproxy({<Axis.TIME: 't'>: 8, <Axis.CHANNEL: 'c'>: 0, <Axis.Z: 'z'>: 4}) channel=Channel(config='DAPI') exposure=50.0 min_start_time=16.0 z_pos=0.0\u001b[0m\n",
      "\u001b[38;20m2025-02-24 17:17:47,427 - pymmcore-plus - INFO - (_runner.py:278) index=mappingproxy({<Axis.TIME: 't'>: 8, <Axis.CHANNEL: 'c'>: 0, <Axis.Z: 'z'>: 5}) channel=Channel(config='DAPI') exposure=50.0 min_start_time=16.0 z_pos=0.5\u001b[0m\n",
      "\u001b[38;20m2025-02-24 17:17:47,490 - pymmcore-plus - INFO - (_runner.py:278) index=mappingproxy({<Axis.TIME: 't'>: 8, <Axis.CHANNEL: 'c'>: 0, <Axis.Z: 'z'>: 6}) channel=Channel(config='DAPI') exposure=50.0 min_start_time=16.0 z_pos=1.0\u001b[0m\n",
      "\u001b[38;20m2025-02-24 17:17:47,552 - pymmcore-plus - INFO - (_runner.py:278) index=mappingproxy({<Axis.TIME: 't'>: 8, <Axis.CHANNEL: 'c'>: 0, <Axis.Z: 'z'>: 7}) channel=Channel(config='DAPI') exposure=50.0 min_start_time=16.0 z_pos=1.5\u001b[0m\n",
      "\u001b[38;20m2025-02-24 17:17:47,612 - pymmcore-plus - INFO - (_runner.py:278) index=mappingproxy({<Axis.TIME: 't'>: 8, <Axis.CHANNEL: 'c'>: 0, <Axis.Z: 'z'>: 8}) channel=Channel(config='DAPI') exposure=50.0 min_start_time=16.0 z_pos=2.0\u001b[0m\n",
      "\u001b[38;20m2025-02-24 17:17:47,665 - pymmcore-plus - INFO - (_runner.py:278) index=mappingproxy({<Axis.TIME: 't'>: 8, <Axis.CHANNEL: 'c'>: 1, <Axis.Z: 'z'>: 0}) channel=Channel(config='FITC') exposure=20.0 min_start_time=16.0 z_pos=-2.0\u001b[0m\n",
      "\u001b[38;20m2025-02-24 17:17:47,691 - pymmcore-plus - INFO - (_runner.py:278) index=mappingproxy({<Axis.TIME: 't'>: 8, <Axis.CHANNEL: 'c'>: 1, <Axis.Z: 'z'>: 1}) channel=Channel(config='FITC') exposure=20.0 min_start_time=16.0 z_pos=-1.5\u001b[0m\n",
      "\u001b[38;20m2025-02-24 17:17:47,721 - pymmcore-plus - INFO - (_runner.py:278) index=mappingproxy({<Axis.TIME: 't'>: 8, <Axis.CHANNEL: 'c'>: 1, <Axis.Z: 'z'>: 2}) channel=Channel(config='FITC') exposure=20.0 min_start_time=16.0 z_pos=-1.0\u001b[0m\n",
      "\u001b[38;20m2025-02-24 17:17:47,752 - pymmcore-plus - INFO - (_runner.py:278) index=mappingproxy({<Axis.TIME: 't'>: 8, <Axis.CHANNEL: 'c'>: 1, <Axis.Z: 'z'>: 3}) channel=Channel(config='FITC') exposure=20.0 min_start_time=16.0 z_pos=-0.5\u001b[0m\n",
      "\u001b[38;20m2025-02-24 17:17:47,783 - pymmcore-plus - INFO - (_runner.py:278) index=mappingproxy({<Axis.TIME: 't'>: 8, <Axis.CHANNEL: 'c'>: 1, <Axis.Z: 'z'>: 4}) channel=Channel(config='FITC') exposure=20.0 min_start_time=16.0 z_pos=0.0\u001b[0m\n",
      "\u001b[38;20m2025-02-24 17:17:47,815 - pymmcore-plus - INFO - (_runner.py:278) index=mappingproxy({<Axis.TIME: 't'>: 8, <Axis.CHANNEL: 'c'>: 1, <Axis.Z: 'z'>: 5}) channel=Channel(config='FITC') exposure=20.0 min_start_time=16.0 z_pos=0.5\u001b[0m\n",
      "\u001b[38;20m2025-02-24 17:17:47,845 - pymmcore-plus - INFO - (_runner.py:278) index=mappingproxy({<Axis.TIME: 't'>: 8, <Axis.CHANNEL: 'c'>: 1, <Axis.Z: 'z'>: 6}) channel=Channel(config='FITC') exposure=20.0 min_start_time=16.0 z_pos=1.0\u001b[0m\n",
      "\u001b[38;20m2025-02-24 17:17:47,877 - pymmcore-plus - INFO - (_runner.py:278) index=mappingproxy({<Axis.TIME: 't'>: 8, <Axis.CHANNEL: 'c'>: 1, <Axis.Z: 'z'>: 7}) channel=Channel(config='FITC') exposure=20.0 min_start_time=16.0 z_pos=1.5\u001b[0m\n",
      "\u001b[38;20m2025-02-24 17:17:47,908 - pymmcore-plus - INFO - (_runner.py:278) index=mappingproxy({<Axis.TIME: 't'>: 8, <Axis.CHANNEL: 'c'>: 1, <Axis.Z: 'z'>: 8}) channel=Channel(config='FITC') exposure=20.0 min_start_time=16.0 z_pos=2.0\u001b[0m\n",
      "\u001b[38;20m2025-02-24 17:17:49,103 - pymmcore-plus - INFO - (_runner.py:278) index=mappingproxy({<Axis.TIME: 't'>: 9, <Axis.CHANNEL: 'c'>: 0, <Axis.Z: 'z'>: 0}) channel=Channel(config='DAPI') exposure=50.0 min_start_time=18.0 z_pos=-2.0\u001b[0m\n",
      "\u001b[38;20m2025-02-24 17:17:49,166 - pymmcore-plus - INFO - (_runner.py:278) index=mappingproxy({<Axis.TIME: 't'>: 9, <Axis.CHANNEL: 'c'>: 0, <Axis.Z: 'z'>: 1}) channel=Channel(config='DAPI') exposure=50.0 min_start_time=18.0 z_pos=-1.5\u001b[0m\n",
      "\u001b[38;20m2025-02-24 17:17:49,227 - pymmcore-plus - INFO - (_runner.py:278) index=mappingproxy({<Axis.TIME: 't'>: 9, <Axis.CHANNEL: 'c'>: 0, <Axis.Z: 'z'>: 2}) channel=Channel(config='DAPI') exposure=50.0 min_start_time=18.0 z_pos=-1.0\u001b[0m\n",
      "\u001b[38;20m2025-02-24 17:17:49,288 - pymmcore-plus - INFO - (_runner.py:278) index=mappingproxy({<Axis.TIME: 't'>: 9, <Axis.CHANNEL: 'c'>: 0, <Axis.Z: 'z'>: 3}) channel=Channel(config='DAPI') exposure=50.0 min_start_time=18.0 z_pos=-0.5\u001b[0m\n",
      "\u001b[38;20m2025-02-24 17:17:49,349 - pymmcore-plus - INFO - (_runner.py:278) index=mappingproxy({<Axis.TIME: 't'>: 9, <Axis.CHANNEL: 'c'>: 0, <Axis.Z: 'z'>: 4}) channel=Channel(config='DAPI') exposure=50.0 min_start_time=18.0 z_pos=0.0\u001b[0m\n",
      "\u001b[38;20m2025-02-24 17:17:49,412 - pymmcore-plus - INFO - (_runner.py:278) index=mappingproxy({<Axis.TIME: 't'>: 9, <Axis.CHANNEL: 'c'>: 0, <Axis.Z: 'z'>: 5}) channel=Channel(config='DAPI') exposure=50.0 min_start_time=18.0 z_pos=0.5\u001b[0m\n",
      "\u001b[38;20m2025-02-24 17:17:49,474 - pymmcore-plus - INFO - (_runner.py:278) index=mappingproxy({<Axis.TIME: 't'>: 9, <Axis.CHANNEL: 'c'>: 0, <Axis.Z: 'z'>: 6}) channel=Channel(config='DAPI') exposure=50.0 min_start_time=18.0 z_pos=1.0\u001b[0m\n",
      "\u001b[38;20m2025-02-24 17:17:49,535 - pymmcore-plus - INFO - (_runner.py:278) index=mappingproxy({<Axis.TIME: 't'>: 9, <Axis.CHANNEL: 'c'>: 0, <Axis.Z: 'z'>: 7}) channel=Channel(config='DAPI') exposure=50.0 min_start_time=18.0 z_pos=1.5\u001b[0m\n",
      "\u001b[38;20m2025-02-24 17:17:49,598 - pymmcore-plus - INFO - (_runner.py:278) index=mappingproxy({<Axis.TIME: 't'>: 9, <Axis.CHANNEL: 'c'>: 0, <Axis.Z: 'z'>: 8}) channel=Channel(config='DAPI') exposure=50.0 min_start_time=18.0 z_pos=2.0\u001b[0m\n",
      "\u001b[38;20m2025-02-24 17:17:49,658 - pymmcore-plus - INFO - (_runner.py:278) index=mappingproxy({<Axis.TIME: 't'>: 9, <Axis.CHANNEL: 'c'>: 1, <Axis.Z: 'z'>: 0}) channel=Channel(config='FITC') exposure=20.0 min_start_time=18.0 z_pos=-2.0\u001b[0m\n",
      "\u001b[38;20m2025-02-24 17:17:49,688 - pymmcore-plus - INFO - (_runner.py:278) index=mappingproxy({<Axis.TIME: 't'>: 9, <Axis.CHANNEL: 'c'>: 1, <Axis.Z: 'z'>: 1}) channel=Channel(config='FITC') exposure=20.0 min_start_time=18.0 z_pos=-1.5\u001b[0m\n",
      "\u001b[38;20m2025-02-24 17:17:49,720 - pymmcore-plus - INFO - (_runner.py:278) index=mappingproxy({<Axis.TIME: 't'>: 9, <Axis.CHANNEL: 'c'>: 1, <Axis.Z: 'z'>: 2}) channel=Channel(config='FITC') exposure=20.0 min_start_time=18.0 z_pos=-1.0\u001b[0m\n",
      "\u001b[38;20m2025-02-24 17:17:49,749 - pymmcore-plus - INFO - (_runner.py:278) index=mappingproxy({<Axis.TIME: 't'>: 9, <Axis.CHANNEL: 'c'>: 1, <Axis.Z: 'z'>: 3}) channel=Channel(config='FITC') exposure=20.0 min_start_time=18.0 z_pos=-0.5\u001b[0m\n",
      "\u001b[38;20m2025-02-24 17:17:49,795 - pymmcore-plus - INFO - (_runner.py:278) index=mappingproxy({<Axis.TIME: 't'>: 9, <Axis.CHANNEL: 'c'>: 1, <Axis.Z: 'z'>: 4}) channel=Channel(config='FITC') exposure=20.0 min_start_time=18.0 z_pos=0.0\u001b[0m\n",
      "\u001b[38;20m2025-02-24 17:17:49,829 - pymmcore-plus - INFO - (_runner.py:278) index=mappingproxy({<Axis.TIME: 't'>: 9, <Axis.CHANNEL: 'c'>: 1, <Axis.Z: 'z'>: 5}) channel=Channel(config='FITC') exposure=20.0 min_start_time=18.0 z_pos=0.5\u001b[0m\n",
      "\u001b[38;20m2025-02-24 17:17:49,868 - pymmcore-plus - INFO - (_runner.py:278) index=mappingproxy({<Axis.TIME: 't'>: 9, <Axis.CHANNEL: 'c'>: 1, <Axis.Z: 'z'>: 6}) channel=Channel(config='FITC') exposure=20.0 min_start_time=18.0 z_pos=1.0\u001b[0m\n",
      "\u001b[38;20m2025-02-24 17:17:49,899 - pymmcore-plus - INFO - (_runner.py:278) index=mappingproxy({<Axis.TIME: 't'>: 9, <Axis.CHANNEL: 'c'>: 1, <Axis.Z: 'z'>: 7}) channel=Channel(config='FITC') exposure=20.0 min_start_time=18.0 z_pos=1.5\u001b[0m\n",
      "\u001b[38;20m2025-02-24 17:17:49,930 - pymmcore-plus - INFO - (_runner.py:278) index=mappingproxy({<Axis.TIME: 't'>: 9, <Axis.CHANNEL: 'c'>: 1, <Axis.Z: 'z'>: 8}) channel=Channel(config='FITC') exposure=20.0 min_start_time=18.0 z_pos=2.0\u001b[0m\n",
      "\u001b[38;20m2025-02-24 17:17:49,961 - pymmcore-plus - INFO - (_runner.py:403) MDA Finished: channels=(Channel(config='DAPI', exposure=50.0), Channel(config='FITC', exposure=20.0)) time_plan=TIntervalLoops(interval=datetime.timedelta(seconds=2), loops=10) z_plan=ZRangeAround(range=4.0, step=0.5)\u001b[0m\n"
     ]
    }
   ],
   "source": [
    "import useq\n",
    "\n",
    "# create a sequence\n",
    "mda_sequence = useq.MDASequence(\n",
    "    time_plan={\"interval\": 2, \"loops\": 10},\n",
    "    z_plan={\"range\": 4, \"step\": 0.5},\n",
    "    channels=[\n",
    "        {\"config\": \"DAPI\", \"exposure\": 50},\n",
    "        {\"config\": \"FITC\", \"exposure\": 20},\n",
    "    ]\n",
    ")\n",
    "\n",
    "# Run it!\n",
    "core.run_mda(mda_sequence)"
   ]
  },
  {
   "cell_type": "code",
   "execution_count": null,
   "metadata": {},
   "outputs": [],
   "source": []
  },
  {
   "cell_type": "code",
   "execution_count": 30,
   "metadata": {},
   "outputs": [
    {
     "data": {
      "text/plain": [
       "('',)"
      ]
     },
     "execution_count": 30,
     "metadata": {},
     "output_type": "execute_result"
    }
   ],
   "source": [
    "core.getCameraChannelNames()"
   ]
  },
  {
   "cell_type": "code",
   "execution_count": 31,
   "metadata": {},
   "outputs": [],
   "source": [
    "core.snapImage()"
   ]
  },
  {
   "cell_type": "code",
   "execution_count": 32,
   "metadata": {},
   "outputs": [
    {
     "data": {
      "text/plain": [
       "array([[16383, 16068, 15752, ..., 17328, 17014, 16698],\n",
       "       [16344, 16028, 15713, ..., 17289, 16974, 16659],\n",
       "       [16304, 15989, 15674, ..., 17250, 16935, 16620],\n",
       "       ...,\n",
       "       [ 3534,  3535,  3543, ...,  3577,  3555,  3540],\n",
       "       [ 3533,  3535,  3545, ...,  3574,  3553,  3539],\n",
       "       [ 3533,  3536,  3547, ...,  3571,  3550,  3538]], dtype=uint16)"
      ]
     },
     "execution_count": 32,
     "metadata": {},
     "output_type": "execute_result"
    }
   ],
   "source": [
    "core.getImage()"
   ]
  },
  {
   "cell_type": "code",
   "execution_count": 33,
   "metadata": {},
   "outputs": [
    {
     "data": {
      "text/plain": [
       "<matplotlib.image.AxesImage at 0x21aa8b03a30>"
      ]
     },
     "execution_count": 33,
     "metadata": {},
     "output_type": "execute_result"
    },
    {
     "data": {
      "image/png": "[encoded data removed]",
      "text/plain": [
       "<Figure size 640x480 with 1 Axes>"
      ]
     },
     "metadata": {},
     "output_type": "display_data"
    }
   ],
   "source": [
    "import matplotlib.pylab as plt\n",
    "\n",
    "\n",
    "plt.imshow(core.getImage(), cmap='gray')"
   ]
  },
  {
   "cell_type": "code",
   "execution_count": 71,
   "metadata": {},
   "outputs": [],
   "source": [
    "import napari"
   ]
  },
  {
   "cell_type": "code",
   "execution_count": 110,
   "metadata": {},
   "outputs": [],
   "source": [
    "import napari.viewer\n",
    "\n",
    "\n",
    "Viewer = napari.Viewer()"
   ]
  },
  {
   "cell_type": "code",
   "execution_count": 75,
   "metadata": {},
   "outputs": [
    {
     "data": {
      "text/plain": [
       "'Rhodamine'"
      ]
     },
     "execution_count": 75,
     "metadata": {},
     "output_type": "execute_result"
    }
   ],
   "source": [
    "core.getCurrentConfig('Channel')"
   ]
  },
  {
   "cell_type": "code",
   "execution_count": 112,
   "metadata": {},
   "outputs": [],
   "source": [
    "core.deleteConfig('Channel', 'DAPI','Dichroic', 'Label')"
   ]
  },
  {
   "cell_type": "code",
   "execution_count": 106,
   "metadata": {},
   "outputs": [
    {
     "data": {
      "text/plain": [
       "{'Emission': {'Label': 'Chroma-HQ620'},\n",
       " 'Excitation': {'Label': 'Chroma-D360'},\n",
       " 'Core': {'Shutter': 'White Light Shutter'}}"
      ]
     },
     "execution_count": 106,
     "metadata": {},
     "output_type": "execute_result"
    }
   ],
   "source": [
    "core.getConfigData('Channel', 'DAPI').dict()"
   ]
  },
  {
   "cell_type": "code",
   "execution_count": 26,
   "metadata": {},
   "outputs": [],
   "source": [
    "try:\n",
    "    core.defineConfig('Channel', 'DAPI', 'Dichroic', 'Label', '400DCLP')\n",
    "except:\n",
    "    pass"
   ]
  },
  {
   "cell_type": "code",
   "execution_count": 27,
   "metadata": {},
   "outputs": [
    {
     "data": {
      "text/plain": [
       "{'Dichroic': {'Label': '400DCLP'},\n",
       " 'Emission': {'Label': 'Chroma-HQ620'},\n",
       " 'Excitation': {'Label': 'Chroma-D360'},\n",
       " 'Core': {'Shutter': 'White Light Shutter'}}"
      ]
     },
     "execution_count": 27,
     "metadata": {},
     "output_type": "execute_result"
    }
   ],
   "source": [
    "core.getConfigData('Channel', 'DAPI').dict()"
   ]
  },
  {
   "cell_type": "code",
   "execution_count": 28,
   "metadata": {},
   "outputs": [
    {
     "data": {
      "text/plain": [
       "{'valid': True,\n",
       " 'value': '400DCLP',\n",
       " 'type': 'string',\n",
       " 'device_type': 'StateDevice',\n",
       " 'read_only': False,\n",
       " 'sequenceable': False,\n",
       " 'sequence_max_length': None,\n",
       " 'pre_init': False,\n",
       " 'range': None,\n",
       " 'allowed_values': ('400DCLP',\n",
       "  '89402bs',\n",
       "  'Q505LP',\n",
       "  'Q585LP',\n",
       "  'State-4',\n",
       "  'State-5',\n",
       "  'State-6',\n",
       "  'State-7',\n",
       "  'State-8',\n",
       "  'State-9')}"
      ]
     },
     "execution_count": 28,
     "metadata": {},
     "output_type": "execute_result"
    }
   ],
   "source": [
    "core.getPropertyObject('Dichroic', 'Label').dict()"
   ]
  }
 ],
 "metadata": {
  "kernelspec": {
   "display_name": "masterThesis",
   "language": "python",
   "name": "python3"
  },
  "language_info": {
   "codemirror_mode": {
    "name": "ipython",
    "version": 3
   },
   "file_extension": ".py",
   "mimetype": "text/x-python",
   "name": "python",
   "nbconvert_exporter": "python",
   "pygments_lexer": "ipython3",
   "version": "3.9.21"
  }
 },
 "nbformat": 4,
 "nbformat_minor": 2
}
